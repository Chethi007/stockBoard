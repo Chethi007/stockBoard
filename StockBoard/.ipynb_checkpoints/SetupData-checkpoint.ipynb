{
 "cells": [
  {
   "cell_type": "code",
   "execution_count": 4,
   "metadata": {},
   "outputs": [],
   "source": [
    "import pandas as pd\n",
    "import numpy as np\n",
    "import plotly.graph_objects as go\n",
    "from dateutil.parser import parse"
   ]
  },
  {
   "cell_type": "markdown",
   "metadata": {},
   "source": [
    "# structure (current Investment)\n",
    "- Name: \n",
    "- Number of Stocks\n",
    "- value\n",
    "- buyDate \n",
    "- TotalCost\n",
    "- External Charges\n",
    "\n",
    "\n",
    "- user ID\n",
    "P139346"
   ]
  },
  {
   "cell_type": "code",
   "execution_count": 5,
   "metadata": {},
   "outputs": [
    {
     "name": "stdout",
     "output_type": "stream",
     "text": [
      "2020-01-20 00:00:00\n"
     ]
    }
   ],
   "source": [
    "dt = parse(\"20/01/2020\")\n",
    "print(dt)"
   ]
  },
  {
   "cell_type": "code",
   "execution_count": 82,
   "metadata": {},
   "outputs": [],
   "source": [
    "# enter data Buying Data\n",
    "data = [['SBIN',3,311,parse(\"2020/02/03\"),934.13],\n",
    "        ['SBIN',10,198.70,parse(\"2020/03/26\"),1987.00,20],\n",
    "       ['YESBANK',1,37.10,parse(\"2020/03/05\"),37.11],\n",
    "        ['ONGC',10,74.55,parse(\"2020/03/09\"),746.60],\n",
    "        ['INFY',3,779.00,parse(\"2020/07/08\"),2339.08],\n",
    "        ['SBIN',13,198.40,parse(\"2020/07/10\"),2582.30],\n",
    "        ['IOLCP',23,770.52,parse(\"2020/07/21\"),17743.36],\n",
    "        ['SBICARDS',13,755,parse(\"2020/03/20\"),14345],\n",
    "       ]\n",
    "df = pd.DataFrame(data)\n",
    "df.fillna(0,inplace=True)\n",
    "df.columns = ['Name','NumberOfStocks','BuyingPrice','BuyDate','TotalCost','ExtraCharges']\n",
    "df[\"BrokerageCost\"] = df.TotalCost - df.NumberOfStocks*df.BuyingPrice + df.ExtraCharges"
   ]
  },
  {
   "cell_type": "code",
   "execution_count": 83,
   "metadata": {},
   "outputs": [
    {
     "data": {
      "text/html": [
       "<div>\n",
       "<style scoped>\n",
       "    .dataframe tbody tr th:only-of-type {\n",
       "        vertical-align: middle;\n",
       "    }\n",
       "\n",
       "    .dataframe tbody tr th {\n",
       "        vertical-align: top;\n",
       "    }\n",
       "\n",
       "    .dataframe thead th {\n",
       "        text-align: right;\n",
       "    }\n",
       "</style>\n",
       "<table border=\"1\" class=\"dataframe\">\n",
       "  <thead>\n",
       "    <tr style=\"text-align: right;\">\n",
       "      <th></th>\n",
       "      <th>Name</th>\n",
       "      <th>NumberOfStocks</th>\n",
       "      <th>BuyingPrice</th>\n",
       "      <th>BuyDate</th>\n",
       "      <th>TotalCost</th>\n",
       "      <th>ExtraCharges</th>\n",
       "      <th>BrokerageCost</th>\n",
       "    </tr>\n",
       "  </thead>\n",
       "  <tbody>\n",
       "    <tr>\n",
       "      <th>0</th>\n",
       "      <td>SBIN</td>\n",
       "      <td>3</td>\n",
       "      <td>311.00</td>\n",
       "      <td>2020-02-03</td>\n",
       "      <td>934.13</td>\n",
       "      <td>0.0</td>\n",
       "      <td>1.13</td>\n",
       "    </tr>\n",
       "    <tr>\n",
       "      <th>1</th>\n",
       "      <td>SBIN</td>\n",
       "      <td>10</td>\n",
       "      <td>198.70</td>\n",
       "      <td>2020-03-26</td>\n",
       "      <td>1987.00</td>\n",
       "      <td>20.0</td>\n",
       "      <td>20.00</td>\n",
       "    </tr>\n",
       "    <tr>\n",
       "      <th>2</th>\n",
       "      <td>YESBANK</td>\n",
       "      <td>1</td>\n",
       "      <td>37.10</td>\n",
       "      <td>2020-03-05</td>\n",
       "      <td>37.11</td>\n",
       "      <td>0.0</td>\n",
       "      <td>0.01</td>\n",
       "    </tr>\n",
       "    <tr>\n",
       "      <th>3</th>\n",
       "      <td>ONGC</td>\n",
       "      <td>10</td>\n",
       "      <td>74.55</td>\n",
       "      <td>2020-03-09</td>\n",
       "      <td>746.60</td>\n",
       "      <td>0.0</td>\n",
       "      <td>1.10</td>\n",
       "    </tr>\n",
       "    <tr>\n",
       "      <th>4</th>\n",
       "      <td>INFY</td>\n",
       "      <td>3</td>\n",
       "      <td>779.00</td>\n",
       "      <td>2020-07-08</td>\n",
       "      <td>2339.08</td>\n",
       "      <td>0.0</td>\n",
       "      <td>2.08</td>\n",
       "    </tr>\n",
       "    <tr>\n",
       "      <th>5</th>\n",
       "      <td>SBIN</td>\n",
       "      <td>13</td>\n",
       "      <td>198.40</td>\n",
       "      <td>2020-07-10</td>\n",
       "      <td>2582.30</td>\n",
       "      <td>0.0</td>\n",
       "      <td>3.10</td>\n",
       "    </tr>\n",
       "    <tr>\n",
       "      <th>6</th>\n",
       "      <td>IOLCP</td>\n",
       "      <td>23</td>\n",
       "      <td>770.52</td>\n",
       "      <td>2020-07-21</td>\n",
       "      <td>17743.36</td>\n",
       "      <td>0.0</td>\n",
       "      <td>21.40</td>\n",
       "    </tr>\n",
       "    <tr>\n",
       "      <th>7</th>\n",
       "      <td>SBICARDS</td>\n",
       "      <td>13</td>\n",
       "      <td>755.00</td>\n",
       "      <td>2020-03-20</td>\n",
       "      <td>14345.00</td>\n",
       "      <td>0.0</td>\n",
       "      <td>4530.00</td>\n",
       "    </tr>\n",
       "  </tbody>\n",
       "</table>\n",
       "</div>"
      ],
      "text/plain": [
       "       Name  NumberOfStocks  BuyingPrice    BuyDate  TotalCost  ExtraCharges  \\\n",
       "0      SBIN               3       311.00 2020-02-03     934.13           0.0   \n",
       "1      SBIN              10       198.70 2020-03-26    1987.00          20.0   \n",
       "2   YESBANK               1        37.10 2020-03-05      37.11           0.0   \n",
       "3      ONGC              10        74.55 2020-03-09     746.60           0.0   \n",
       "4      INFY               3       779.00 2020-07-08    2339.08           0.0   \n",
       "5      SBIN              13       198.40 2020-07-10    2582.30           0.0   \n",
       "6     IOLCP              23       770.52 2020-07-21   17743.36           0.0   \n",
       "7  SBICARDS              13       755.00 2020-03-20   14345.00           0.0   \n",
       "\n",
       "   BrokerageCost  \n",
       "0           1.13  \n",
       "1          20.00  \n",
       "2           0.01  \n",
       "3           1.10  \n",
       "4           2.08  \n",
       "5           3.10  \n",
       "6          21.40  \n",
       "7        4530.00  "
      ]
     },
     "execution_count": 83,
     "metadata": {},
     "output_type": "execute_result"
    }
   ],
   "source": [
    "df"
   ]
  },
  {
   "cell_type": "code",
   "execution_count": 84,
   "metadata": {},
   "outputs": [],
   "source": [
    "# enter data SElling Data\n",
    "dataSell = [  ['SBIN',10,196.50,parse(\"2020/03/26\"),1965.00,27.43],\n",
    "       ['INFY',3,932.00,parse(\"2020/07/16\"),2792.89],\n",
    "           ['SBICARDS',19,796,parse(\"2020/07/21\"),15108.15]]\n",
    "dfs = pd.DataFrame(dataSell)\n",
    "dfs.fillna(0,inplace=True)\n",
    "dfs.columns = ['Name','NumberOfStocks','BuyingPrice','BuyDate','TotalCost','ExtraCharges']\n",
    "dfs[\"BrokerageCost\"] = abs(dfs.TotalCost - dfs.NumberOfStocks*dfs.BuyingPrice + dfs.ExtraCharges)"
   ]
  },
  {
   "cell_type": "code",
   "execution_count": 85,
   "metadata": {},
   "outputs": [
    {
     "data": {
      "text/html": [
       "<div>\n",
       "<style scoped>\n",
       "    .dataframe tbody tr th:only-of-type {\n",
       "        vertical-align: middle;\n",
       "    }\n",
       "\n",
       "    .dataframe tbody tr th {\n",
       "        vertical-align: top;\n",
       "    }\n",
       "\n",
       "    .dataframe thead th {\n",
       "        text-align: right;\n",
       "    }\n",
       "</style>\n",
       "<table border=\"1\" class=\"dataframe\">\n",
       "  <thead>\n",
       "    <tr style=\"text-align: right;\">\n",
       "      <th></th>\n",
       "      <th>Name</th>\n",
       "      <th>NumberOfStocks</th>\n",
       "      <th>BuyingPrice</th>\n",
       "      <th>BuyDate</th>\n",
       "      <th>TotalCost</th>\n",
       "      <th>ExtraCharges</th>\n",
       "      <th>BrokerageCost</th>\n",
       "    </tr>\n",
       "  </thead>\n",
       "  <tbody>\n",
       "    <tr>\n",
       "      <th>0</th>\n",
       "      <td>SBIN</td>\n",
       "      <td>10</td>\n",
       "      <td>196.5</td>\n",
       "      <td>2020-03-26</td>\n",
       "      <td>1965.00</td>\n",
       "      <td>27.43</td>\n",
       "      <td>27.43</td>\n",
       "    </tr>\n",
       "    <tr>\n",
       "      <th>1</th>\n",
       "      <td>INFY</td>\n",
       "      <td>3</td>\n",
       "      <td>932.0</td>\n",
       "      <td>2020-07-16</td>\n",
       "      <td>2792.89</td>\n",
       "      <td>0.00</td>\n",
       "      <td>3.11</td>\n",
       "    </tr>\n",
       "    <tr>\n",
       "      <th>2</th>\n",
       "      <td>SBICARDS</td>\n",
       "      <td>19</td>\n",
       "      <td>796.0</td>\n",
       "      <td>2020-07-21</td>\n",
       "      <td>15108.15</td>\n",
       "      <td>0.00</td>\n",
       "      <td>15.85</td>\n",
       "    </tr>\n",
       "  </tbody>\n",
       "</table>\n",
       "</div>"
      ],
      "text/plain": [
       "       Name  NumberOfStocks  BuyingPrice    BuyDate  TotalCost  ExtraCharges  \\\n",
       "0      SBIN              10        196.5 2020-03-26    1965.00         27.43   \n",
       "1      INFY               3        932.0 2020-07-16    2792.89          0.00   \n",
       "2  SBICARDS              19        796.0 2020-07-21   15108.15          0.00   \n",
       "\n",
       "   BrokerageCost  \n",
       "0          27.43  \n",
       "1           3.11  \n",
       "2          15.85  "
      ]
     },
     "execution_count": 85,
     "metadata": {},
     "output_type": "execute_result"
    }
   ],
   "source": [
    "dfs"
   ]
  },
  {
   "cell_type": "code",
   "execution_count": 86,
   "metadata": {},
   "outputs": [],
   "source": [
    "# Demat acc. investment\n",
    "dataAcc = [  [1000,parse(\"2020/02/29\"),'add'],\n",
    "            [740,parse(\"2020/03/09\"),'add'],\n",
    "            [50,parse(\"2020/03/30\"),'Div'],\n",
    "           [5000,parse(\"2020/03/08\"),'add'],\n",
    "           [8000,parse(\"2020/03/08\"),'add'],\n",
    "           [14345,parse(\"2020/03/20\"),'add']\n",
    "           \n",
    "      ]\n",
    "\n",
    "\n",
    "dfAcc = pd.DataFrame(dataAcc)\n",
    "dfAcc.fillna(0,inplace=True)\n",
    "dfAcc.columns = ['Amount','Date','Description']"
   ]
  },
  {
   "cell_type": "code",
   "execution_count": 87,
   "metadata": {},
   "outputs": [
    {
     "data": {
      "text/html": [
       "<div>\n",
       "<style scoped>\n",
       "    .dataframe tbody tr th:only-of-type {\n",
       "        vertical-align: middle;\n",
       "    }\n",
       "\n",
       "    .dataframe tbody tr th {\n",
       "        vertical-align: top;\n",
       "    }\n",
       "\n",
       "    .dataframe thead th {\n",
       "        text-align: right;\n",
       "    }\n",
       "</style>\n",
       "<table border=\"1\" class=\"dataframe\">\n",
       "  <thead>\n",
       "    <tr style=\"text-align: right;\">\n",
       "      <th></th>\n",
       "      <th>Amount</th>\n",
       "      <th>Date</th>\n",
       "      <th>Description</th>\n",
       "    </tr>\n",
       "  </thead>\n",
       "  <tbody>\n",
       "    <tr>\n",
       "      <th>0</th>\n",
       "      <td>1000</td>\n",
       "      <td>2020-02-29</td>\n",
       "      <td>add</td>\n",
       "    </tr>\n",
       "    <tr>\n",
       "      <th>1</th>\n",
       "      <td>740</td>\n",
       "      <td>2020-03-09</td>\n",
       "      <td>add</td>\n",
       "    </tr>\n",
       "    <tr>\n",
       "      <th>2</th>\n",
       "      <td>50</td>\n",
       "      <td>2020-03-30</td>\n",
       "      <td>Div</td>\n",
       "    </tr>\n",
       "    <tr>\n",
       "      <th>3</th>\n",
       "      <td>5000</td>\n",
       "      <td>2020-03-08</td>\n",
       "      <td>add</td>\n",
       "    </tr>\n",
       "    <tr>\n",
       "      <th>4</th>\n",
       "      <td>8000</td>\n",
       "      <td>2020-03-08</td>\n",
       "      <td>add</td>\n",
       "    </tr>\n",
       "    <tr>\n",
       "      <th>5</th>\n",
       "      <td>14345</td>\n",
       "      <td>2020-03-20</td>\n",
       "      <td>add</td>\n",
       "    </tr>\n",
       "  </tbody>\n",
       "</table>\n",
       "</div>"
      ],
      "text/plain": [
       "   Amount       Date Description\n",
       "0    1000 2020-02-29         add\n",
       "1     740 2020-03-09         add\n",
       "2      50 2020-03-30         Div\n",
       "3    5000 2020-03-08         add\n",
       "4    8000 2020-03-08         add\n",
       "5   14345 2020-03-20         add"
      ]
     },
     "execution_count": 87,
     "metadata": {},
     "output_type": "execute_result"
    }
   ],
   "source": [
    "\n",
    "dfAcc"
   ]
  },
  {
   "cell_type": "code",
   "execution_count": 90,
   "metadata": {},
   "outputs": [
    {
     "name": "stdout",
     "output_type": "stream",
     "text": [
      "Account Balance 8239.029999999999\n"
     ]
    }
   ],
   "source": [
    "currBalance = sum(dfAcc.Amount)-(sum(df.TotalCost)+sum(df.ExtraCharges)+sum(dfs.ExtraCharges)-sum(dfs.TotalCost))\n",
    "print(f\"Account Balance {currBalance}\")"
   ]
  },
  {
   "cell_type": "code",
   "execution_count": 94,
   "metadata": {},
   "outputs": [],
   "source": [
    "# profit\n",
    "profit = (sum(dfs.TotalCost)-sum(dfs.ExtraCharges))+(sum(df.TotalCost)-sum(df.ExtraCharges)) -sum(dfAcc[dfAcc.Description == 'add'].Amount) "
   ]
  },
  {
   "cell_type": "code",
   "execution_count": 95,
   "metadata": {},
   "outputs": [
    {
     "data": {
      "text/plain": [
       "31448.190000000002"
      ]
     },
     "execution_count": 95,
     "metadata": {},
     "output_type": "execute_result"
    }
   ],
   "source": [
    "profit"
   ]
  },
  {
   "cell_type": "code",
   "execution_count": null,
   "metadata": {},
   "outputs": [],
   "source": []
  }
 ],
 "metadata": {
  "kernelspec": {
   "display_name": "Python 3",
   "language": "python",
   "name": "python3"
  },
  "language_info": {
   "codemirror_mode": {
    "name": "ipython",
    "version": 3
   },
   "file_extension": ".py",
   "mimetype": "text/x-python",
   "name": "python",
   "nbconvert_exporter": "python",
   "pygments_lexer": "ipython3",
   "version": "3.7.6"
  }
 },
 "nbformat": 4,
 "nbformat_minor": 4
}
