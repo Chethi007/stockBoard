{
 "cells": [
  {
   "cell_type": "code",
   "execution_count": 39,
   "metadata": {},
   "outputs": [],
   "source": [
    "import scripts as S\n",
    "import os\n",
    "import pandas as pd\n",
    "import importlib"
   ]
  },
  {
   "cell_type": "code",
   "execution_count": 41,
   "metadata": {
    "scrolled": true
   },
   "outputs": [],
   "source": [
    "class BackTest:\n",
    "    def __init__(self,loc):\n",
    "        self.loc = loc\n",
    "        self.allStockList = os.listdir(self.loc)\n",
    "        self.stockVal = 'close'\n",
    "        self.scriptPath = \"scripts\"\n",
    "        self.savePath = \"results\"\n",
    "        \n",
    "    def parseAction(self,a):\n",
    "        a = a.lower()\n",
    "        if a in ['buy','sell']:\n",
    "            return a\n",
    "        return ''\n",
    "    \n",
    "    def getTradeSummary(self,df,trades):\n",
    "        totalBuy = 0\n",
    "        totalSell = 0\n",
    "        totalInvestment = 0\n",
    "        totalNetWorth = 0\n",
    "        NumberOfTrades = 0\n",
    "        stocksInHand = 0 # shorting is not allowed\n",
    "        \n",
    "        assert len(df) == len(trades),\"len of trade should be equal to stock result\"\n",
    "        L = len(df)\n",
    "        \n",
    "        for i in range(L):\n",
    "            trade = trades[i]\n",
    "            stock = df.iloc[i]\n",
    "            \n",
    "            action = self.parseAction(trade['actions'])\n",
    "            qty  = int(0 if trade['quantity'] == '' else trade['quantity'])\n",
    "            \n",
    "            if action == 'buy':\n",
    "                totalBuy += qty\n",
    "                totalInvestment += qty*stock[self.stockVal]\n",
    "                stocksInHand += qty\n",
    "                \n",
    "            if action == 'sell':\n",
    "                \n",
    "                totalSell += qty  \n",
    "                totalNetWorth += qty*stock[self.stockVal]\n",
    "                assert stocksInHand >= qty,\"trying to sell more than you have\"\n",
    "                stocksInHand -= qty\n",
    "                \n",
    "            if action in ['buy','sell']:\n",
    "                NumberOfTrades += 1\n",
    "        \n",
    "        ans = {}\n",
    "        ans[\"totalInvestment\"] = totalInvestment\n",
    "        ans[\"totalNetWorth\"] = totalNetWorth\n",
    "        ans[\"NumberOfTrades\"] = NumberOfTrades\n",
    "        ans[\"totalBuy\"] = totalBuy\n",
    "        ans[\"totalSell\"] = totalSell\n",
    "        ans[\"currentStocksInHandValue\"] = 0\n",
    "#         print(df.iloc[-1][self.stockVal],stocksInHand,\"stocks in hand\")\n",
    "        if stocksInHand > 0:\n",
    "            ans[\"currentStocksInHandValue\"] = df.iloc[-1][self.stockVal]*stocksInHand\n",
    "        try:\n",
    "            ans[\"profitPercent\"] = (ans[\"totalNetWorth\"]+ans[\"currentStocksInHandValue\"]\n",
    "                              -ans[\"totalInvestment\"])/ans[\"totalInvestment\"]\n",
    "        except:\n",
    "            ans[\"profitPercent\"] = 0\n",
    "        return ans\n",
    "        \n",
    "    def getScriptsName(self):\n",
    "        names = [i[:-3] for i in os.listdir(self.scriptPath) if i[-3:] == '.py' and i != '__init__.py']\n",
    "        return names\n",
    "    \n",
    "    def backtest(self,scriptName,stocksList=[]):\n",
    "        \"\"\"scriptFunciton import and pass it \n",
    "        stocksList if empty will pick all the stocks else only the provided ones\"\"\"\n",
    "        stocksList = self.allStockList if len(stocksList) == 0 else stocksList\n",
    "        scriptName = self.getScriptsName() if len(scriptName) == 0 else scriptName\n",
    "\n",
    "        for sc_name in scriptName:\n",
    "            # select Scripts\n",
    "            module = importlib.import_module('scripts.'+sc_name)\n",
    "            scriptFunction = module.run\n",
    "            li = []\n",
    "            for i in stocksList:\n",
    "                df = pd.read_csv(os.path.join(loc,i))\n",
    "                trades = scriptFunction(df)\n",
    "                res = self.getTradeSummary(df,trades)\n",
    "                res[\"name\"] = i.split('.')[0]\n",
    "                print(i,end = ' ')\n",
    "                li.append(res)\n",
    "\n",
    "            df = pd.DataFrame(li)\n",
    "            df.to_csv(os.path.join(self.savePath,sc_name+\".csv\"),index=False)\n",
    "            print(sc_name)\n",
    "\n",
    "stocksList = []#['ONGC.csv','RELIANCE.csv','INFY.csv']\n",
    "scriptNames = []\n",
    "loc = \"../data/stockData/daily/\"\n",
    "scriptPath = \"scripts\"\n",
    "bt = BackTest(loc)\n",
    "# bt.backtest(scriptNames,stocksList)"
   ]
  },
  {
   "cell_type": "code",
   "execution_count": 56,
   "metadata": {},
   "outputs": [],
   "source": [
    "df = pd.read_csv(loc+\"ONGC.csv\")"
   ]
  },
  {
   "cell_type": "code",
   "execution_count": 59,
   "metadata": {},
   "outputs": [],
   "source": [
    "df[\"avgShort\"] = df[\"close\"].rolling(window=5).mean()\n",
    "df[\"avgLong\"] = df[\"close\"].rolling(window=10).mean()"
   ]
  },
  {
   "cell_type": "code",
   "execution_count": 60,
   "metadata": {},
   "outputs": [
    {
     "data": {
      "text/plain": [
       "<AxesSubplot:xlabel='timestamp'>"
      ]
     },
     "execution_count": 60,
     "metadata": {},
     "output_type": "execute_result"
    },
    {
     "data": {
      "image/png": "[encoded data removed]",
      "text/plain": [
       "<Figure size 432x288 with 1 Axes>"
      ]
     },
     "metadata": {
      "needs_background": "light"
     },
     "output_type": "display_data"
    }
   ],
   "source": [
    "df.iloc[0:100].plot(x='timestamp',y=['close','avgShort','avgLong'])"
   ]
  },
  {
   "cell_type": "code",
   "execution_count": 50,
   "metadata": {},
   "outputs": [
    {
     "data": {
      "text/html": [
       "<div>\n",
       "<style scoped>\n",
       "    .dataframe tbody tr th:only-of-type {\n",
       "        vertical-align: middle;\n",
       "    }\n",
       "\n",
       "    .dataframe tbody tr th {\n",
       "        vertical-align: top;\n",
       "    }\n",
       "\n",
       "    .dataframe thead th {\n",
       "        text-align: right;\n",
       "    }\n",
       "</style>\n",
       "<table border=\"1\" class=\"dataframe\">\n",
       "  <thead>\n",
       "    <tr style=\"text-align: right;\">\n",
       "      <th></th>\n",
       "      <th>timestamp</th>\n",
       "      <th>open</th>\n",
       "      <th>high</th>\n",
       "      <th>low</th>\n",
       "      <th>close</th>\n",
       "      <th>volume</th>\n",
       "      <th>avg5</th>\n",
       "    </tr>\n",
       "  </thead>\n",
       "  <tbody>\n",
       "    <tr>\n",
       "      <th>0</th>\n",
       "      <td>2000-01-03</td>\n",
       "      <td>8.813110</td>\n",
       "      <td>9.217224</td>\n",
       "      <td>8.813110</td>\n",
       "      <td>9.176382</td>\n",
       "      <td>86400</td>\n",
       "      <td>NaN</td>\n",
       "    </tr>\n",
       "    <tr>\n",
       "      <th>1</th>\n",
       "      <td>2000-01-04</td>\n",
       "      <td>8.662642</td>\n",
       "      <td>9.015167</td>\n",
       "      <td>8.641147</td>\n",
       "      <td>8.879746</td>\n",
       "      <td>161100</td>\n",
       "      <td>NaN</td>\n",
       "    </tr>\n",
       "    <tr>\n",
       "      <th>2</th>\n",
       "      <td>2000-01-05</td>\n",
       "      <td>8.641150</td>\n",
       "      <td>9.591247</td>\n",
       "      <td>8.619654</td>\n",
       "      <td>9.591247</td>\n",
       "      <td>243000</td>\n",
       "      <td>NaN</td>\n",
       "    </tr>\n",
       "    <tr>\n",
       "      <th>3</th>\n",
       "      <td>2000-01-06</td>\n",
       "      <td>10.059845</td>\n",
       "      <td>10.098537</td>\n",
       "      <td>9.354795</td>\n",
       "      <td>9.427880</td>\n",
       "      <td>320400</td>\n",
       "      <td>NaN</td>\n",
       "    </tr>\n",
       "    <tr>\n",
       "      <th>4</th>\n",
       "      <td>2000-01-07</td>\n",
       "      <td>9.586947</td>\n",
       "      <td>9.586947</td>\n",
       "      <td>9.157039</td>\n",
       "      <td>9.275264</td>\n",
       "      <td>102600</td>\n",
       "      <td>9.270104</td>\n",
       "    </tr>\n",
       "    <tr>\n",
       "      <th>5</th>\n",
       "      <td>2000-01-10</td>\n",
       "      <td>8.813111</td>\n",
       "      <td>9.371992</td>\n",
       "      <td>8.813111</td>\n",
       "      <td>9.006570</td>\n",
       "      <td>360000</td>\n",
       "      <td>9.236141</td>\n",
       "    </tr>\n",
       "    <tr>\n",
       "      <th>6</th>\n",
       "      <td>2000-01-11</td>\n",
       "      <td>9.028066</td>\n",
       "      <td>9.028066</td>\n",
       "      <td>8.340213</td>\n",
       "      <td>8.387503</td>\n",
       "      <td>262800</td>\n",
       "      <td>9.137693</td>\n",
       "    </tr>\n",
       "    <tr>\n",
       "      <th>7</th>\n",
       "      <td>2000-01-12</td>\n",
       "      <td>8.810964</td>\n",
       "      <td>9.019469</td>\n",
       "      <td>8.598159</td>\n",
       "      <td>8.692739</td>\n",
       "      <td>150300</td>\n",
       "      <td>8.957991</td>\n",
       "    </tr>\n",
       "    <tr>\n",
       "      <th>8</th>\n",
       "      <td>2000-01-13</td>\n",
       "      <td>8.684139</td>\n",
       "      <td>8.724979</td>\n",
       "      <td>8.512175</td>\n",
       "      <td>8.548717</td>\n",
       "      <td>405000</td>\n",
       "      <td>8.782158</td>\n",
       "    </tr>\n",
       "    <tr>\n",
       "      <th>9</th>\n",
       "      <td>2000-01-14</td>\n",
       "      <td>8.344513</td>\n",
       "      <td>8.469186</td>\n",
       "      <td>8.301522</td>\n",
       "      <td>8.357410</td>\n",
       "      <td>293400</td>\n",
       "      <td>8.598588</td>\n",
       "    </tr>\n",
       "  </tbody>\n",
       "</table>\n",
       "</div>"
      ],
      "text/plain": [
       "    timestamp       open       high       low     close  volume      avg5\n",
       "0  2000-01-03   8.813110   9.217224  8.813110  9.176382   86400       NaN\n",
       "1  2000-01-04   8.662642   9.015167  8.641147  8.879746  161100       NaN\n",
       "2  2000-01-05   8.641150   9.591247  8.619654  9.591247  243000       NaN\n",
       "3  2000-01-06  10.059845  10.098537  9.354795  9.427880  320400       NaN\n",
       "4  2000-01-07   9.586947   9.586947  9.157039  9.275264  102600  9.270104\n",
       "5  2000-01-10   8.813111   9.371992  8.813111  9.006570  360000  9.236141\n",
       "6  2000-01-11   9.028066   9.028066  8.340213  8.387503  262800  9.137693\n",
       "7  2000-01-12   8.810964   9.019469  8.598159  8.692739  150300  8.957991\n",
       "8  2000-01-13   8.684139   8.724979  8.512175  8.548717  405000  8.782158\n",
       "9  2000-01-14   8.344513   8.469186  8.301522  8.357410  293400  8.598588"
      ]
     },
     "execution_count": 50,
     "metadata": {},
     "output_type": "execute_result"
    }
   ],
   "source": [
    "df.head(10)"
   ]
  },
  {
   "cell_type": "code",
   "execution_count": 36,
   "metadata": {},
   "outputs": [
    {
     "data": {
      "text/html": [
       "<div>\n",
       "<style scoped>\n",
       "    .dataframe tbody tr th:only-of-type {\n",
       "        vertical-align: middle;\n",
       "    }\n",
       "\n",
       "    .dataframe tbody tr th {\n",
       "        vertical-align: top;\n",
       "    }\n",
       "\n",
       "    .dataframe thead th {\n",
       "        text-align: right;\n",
       "    }\n",
       "</style>\n",
       "<table border=\"1\" class=\"dataframe\">\n",
       "  <thead>\n",
       "    <tr style=\"text-align: right;\">\n",
       "      <th></th>\n",
       "      <th>totalInvestment</th>\n",
       "      <th>totalNetWorth</th>\n",
       "      <th>NumberOfTrades</th>\n",
       "      <th>totalBuy</th>\n",
       "      <th>totalSell</th>\n",
       "      <th>currentStocksInHandValue</th>\n",
       "      <th>profitPercent</th>\n",
       "      <th>name</th>\n",
       "    </tr>\n",
       "  </thead>\n",
       "  <tbody>\n",
       "    <tr>\n",
       "      <th>89</th>\n",
       "      <td>2.178958e+05</td>\n",
       "      <td>3.176020e+06</td>\n",
       "      <td>33</td>\n",
       "      <td>1076</td>\n",
       "      <td>674</td>\n",
       "      <td>83696.398773</td>\n",
       "      <td>13.959978</td>\n",
       "      <td>MAZDOCK</td>\n",
       "    </tr>\n",
       "    <tr>\n",
       "      <th>210</th>\n",
       "      <td>5.239400e+05</td>\n",
       "      <td>5.753194e+05</td>\n",
       "      <td>38</td>\n",
       "      <td>1239</td>\n",
       "      <td>1102</td>\n",
       "      <td>114196.348328</td>\n",
       "      <td>0.316021</td>\n",
       "      <td>HAPPSTMNDS</td>\n",
       "    </tr>\n",
       "    <tr>\n",
       "      <th>584</th>\n",
       "      <td>3.986614e+05</td>\n",
       "      <td>2.169041e+05</td>\n",
       "      <td>34</td>\n",
       "      <td>1172</td>\n",
       "      <td>674</td>\n",
       "      <td>279203.712158</td>\n",
       "      <td>0.244434</td>\n",
       "      <td>ANGELBRKG</td>\n",
       "    </tr>\n",
       "    <tr>\n",
       "      <th>605</th>\n",
       "      <td>4.638480e+05</td>\n",
       "      <td>3.649901e+05</td>\n",
       "      <td>80</td>\n",
       "      <td>2184</td>\n",
       "      <td>1842</td>\n",
       "      <td>198137.691650</td>\n",
       "      <td>0.214035</td>\n",
       "      <td>PRINCEPIPE</td>\n",
       "    </tr>\n",
       "    <tr>\n",
       "      <th>498</th>\n",
       "      <td>1.938021e+05</td>\n",
       "      <td>2.055001e+05</td>\n",
       "      <td>41</td>\n",
       "      <td>1280</td>\n",
       "      <td>1188</td>\n",
       "      <td>20916.200562</td>\n",
       "      <td>0.168286</td>\n",
       "      <td>MAXHEALTH</td>\n",
       "    </tr>\n",
       "    <tr>\n",
       "      <th>...</th>\n",
       "      <td>...</td>\n",
       "      <td>...</td>\n",
       "      <td>...</td>\n",
       "      <td>...</td>\n",
       "      <td>...</td>\n",
       "      <td>...</td>\n",
       "      <td>...</td>\n",
       "      <td>...</td>\n",
       "    </tr>\n",
       "    <tr>\n",
       "      <th>416</th>\n",
       "      <td>1.287594e+06</td>\n",
       "      <td>1.154640e+06</td>\n",
       "      <td>1257</td>\n",
       "      <td>36871</td>\n",
       "      <td>36841</td>\n",
       "      <td>1636.499977</td>\n",
       "      <td>-0.101987</td>\n",
       "      <td>USHAMART</td>\n",
       "    </tr>\n",
       "    <tr>\n",
       "      <th>321</th>\n",
       "      <td>1.117155e+04</td>\n",
       "      <td>7.965450e+03</td>\n",
       "      <td>7</td>\n",
       "      <td>165</td>\n",
       "      <td>132</td>\n",
       "      <td>1940.399975</td>\n",
       "      <td>-0.113297</td>\n",
       "      <td>KALYANKJIL</td>\n",
       "    </tr>\n",
       "    <tr>\n",
       "      <th>482</th>\n",
       "      <td>3.677000e+04</td>\n",
       "      <td>3.155410e+04</td>\n",
       "      <td>266</td>\n",
       "      <td>7562</td>\n",
       "      <td>7418</td>\n",
       "      <td>432.000000</td>\n",
       "      <td>-0.130103</td>\n",
       "      <td>ROLLT</td>\n",
       "    </tr>\n",
       "    <tr>\n",
       "      <th>360</th>\n",
       "      <td>1.298770e+05</td>\n",
       "      <td>1.077532e+05</td>\n",
       "      <td>103</td>\n",
       "      <td>2855</td>\n",
       "      <td>2847</td>\n",
       "      <td>50.799999</td>\n",
       "      <td>-0.169953</td>\n",
       "      <td>JUMPNET</td>\n",
       "    </tr>\n",
       "    <tr>\n",
       "      <th>367</th>\n",
       "      <td>3.747484e+05</td>\n",
       "      <td>2.906075e+05</td>\n",
       "      <td>106</td>\n",
       "      <td>2935</td>\n",
       "      <td>2847</td>\n",
       "      <td>4681.600067</td>\n",
       "      <td>-0.212034</td>\n",
       "      <td>SEYAIND</td>\n",
       "    </tr>\n",
       "  </tbody>\n",
       "</table>\n",
       "<p>697 rows × 8 columns</p>\n",
       "</div>"
      ],
      "text/plain": [
       "     totalInvestment  totalNetWorth  NumberOfTrades  totalBuy  totalSell  \\\n",
       "89      2.178958e+05   3.176020e+06              33      1076        674   \n",
       "210     5.239400e+05   5.753194e+05              38      1239       1102   \n",
       "584     3.986614e+05   2.169041e+05              34      1172        674   \n",
       "605     4.638480e+05   3.649901e+05              80      2184       1842   \n",
       "498     1.938021e+05   2.055001e+05              41      1280       1188   \n",
       "..               ...            ...             ...       ...        ...   \n",
       "416     1.287594e+06   1.154640e+06            1257     36871      36841   \n",
       "321     1.117155e+04   7.965450e+03               7       165        132   \n",
       "482     3.677000e+04   3.155410e+04             266      7562       7418   \n",
       "360     1.298770e+05   1.077532e+05             103      2855       2847   \n",
       "367     3.747484e+05   2.906075e+05             106      2935       2847   \n",
       "\n",
       "     currentStocksInHandValue  profitPercent        name  \n",
       "89               83696.398773      13.959978     MAZDOCK  \n",
       "210             114196.348328       0.316021  HAPPSTMNDS  \n",
       "584             279203.712158       0.244434   ANGELBRKG  \n",
       "605             198137.691650       0.214035  PRINCEPIPE  \n",
       "498              20916.200562       0.168286   MAXHEALTH  \n",
       "..                        ...            ...         ...  \n",
       "416               1636.499977      -0.101987    USHAMART  \n",
       "321               1940.399975      -0.113297  KALYANKJIL  \n",
       "482                432.000000      -0.130103       ROLLT  \n",
       "360                 50.799999      -0.169953     JUMPNET  \n",
       "367               4681.600067      -0.212034     SEYAIND  \n",
       "\n",
       "[697 rows x 8 columns]"
      ]
     },
     "execution_count": 36,
     "metadata": {},
     "output_type": "execute_result"
    }
   ],
   "source": [
    "df.sort_values('profitPercent',ascending=False,inplace=True)\n",
    "df.dropna()"
   ]
  },
  {
   "cell_type": "code",
   "execution_count": 22,
   "metadata": {},
   "outputs": [
    {
     "data": {
      "text/plain": [
       "<function scripts.randomTest.run(df)>"
      ]
     },
     "execution_count": 22,
     "metadata": {},
     "output_type": "execute_result"
    }
   ],
   "source": [
    "mod.run"
   ]
  },
  {
   "cell_type": "code",
   "execution_count": 18,
   "metadata": {},
   "outputs": [],
   "source": [
    "module = __import__('scripts')"
   ]
  },
  {
   "cell_type": "code",
   "execution_count": 3,
   "metadata": {},
   "outputs": [],
   "source": [
    "from scripts import *"
   ]
  },
  {
   "cell_type": "code",
   "execution_count": 5,
   "metadata": {},
   "outputs": [
    {
     "ename": "NameError",
     "evalue": "name 'scripts' is not defined",
     "output_type": "error",
     "traceback": [
      "\u001b[0;31m---------------------------------------------------------------------------\u001b[0m",
      "\u001b[0;31mNameError\u001b[0m                                 Traceback (most recent call last)",
      "\u001b[0;32m<ipython-input-5-7c2b27f04f7a>\u001b[0m in \u001b[0;36m<module>\u001b[0;34m\u001b[0m\n\u001b[0;32m----> 1\u001b[0;31m \u001b[0mdir\u001b[0m\u001b[0;34m(\u001b[0m\u001b[0mscripts\u001b[0m\u001b[0;34m)\u001b[0m\u001b[0;34m\u001b[0m\u001b[0;34m\u001b[0m\u001b[0m\n\u001b[0m",
      "\u001b[0;31mNameError\u001b[0m: name 'scripts' is not defined"
     ]
    }
   ],
   "source": [
    "dir(scripts)"
   ]
  },
  {
   "cell_type": "code",
   "execution_count": 6,
   "metadata": {},
   "outputs": [],
   "source": [
    "module = __import__('scripts')"
   ]
  },
  {
   "cell_type": "code",
   "execution_count": 11,
   "metadata": {},
   "outputs": [],
   "source": [
    "import scripts  "
   ]
  },
  {
   "cell_type": "code",
   "execution_count": 12,
   "metadata": {},
   "outputs": [
    {
     "data": {
      "text/plain": [
       "'/home/pankaj/Documents/git/stockBoard/tradingStrategies/scripts/__init__.py'"
      ]
     },
     "execution_count": 12,
     "metadata": {},
     "output_type": "execute_result"
    }
   ],
   "source": [
    "scripts.__file__"
   ]
  },
  {
   "cell_type": "code",
   "execution_count": 9,
   "metadata": {},
   "outputs": [
    {
     "data": {
      "text/plain": [
       "['__builtins__',\n",
       " '__cached__',\n",
       " '__doc__',\n",
       " '__file__',\n",
       " '__loader__',\n",
       " '__name__',\n",
       " '__package__',\n",
       " '__path__',\n",
       " '__spec__',\n",
       " 'os']"
      ]
     },
     "execution_count": 9,
     "metadata": {},
     "output_type": "execute_result"
    }
   ],
   "source": [
    "dir(module)"
   ]
  },
  {
   "cell_type": "code",
   "execution_count": 13,
   "metadata": {
    "scrolled": false
   },
   "outputs": [
    {
     "ename": "AttributeError",
     "evalue": "module 'scripts' has no attribute 'random_seed100'",
     "output_type": "error",
     "traceback": [
      "\u001b[0;31m---------------------------------------------------------------------------\u001b[0m",
      "\u001b[0;31mAttributeError\u001b[0m                            Traceback (most recent call last)",
      "\u001b[0;32m<ipython-input-13-722e08284308>\u001b[0m in \u001b[0;36m<module>\u001b[0;34m\u001b[0m\n\u001b[0;32m----> 1\u001b[0;31m \u001b[0mmy_class\u001b[0m \u001b[0;34m=\u001b[0m \u001b[0mgetattr\u001b[0m\u001b[0;34m(\u001b[0m\u001b[0mmodule\u001b[0m\u001b[0;34m,\u001b[0m\u001b[0;34m'random_seed100'\u001b[0m\u001b[0;34m)\u001b[0m\u001b[0;34m\u001b[0m\u001b[0;34m\u001b[0m\u001b[0m\n\u001b[0m",
      "\u001b[0;31mAttributeError\u001b[0m: module 'scripts' has no attribute 'random_seed100'"
     ]
    }
   ],
   "source": [
    "my_class = getattr(module,'random_seed100')"
   ]
  },
  {
   "cell_type": "code",
   "execution_count": 27,
   "metadata": {},
   "outputs": [
    {
     "ename": "NameError",
     "evalue": "name 'my_class' is not defined",
     "output_type": "error",
     "traceback": [
      "\u001b[0;31m---------------------------------------------------------------------------\u001b[0m",
      "\u001b[0;31mNameError\u001b[0m                                 Traceback (most recent call last)",
      "\u001b[0;32m<ipython-input-27-ea46af9c8177>\u001b[0m in \u001b[0;36m<module>\u001b[0;34m\u001b[0m\n\u001b[0;32m----> 1\u001b[0;31m \u001b[0mgetattr\u001b[0m\u001b[0;34m(\u001b[0m\u001b[0mmy_class\u001b[0m\u001b[0;34m,\u001b[0m\u001b[0;34m'run'\u001b[0m\u001b[0;34m)\u001b[0m\u001b[0;34m\u001b[0m\u001b[0;34m\u001b[0m\u001b[0m\n\u001b[0m",
      "\u001b[0;31mNameError\u001b[0m: name 'my_class' is not defined"
     ]
    }
   ],
   "source": [
    "getattr(my_class,'run')"
   ]
  },
  {
   "cell_type": "code",
   "execution_count": 28,
   "metadata": {},
   "outputs": [
    {
     "ename": "NameError",
     "evalue": "name 'my_class' is not defined",
     "output_type": "error",
     "traceback": [
      "\u001b[0;31m---------------------------------------------------------------------------\u001b[0m",
      "\u001b[0;31mNameError\u001b[0m                                 Traceback (most recent call last)",
      "\u001b[0;32m<ipython-input-28-facc256e8831>\u001b[0m in \u001b[0;36m<module>\u001b[0;34m\u001b[0m\n\u001b[0;32m----> 1\u001b[0;31m \u001b[0mmy_class\u001b[0m\u001b[0;34m.\u001b[0m\u001b[0mrun\u001b[0m\u001b[0;34m\u001b[0m\u001b[0;34m\u001b[0m\u001b[0m\n\u001b[0m",
      "\u001b[0;31mNameError\u001b[0m: name 'my_class' is not defined"
     ]
    }
   ],
   "source": [
    "my_class.run"
   ]
  },
  {
   "cell_type": "code",
   "execution_count": 29,
   "metadata": {},
   "outputs": [
    {
     "ename": "SyntaxError",
     "evalue": "invalid syntax (<ipython-input-29-81c56a05f115>, line 1)",
     "output_type": "error",
     "traceback": [
      "\u001b[0;36m  File \u001b[0;32m\"<ipython-input-29-81c56a05f115>\"\u001b[0;36m, line \u001b[0;32m1\u001b[0m\n\u001b[0;31m    import scripts.'random_seed100'\u001b[0m\n\u001b[0m                   ^\u001b[0m\n\u001b[0;31mSyntaxError\u001b[0m\u001b[0;31m:\u001b[0m invalid syntax\n"
     ]
    }
   ],
   "source": [
    "import scripts.'random_seed100'"
   ]
  },
  {
   "cell_type": "code",
   "execution_count": 18,
   "metadata": {},
   "outputs": [
    {
     "name": "stdout",
     "output_type": "stream",
     "text": [
      "backtest_dev.ipynb  history  __init__.py  instructions.md  sample.py  scripts\r\n"
     ]
    }
   ],
   "source": [
    "!ls"
   ]
  },
  {
   "cell_type": "code",
   "execution_count": null,
   "metadata": {},
   "outputs": [],
   "source": []
  }
 ],
 "metadata": {
  "kernelspec": {
   "display_name": "Python 3",
   "language": "python",
   "name": "python3"
  },
  "language_info": {
   "codemirror_mode": {
    "name": "ipython",
    "version": 3
   },
   "file_extension": ".py",
   "mimetype": "text/x-python",
   "name": "python",
   "nbconvert_exporter": "python",
   "pygments_lexer": "ipython3",
   "version": "3.8.5"
  }
 },
 "nbformat": 4,
 "nbformat_minor": 4
}
