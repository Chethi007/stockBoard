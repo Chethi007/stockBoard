{
 "cells": [
  {
   "cell_type": "code",
   "execution_count": 14,
   "metadata": {},
   "outputs": [],
   "source": [
    "import scripts as S\n",
    "import os\n",
    "import pandas as pd\n",
    "import importlib"
   ]
  },
  {
   "cell_type": "code",
   "execution_count": 28,
   "metadata": {},
   "outputs": [
    {
     "name": "stdout",
     "output_type": "stream",
     "text": [
      "FEDERALBNK.csv SUPREMEIND.csv ZENSARTECH.csv NESTLEIND.csv PEL.csv CORDSCABLE.csv AUTOIND.csv LAURUSLABS.csv ASTRAMICRO.csv TASTYBITE.csv LXCHEM.csv WSTCSTPAPR.csv VEDL.csv VTL.csv BAJAJHIND.csv MINDACORP.csv INDIANCARD.csv ROSSARI.csv TATAMTRDVR.csv STARCEMENT.csv DBL.csv TECHM.csv NESCO.csv BLUEDART.csv MMTC.csv ORIENTABRA.csv LAOPALA.csv HINDUNILVR.csv WABCOINDIA.csv STLTECH.csv IRCTC.csv WIPRO.csv SETCO.csv MRF.csv WELCORP.csv FCONSUMER.csv LUXIND.csv UNIDT.csv SYMPHONY.csv EIHOTEL.csv AIAENG.csv CASTROLIND.csv SUNDARMFIN.csv JSLHISAR.csv SAKHTISUG.csv VIKASECO.csv ISFT.csv BALMLAWRIE.csv BBTC.csv LICHSGFIN.csv CHAMBLFERT.csv NEWGEN.csv RIIL.csv ADANIPORTS.csv HEG.csv AARTIIND.csv ALEMBICLTD.csv HEROMOTOCO.csv BAJAJELEC.csv RAJSREESUG.csv ZENTEC.csv CHOLAHLDNG.csv ASHOKA.csv UNIONBANK.csv CREATIVEYE.csv JSL.csv MOTOGENFIN.csv ERIS.csv SKFINDIA.csv THEMISMED.csv QUESS.csv CPSEETF.csv COROMANDEL.csv ALOKINDS.csv INDUSTOWER.csv EIDPARRY.csv JKTYRE.csv MOIL.csv MGEL.csv GODREJIND.csv EDELWEISS.csv UFLEX.csv TATACONSUM.csv SMCGLOBAL.csv CENTURYPLY.csv BBL.csv JBCHEPHARM.csv NATIONALUM.csv UPL.csv MAZDOCK.csv IDFC.csv IIFL.csv GRSE.csv SWSOLAR.csv AARON.csv SEQUENT.csv KHAICHEM.csv NILKAMAL.csv MPHASIS.csv MARUTI.csv ASAHIINDIA.csv PNB.csv ADHUNIKIND.csv BIRLACORPN.csv CESC.csv GICRE.csv IDBI.csv GENESYS.csv MIDHANI.csv GUJAPOLLO.csv TATAINVEST.csv IFGLEXPOR.csv PGHL.csv HERCULES.csv DATAMATICS.csv CENTRALBK.csv MAHSEAMLES.csv BRITANNIA.csv TATAMOTORS.csv CHOLAFIN.csv RALLIS.csv BAJFINANCE.csv FLEXITUFF.csv SUNDRMFAST.csv NCLIND.csv INFIBEAM.csv DEEPAKNTR.csv SRTRANSFIN.csv SUNCLAYLTD.csv JKCEMENT.csv RITES.csv ADVENZYMES.csv ALKYLAMINE.csv MUTHOOTFIN.csv PFIZER.csv IBMFNIFTY.csv RELAXO.csv POLYPLEX.csv ICICITECH.csv PHOENIXLTD.csv MAHABANK.csv NAUKRI.csv BDL.csv IOC.csv GLOBAL.csv HAL.csv DENORA.csv GEPIL.csv GULFOILLUB.csv IRCON.csv APOLLOTYRE.csv TIINDIA.csv SBILIFE.csv TTKPRESTIG.csv V2RETAIL.csv BANCOINDIA.csv CENTURYTEX.csv MOTHERSUMI.csv SFL.csv NIACL.csv OBEROIRLTY.csv CADILAHC.csv IDBIGOLD.csv IDEA.csv PNBHOUSING.csv MINDAIND.csv FLUOROCHEM.csv LTTS.csv DRREDDY.csv TIIL.csv NMDC.csv DHFL.csv DISHTV.csv SANGHIIND.csv KANSAINER.csv UTISENSETF.csv AUROPHARMA.csv WOCKPHARMA.csv BALRAMCHIN.csv BAJAJCON.csv PNCINFRA.csv BASF.csv ANURAS.csv ATGL.csv OFSS.csv LODHA.csv GRPLTD.csv NHPC.csv SUNPHARMA.csv MAHSCOOTER.csv METROPOLIS.csv BERGEPAINT.csv JINDALSTEL.csv LGBBROSLTD.csv INGERRAND.csv SUBEXLTD.csv KOTAKBANK.csv FINEORG.csv ANSALAPI.csv BALKRISHNA.csv MAYURUNIQ.csv RKFORGE.csv GAIL.csv DYNPRO.csv VARROC.csv HINDCOPPER.csv PALASHSECU.csv ZYDUSWELL.csv MAHINDCIE.csv KCP.csv HAPPSTMNDS.csv UNICHEMLAB.csv AAVAS.csv SONATSOFTW.csv GOODYEAR.csv NBCC.csv L&TFH.csv HEMIPROP.csv LEMONTREE.csv MASFIN.csv MEGH.csv POWERINDIA.csv GODREJPROP.csv KANORICHEM.csv SUZLON.csv BANKBARODA.csv CONCOR.csv ICIL.csv GILLETTE.csv BIOCON.csv LT.csv GODREJCP.csv SIYSIL.csv SRHHYPOLTD.csv EPL.csv SREEL.csv NECLIFE.csv VAKRANGEE.csv ASTRON.csv IIFLWAM.csv NAM-INDIA.csv TTML.csv EMAMIPAP.csv INDUSINDBK.csv HFCL.csv CRISIL.csv LUPIN.csv SAIL.csv HAVELLS.csv M&MFIN.csv NAVINFLUOR.csv AFFLE.csv CAMS.csv POLYMED.csv HSCL.csv ENGINERSIN.csv HINDZINC.csv KANANIIND.csv 3MINDIA.csv IFBIND.csv PHILIPCARB.csv KRBL.csv DALBHARAT.csv AARTIDRUGS.csv CUMMINSIND.csv OIL.csv IBREALEST.csv SWELECTES.csv HUHTAMAKI.csv NTPC.csv GMRINFRA.csv BPCL.csv SETF10GILT.csv RML.csv SIEMENS.csv RVNL.csv SHRADHA.csv KEYFINSERV.csv QUICKHEAL.csv BLUESTARCO.csv RECLTD.csv HATSUN.csv ORIENTHOT.csv MRPL.csv NBVENTURES.csv BALAMINES.csv SHYAMCENT.csv SPANDANA.csv ACC.csv IRFC.csv ZEEL.csv SOBHA.csv ADANIENT.csv JMFINANCIL.csv BATAINDIA.csv RAMCOCEM.csv JSWENERGY.csv YESBANK.csv TRIDENT.csv BIOFILCHEM.csv BOSCHLTD.csv CANBK.csv SKIPPER.csv SGL.csv ICICIPRULI.csv GSPL.csv ITDC.csv IOLCP.csv UJJIVAN.csv TCPLPACK.csv ROUTE.csv THERMAX.csv CHALET.csv CREDITACC.csv GTL.csv UJAAS.csv CGPOWER.csv BHEL.csv DHANI.csv TIMKEN.csv VGUARD.csv KALYANKJIL.csv VIKASPROP.csv GRASIM.csv VINATIORGA.csv MCDOWELL-N.csv HERANBA.csv TRENT.csv SUVENPHAR.csv INDIANB.csv IBULHSGFIN.csv DONEAR.csv SUPPETRO.csv JUBLFOOD.csv BURGERKING.csv MASTEK.csv PUNJABCHEM.csv INFY.csv GREAVESCOT.csv BHARATFORG.csv JINDALSAW.csv HINDPETRO.csv LAXMIMACH.csv CEATLTD.csv NOVARTIND.csv SBIN.csv MUKTAARTS.csv IEX.csv RESPONIND.csv SANGINITA.csv DIVISLAB.csv MARKSANS.csv THANGAMAYL.csv STAR.csv OAL.csv KABRAEXTRU.csv SUMICHEM.csv SBICARD.csv WELSPUNIND.csv BLISSGVS.csv JUMPNET.csv TCIEXP.csv SOLARINDS.csv TCNSBRANDS.csv TATACHEM.csv QNIFTY.csv MFSL.csv SEYAIND.csv SANDESH.csv CCL.csv SASTASUNDR.csv INDIGO.csv VAIBHAVGBL.csv M&M.csv GUFICBIO.csv JTEKTINDIA.csv FDC.csv KAJARIACER.csv 3PLAND.csv UTINIFTETF.csv SYNGENE.csv KALPATPOWR.csv ARVINDFASN.csv TORNTPHARM.csv MMP.csv VIMTALABS.csv ADANIGREEN.csv LINDEINDIA.csv NACLIND.csv HDFCBANK.csv MGL.csv MAHLOG.csv CROMPTON.csv DABUR.csv PIIND.csv PRESTIGE.csv IGL.csv CAMLINFINE.csv INSPIRISYS.csv SPARC.csv ZODIACLOTH.csv APLAPOLLO.csv HCL-INSYS.csv APLLTD.csv ELGIEQUIP.csv KPITTECH.csv PAGEIND.csv RAJESHEXPO.csv INDIACEM.csv SHILPAMED.csv GPTINFRA.csv BIRLATYRE.csv UTIAMC.csv GSFC.csv JAMNAAUTO.csv BSOFT.csv USHAMART.csv DIAMONDYD.csv IOB.csv PILITA.csv NETWORK18.csv IRB.csv EXIDEIND.csv VIVIMEDLAB.csv WELINV.csv DLF.csv KIRLOSIND.csv CYIENT.csv GRAPHITE.csv ECLERX.csv RSSOFTWARE.csv IPCALAB.csv FORTIS.csv ICICIGI.csv DELTACORP.csv TNPETRO.csv DHANUKA.csv SCHNEIDER.csv ALKEM.csv TATAELXSI.csv ITI.csv HEIDELBERG.csv SPICEJET.csv PGHH.csv POLYCAB.csv TORNTPOWER.csv ENERGYDEV.csv SANOFI.csv AUBANK.csv NOCIL.csv KSCL.csv DNAMEDIA.csv KSB.csv PDSMFL.csv TIMETECHNO.csv TRIVENI.csv FINCABLES.csv GENUSPAPER.csv TECHNOE.csv NFL.csv ASTRAZEN.csv BAJAJHLDNG.csv MINDTREE.csv SCI.csv TANLA.csv RATNAMANI.csv REMSONSIND.csv RBLBANK.csv ITC.csv APOLLOHOSP.csv EQUITAS.csv POWERGRID.csv ABCAPITAL.csv WATERBASE.csv ADANITRANS.csv LALPATHLAB.csv SESHAPAPER.csv BAJAJFINSV.csv AEGISCHEM.csv ULTRACEMCO.csv KOTARISUG.csv BHARTIARTL.csv ROLLT.csv GESHIP.csv ASHOKLEY.csv BANKINDIA.csv BHARATRAS.csv GMMPFAUDLR.csv ICICINXT50.csv UBL.csv KEC.csv VBL.csv SALASAR.csv COCHINSHIP.csv CAREERP.csv ISEC.csv GODFRYPHLP.csv CARBORUNIV.csv MAXHEALTH.csv VOLTAS.csv NH.csv TVSMOTOR.csv COALINDIA.csv CDSL.csv SILINV.csv CSBBANK.csv KIRLOSENG.csv DCBBANK.csv KPRMILL.csv AMARAJABAT.csv DCMSHRIRAM.csv TRITURBINE.csv REDINGTON.csv SHARDACROP.csv ONGC.csv ORIENTELEC.csv HDFCAMC.csv MHRIL.csv GNFC.csv GRANULES.csv UCOBANK.csv MAHASTEEL.csv ANIKINDS.csv ABBOTINDIA.csv WHIRLPOOL.csv CAPACITE.csv SDBL.csv INDOCO.csv TATACOMM.csv VIPIND.csv VSTIND.csv BINDALAGRO.csv FRETAIL.csv BEL.csv ASTERDM.csv FINPIPE.csv JSWSTEEL.csv LICNFNHGP.csv HDFC.csv PERSISTENT.csv RAIN.csv KNRCON.csv CUB.csv COFORGE.csv ESCORTS.csv TATASTEEL.csv ORBTEXP.csv GUJALKALI.csv SUNTECK.csv ZUARI.csv AJANTPHARM.csv BCP.csv SIS.csv EICHERMOT.csv ENDURANCE.csv ITDCEM.csv ASIANHOTNR.csv INDHOTEL.csv SWANENERGY.csv OMAXAUTO.csv GODREJAGRO.csv ARMANFIN.csv DMART.csv AMBER.csv INOXLEISUR.csv MIRCELECTR.csv JUSTDIAL.csv ROHITFERRO.csv SHOPERSTOP.csv UJJIVANSFB.csv FSL.csv ARIHANT.csv PIDILITIND.csv BAJAJ-AUTO.csv GLAXO.csv GOLDIAM.csv AXISBANK.csv RADICO.csv BIGBLOC.csv BAYERCROP.csv BSE.csv SOLARA.csv KOTAKNV20.csv SUPERHOUSE.csv ANGELBRKG.csv RCF.csv DCAL.csv GINNIFILA.csv SUPRAJIT.csv HCLTECH.csv GUJGASLTD.csv JCHAC.csv RAYMOND.csv SCHAEFFLER.csv GAEL.csv INDIAMART.csv ABB.csv ICICIBANK.csv VISAKAIND.csv CGCL.csv HONAUT.csv AVANTIFEED.csv GLENMARK.csv JYOTHYLAB.csv LTI.csv PRINCEPIPE.csv REFEX.csv PVR.csv DBCORP.csv NETFIT.csv GOLDENTOBC.csv SUNTV.csv NATCOPHARM.csv TCS.csv PANACHE.csv GNA.csv RUCHIRA.csv PFC.csv KEI.csv EMAMILTD.csv ORIENTREF.csv SJVN.csv SHRIRAMCIT.csv INTELLECT.csv FEL.csv PETRONET.csv IDFCFIRSTB.csv VENKEYS.csv CANTABIL.csv ATUL.csv TATAPOWER.csv SUNFLAG.csv SRF.csv CERA.csv BALKRISIND.csv VALIANTORG.csv TV18BRDCST.csv TRF.csv STERTOOLS.csv ASTRAL.csv NLCINDIA.csv SUDARSCHEM.csv WELENT.csv BRIGADE.csv HMVL.csv MOTILALOFS.csv NRBBEARING.csv BANDHANBNK.csv THYROCARE.csv WESTLIFE.csv RELIANCE.csv HDFCLIFE.csv UTISXN50.csv ORICONENT.csv HGINFRA.csv KTKBANK.csv PIONDIST.csv AKZOINDIA.csv SHREECEM.csv AARVI.csv JKPAPER.csv HUDCO.csv AMBUJACEM.csv ARROWGREEN.csv BEML.csv EBBETF0425.csv "
     ]
    },
    {
     "name": "stdout",
     "output_type": "stream",
     "text": [
      "GRINDWELL.csv SMLISUZU.csv NCC.csv JKLAKSHMI.csv ASIANPAINT.csv BFUTILITIE.csv TATASTLLP.csv TATACOFFEE.csv SWARAJENG.csv JASH.csv RAMKY.csv JUBLINGREA.csv PRSMJOHNSN.csv COLPAL.csv HINDALCO.csv KARURVYSYA.csv CAPLIPOINT.csv CANFINHOME.csv MANAPPURAM.csv CIPLA.csv TEAMLEASE.csv GALAXYSURF.csv BROOKS.csv TEMBO.csv TITAN.csv ANDHRSUGAR.csv DIXON.csv MCX.csv GARFIBRES.csv VMART.csv GLAND.csv GPPL.csv MARICO.csv ABFRL.csv AARTISURF.csv KOTHARIPRO.csv randomTest\n"
     ]
    },
    {
     "name": "stdout",
     "output_type": "stream",
     "text": [
      "FEDERALBNK.csv SUPREMEIND.csv ZENSARTECH.csv NESTLEIND.csv PEL.csv CORDSCABLE.csv AUTOIND.csv LAURUSLABS.csv ASTRAMICRO.csv TASTYBITE.csv LXCHEM.csv WSTCSTPAPR.csv VEDL.csv VTL.csv BAJAJHIND.csv MINDACORP.csv INDIANCARD.csv ROSSARI.csv TATAMTRDVR.csv STARCEMENT.csv DBL.csv TECHM.csv NESCO.csv BLUEDART.csv MMTC.csv ORIENTABRA.csv LAOPALA.csv HINDUNILVR.csv WABCOINDIA.csv STLTECH.csv IRCTC.csv WIPRO.csv SETCO.csv MRF.csv WELCORP.csv FCONSUMER.csv LUXIND.csv UNIDT.csv SYMPHONY.csv EIHOTEL.csv AIAENG.csv CASTROLIND.csv SUNDARMFIN.csv JSLHISAR.csv SAKHTISUG.csv VIKASECO.csv ISFT.csv BALMLAWRIE.csv BBTC.csv LICHSGFIN.csv CHAMBLFERT.csv NEWGEN.csv RIIL.csv ADANIPORTS.csv HEG.csv AARTIIND.csv ALEMBICLTD.csv HEROMOTOCO.csv BAJAJELEC.csv RAJSREESUG.csv ZENTEC.csv CHOLAHLDNG.csv ASHOKA.csv UNIONBANK.csv CREATIVEYE.csv JSL.csv MOTOGENFIN.csv ERIS.csv SKFINDIA.csv THEMISMED.csv QUESS.csv CPSEETF.csv COROMANDEL.csv ALOKINDS.csv INDUSTOWER.csv EIDPARRY.csv JKTYRE.csv MOIL.csv MGEL.csv GODREJIND.csv EDELWEISS.csv UFLEX.csv TATACONSUM.csv SMCGLOBAL.csv CENTURYPLY.csv BBL.csv JBCHEPHARM.csv NATIONALUM.csv UPL.csv MAZDOCK.csv IDFC.csv IIFL.csv GRSE.csv SWSOLAR.csv AARON.csv SEQUENT.csv KHAICHEM.csv NILKAMAL.csv MPHASIS.csv MARUTI.csv ASAHIINDIA.csv PNB.csv ADHUNIKIND.csv BIRLACORPN.csv CESC.csv GICRE.csv IDBI.csv GENESYS.csv MIDHANI.csv GUJAPOLLO.csv TATAINVEST.csv IFGLEXPOR.csv PGHL.csv HERCULES.csv DATAMATICS.csv CENTRALBK.csv MAHSEAMLES.csv BRITANNIA.csv TATAMOTORS.csv CHOLAFIN.csv RALLIS.csv BAJFINANCE.csv FLEXITUFF.csv SUNDRMFAST.csv NCLIND.csv INFIBEAM.csv DEEPAKNTR.csv SRTRANSFIN.csv SUNCLAYLTD.csv JKCEMENT.csv RITES.csv ADVENZYMES.csv ALKYLAMINE.csv MUTHOOTFIN.csv PFIZER.csv IBMFNIFTY.csv RELAXO.csv POLYPLEX.csv ICICITECH.csv PHOENIXLTD.csv MAHABANK.csv NAUKRI.csv BDL.csv IOC.csv GLOBAL.csv HAL.csv DENORA.csv GEPIL.csv GULFOILLUB.csv IRCON.csv APOLLOTYRE.csv TIINDIA.csv SBILIFE.csv TTKPRESTIG.csv V2RETAIL.csv BANCOINDIA.csv CENTURYTEX.csv MOTHERSUMI.csv SFL.csv NIACL.csv OBEROIRLTY.csv CADILAHC.csv IDBIGOLD.csv IDEA.csv PNBHOUSING.csv MINDAIND.csv FLUOROCHEM.csv LTTS.csv DRREDDY.csv TIIL.csv NMDC.csv DHFL.csv DISHTV.csv SANGHIIND.csv KANSAINER.csv UTISENSETF.csv AUROPHARMA.csv WOCKPHARMA.csv BALRAMCHIN.csv BAJAJCON.csv PNCINFRA.csv BASF.csv ANURAS.csv ATGL.csv OFSS.csv LODHA.csv GRPLTD.csv NHPC.csv SUNPHARMA.csv MAHSCOOTER.csv METROPOLIS.csv BERGEPAINT.csv JINDALSTEL.csv LGBBROSLTD.csv INGERRAND.csv SUBEXLTD.csv KOTAKBANK.csv FINEORG.csv ANSALAPI.csv BALKRISHNA.csv MAYURUNIQ.csv RKFORGE.csv GAIL.csv DYNPRO.csv VARROC.csv HINDCOPPER.csv PALASHSECU.csv ZYDUSWELL.csv MAHINDCIE.csv KCP.csv HAPPSTMNDS.csv UNICHEMLAB.csv AAVAS.csv SONATSOFTW.csv GOODYEAR.csv NBCC.csv L&TFH.csv HEMIPROP.csv LEMONTREE.csv MASFIN.csv MEGH.csv POWERINDIA.csv GODREJPROP.csv KANORICHEM.csv SUZLON.csv BANKBARODA.csv CONCOR.csv ICIL.csv GILLETTE.csv BIOCON.csv LT.csv GODREJCP.csv SIYSIL.csv SRHHYPOLTD.csv EPL.csv SREEL.csv NECLIFE.csv VAKRANGEE.csv ASTRON.csv IIFLWAM.csv NAM-INDIA.csv TTML.csv EMAMIPAP.csv INDUSINDBK.csv HFCL.csv CRISIL.csv LUPIN.csv SAIL.csv HAVELLS.csv M&MFIN.csv NAVINFLUOR.csv AFFLE.csv CAMS.csv POLYMED.csv HSCL.csv ENGINERSIN.csv HINDZINC.csv KANANIIND.csv 3MINDIA.csv IFBIND.csv PHILIPCARB.csv KRBL.csv DALBHARAT.csv AARTIDRUGS.csv CUMMINSIND.csv OIL.csv IBREALEST.csv SWELECTES.csv HUHTAMAKI.csv NTPC.csv GMRINFRA.csv BPCL.csv SETF10GILT.csv RML.csv SIEMENS.csv RVNL.csv SHRADHA.csv KEYFINSERV.csv QUICKHEAL.csv BLUESTARCO.csv RECLTD.csv HATSUN.csv ORIENTHOT.csv MRPL.csv NBVENTURES.csv BALAMINES.csv SHYAMCENT.csv SPANDANA.csv ACC.csv IRFC.csv ZEEL.csv SOBHA.csv ADANIENT.csv JMFINANCIL.csv BATAINDIA.csv RAMCOCEM.csv JSWENERGY.csv YESBANK.csv TRIDENT.csv BIOFILCHEM.csv BOSCHLTD.csv CANBK.csv SKIPPER.csv SGL.csv ICICIPRULI.csv GSPL.csv ITDC.csv IOLCP.csv UJJIVAN.csv TCPLPACK.csv ROUTE.csv THERMAX.csv CHALET.csv CREDITACC.csv GTL.csv UJAAS.csv CGPOWER.csv BHEL.csv DHANI.csv TIMKEN.csv VGUARD.csv KALYANKJIL.csv VIKASPROP.csv GRASIM.csv VINATIORGA.csv MCDOWELL-N.csv HERANBA.csv TRENT.csv SUVENPHAR.csv INDIANB.csv IBULHSGFIN.csv DONEAR.csv SUPPETRO.csv JUBLFOOD.csv BURGERKING.csv MASTEK.csv PUNJABCHEM.csv INFY.csv GREAVESCOT.csv BHARATFORG.csv JINDALSAW.csv HINDPETRO.csv LAXMIMACH.csv CEATLTD.csv NOVARTIND.csv SBIN.csv MUKTAARTS.csv IEX.csv RESPONIND.csv SANGINITA.csv DIVISLAB.csv MARKSANS.csv THANGAMAYL.csv STAR.csv OAL.csv KABRAEXTRU.csv SUMICHEM.csv SBICARD.csv WELSPUNIND.csv BLISSGVS.csv JUMPNET.csv TCIEXP.csv SOLARINDS.csv TCNSBRANDS.csv TATACHEM.csv QNIFTY.csv MFSL.csv SEYAIND.csv SANDESH.csv CCL.csv SASTASUNDR.csv INDIGO.csv VAIBHAVGBL.csv M&M.csv GUFICBIO.csv JTEKTINDIA.csv FDC.csv KAJARIACER.csv 3PLAND.csv UTINIFTETF.csv SYNGENE.csv KALPATPOWR.csv ARVINDFASN.csv TORNTPHARM.csv MMP.csv VIMTALABS.csv ADANIGREEN.csv LINDEINDIA.csv NACLIND.csv HDFCBANK.csv MGL.csv MAHLOG.csv CROMPTON.csv DABUR.csv PIIND.csv PRESTIGE.csv IGL.csv CAMLINFINE.csv INSPIRISYS.csv SPARC.csv ZODIACLOTH.csv APLAPOLLO.csv HCL-INSYS.csv APLLTD.csv ELGIEQUIP.csv KPITTECH.csv PAGEIND.csv RAJESHEXPO.csv INDIACEM.csv SHILPAMED.csv GPTINFRA.csv BIRLATYRE.csv UTIAMC.csv GSFC.csv JAMNAAUTO.csv BSOFT.csv USHAMART.csv DIAMONDYD.csv IOB.csv PILITA.csv NETWORK18.csv IRB.csv EXIDEIND.csv VIVIMEDLAB.csv WELINV.csv DLF.csv KIRLOSIND.csv CYIENT.csv GRAPHITE.csv ECLERX.csv RSSOFTWARE.csv IPCALAB.csv FORTIS.csv ICICIGI.csv DELTACORP.csv TNPETRO.csv DHANUKA.csv SCHNEIDER.csv ALKEM.csv TATAELXSI.csv ITI.csv HEIDELBERG.csv SPICEJET.csv PGHH.csv POLYCAB.csv TORNTPOWER.csv ENERGYDEV.csv SANOFI.csv AUBANK.csv NOCIL.csv KSCL.csv DNAMEDIA.csv KSB.csv PDSMFL.csv TIMETECHNO.csv TRIVENI.csv FINCABLES.csv GENUSPAPER.csv TECHNOE.csv NFL.csv ASTRAZEN.csv BAJAJHLDNG.csv MINDTREE.csv SCI.csv TANLA.csv RATNAMANI.csv REMSONSIND.csv RBLBANK.csv ITC.csv APOLLOHOSP.csv EQUITAS.csv POWERGRID.csv ABCAPITAL.csv WATERBASE.csv ADANITRANS.csv LALPATHLAB.csv SESHAPAPER.csv BAJAJFINSV.csv AEGISCHEM.csv ULTRACEMCO.csv KOTARISUG.csv BHARTIARTL.csv ROLLT.csv GESHIP.csv ASHOKLEY.csv BANKINDIA.csv BHARATRAS.csv GMMPFAUDLR.csv ICICINXT50.csv UBL.csv KEC.csv VBL.csv SALASAR.csv COCHINSHIP.csv CAREERP.csv ISEC.csv GODFRYPHLP.csv CARBORUNIV.csv MAXHEALTH.csv VOLTAS.csv NH.csv TVSMOTOR.csv COALINDIA.csv CDSL.csv SILINV.csv CSBBANK.csv KIRLOSENG.csv DCBBANK.csv KPRMILL.csv AMARAJABAT.csv DCMSHRIRAM.csv TRITURBINE.csv REDINGTON.csv SHARDACROP.csv ONGC.csv ORIENTELEC.csv HDFCAMC.csv MHRIL.csv GNFC.csv GRANULES.csv UCOBANK.csv MAHASTEEL.csv ANIKINDS.csv ABBOTINDIA.csv WHIRLPOOL.csv CAPACITE.csv SDBL.csv INDOCO.csv TATACOMM.csv VIPIND.csv VSTIND.csv BINDALAGRO.csv FRETAIL.csv BEL.csv ASTERDM.csv FINPIPE.csv JSWSTEEL.csv LICNFNHGP.csv HDFC.csv PERSISTENT.csv RAIN.csv KNRCON.csv CUB.csv COFORGE.csv ESCORTS.csv TATASTEEL.csv ORBTEXP.csv GUJALKALI.csv SUNTECK.csv ZUARI.csv AJANTPHARM.csv BCP.csv SIS.csv EICHERMOT.csv ENDURANCE.csv ITDCEM.csv ASIANHOTNR.csv INDHOTEL.csv SWANENERGY.csv OMAXAUTO.csv GODREJAGRO.csv ARMANFIN.csv DMART.csv AMBER.csv INOXLEISUR.csv MIRCELECTR.csv JUSTDIAL.csv ROHITFERRO.csv SHOPERSTOP.csv UJJIVANSFB.csv FSL.csv ARIHANT.csv PIDILITIND.csv BAJAJ-AUTO.csv GLAXO.csv GOLDIAM.csv AXISBANK.csv RADICO.csv BIGBLOC.csv BAYERCROP.csv BSE.csv SOLARA.csv KOTAKNV20.csv SUPERHOUSE.csv ANGELBRKG.csv RCF.csv DCAL.csv GINNIFILA.csv SUPRAJIT.csv HCLTECH.csv GUJGASLTD.csv JCHAC.csv RAYMOND.csv SCHAEFFLER.csv GAEL.csv INDIAMART.csv ABB.csv ICICIBANK.csv VISAKAIND.csv CGCL.csv HONAUT.csv AVANTIFEED.csv GLENMARK.csv JYOTHYLAB.csv LTI.csv PRINCEPIPE.csv REFEX.csv PVR.csv DBCORP.csv NETFIT.csv GOLDENTOBC.csv SUNTV.csv NATCOPHARM.csv TCS.csv PANACHE.csv GNA.csv RUCHIRA.csv PFC.csv KEI.csv EMAMILTD.csv ORIENTREF.csv SJVN.csv SHRIRAMCIT.csv INTELLECT.csv FEL.csv PETRONET.csv IDFCFIRSTB.csv VENKEYS.csv CANTABIL.csv ATUL.csv TATAPOWER.csv SUNFLAG.csv SRF.csv CERA.csv BALKRISIND.csv VALIANTORG.csv TV18BRDCST.csv TRF.csv STERTOOLS.csv ASTRAL.csv NLCINDIA.csv SUDARSCHEM.csv WELENT.csv BRIGADE.csv HMVL.csv MOTILALOFS.csv NRBBEARING.csv BANDHANBNK.csv THYROCARE.csv WESTLIFE.csv RELIANCE.csv HDFCLIFE.csv UTISXN50.csv ORICONENT.csv HGINFRA.csv KTKBANK.csv PIONDIST.csv AKZOINDIA.csv SHREECEM.csv AARVI.csv JKPAPER.csv HUDCO.csv AMBUJACEM.csv ARROWGREEN.csv BEML.csv EBBETF0425.csv "
     ]
    },
    {
     "name": "stdout",
     "output_type": "stream",
     "text": [
      "GRINDWELL.csv SMLISUZU.csv NCC.csv JKLAKSHMI.csv ASIANPAINT.csv BFUTILITIE.csv TATASTLLP.csv TATACOFFEE.csv SWARAJENG.csv JASH.csv RAMKY.csv JUBLINGREA.csv PRSMJOHNSN.csv COLPAL.csv HINDALCO.csv KARURVYSYA.csv CAPLIPOINT.csv CANFINHOME.csv MANAPPURAM.csv CIPLA.csv TEAMLEASE.csv GALAXYSURF.csv BROOKS.csv TEMBO.csv TITAN.csv ANDHRSUGAR.csv DIXON.csv MCX.csv GARFIBRES.csv VMART.csv GLAND.csv GPPL.csv MARICO.csv ABFRL.csv AARTISURF.csv KOTHARIPRO.csv random_seed100\n"
     ]
    }
   ],
   "source": [
    "class BackTest:\n",
    "    def __init__(self,loc):\n",
    "        self.loc = loc\n",
    "        self.allStockList = os.listdir(self.loc)\n",
    "        self.stockVal = 'close'\n",
    "        self.scriptPath = \"scripts\"\n",
    "        self.savePath = \"results\"\n",
    "        \n",
    "    def parseAction(self,a):\n",
    "        a = a.lower()\n",
    "        if a in ['buy','sell']:\n",
    "            return a\n",
    "        return ''\n",
    "    \n",
    "    def getTradeSummary(self,df,trades):\n",
    "        totalBuy = 0\n",
    "        totalSell = 0\n",
    "        totalInvestment = 0\n",
    "        totalNetWorth = 0\n",
    "        NumberOfTrades = 0\n",
    "        stocksInHand = 0 # shorting is not allowed\n",
    "        \n",
    "        assert len(df) == len(trades),\"len of trade should be equal to stock result\"\n",
    "        L = len(df)\n",
    "        \n",
    "        for i in range(L):\n",
    "            trade = trades[i]\n",
    "            stock = df.iloc[i]\n",
    "            \n",
    "            action = self.parseAction(trade['actions'])\n",
    "            qty  = int(0 if trade['quantity'] == '' else trade['quantity'])\n",
    "            \n",
    "            if action == 'buy':\n",
    "                totalBuy += qty\n",
    "                totalInvestment += qty*stock[self.stockVal]\n",
    "                stocksInHand += qty\n",
    "                \n",
    "            if action == 'sell':\n",
    "                \n",
    "                totalSell += qty  \n",
    "                totalNetWorth += qty*stock[self.stockVal]\n",
    "                assert stocksInHand >= qty,\"trying to sell more than you have\"\n",
    "                stocksInHand -= qty\n",
    "                \n",
    "            if action in ['buy','sell']:\n",
    "                NumberOfTrades += 1\n",
    "        \n",
    "        ans = {}\n",
    "        ans[\"totalInvestment\"] = totalInvestment\n",
    "        ans[\"totalNetWorth\"] = totalNetWorth\n",
    "        ans[\"NumberOfTrades\"] = NumberOfTrades\n",
    "        ans[\"totalBuy\"] = totalBuy\n",
    "        ans[\"totalSell\"] = totalSell\n",
    "        ans[\"currentStocksInHandValue\"] = 0\n",
    "#         print(df.iloc[-1][self.stockVal],stocksInHand,\"stocks in hand\")\n",
    "        if stocksInHand > 0:\n",
    "            ans[\"currentStocksInHandValue\"] = df.iloc[-1][self.stockVal]*stocksInHand\n",
    "        try:\n",
    "            ans[\"profitPercent\"] = (ans[\"totalNetWorth\"]+ans[\"currentStocksInHandValue\"]\n",
    "                              -ans[\"totalInvestment\"])/ans[\"totalInvestment\"]\n",
    "        except:\n",
    "            ans[\"profitPercent\"] = 0\n",
    "        return ans\n",
    "        \n",
    "    def getScriptsName(self):\n",
    "        names = [i[:-3] for i in os.listdir(self.scriptPath) if i[-3:] == '.py' and i != '__init__.py']\n",
    "        return names\n",
    "    \n",
    "    def backtest(self,scriptName,stocksList=[]):\n",
    "        \"\"\"scriptFunciton import and pass it \n",
    "        stocksList if empty will pick all the stocks else only the provided ones\"\"\"\n",
    "        stocksList = self.allStockList if len(stocksList) == 0 else stocksList\n",
    "        scriptName = self.getScriptsName() if len(scriptName) == 0 else scriptName\n",
    "\n",
    "        for sc_name in scriptName:\n",
    "            # select Scripts\n",
    "            module = importlib.import_module('scripts.'+sc_name)\n",
    "            scriptFunction = module.run\n",
    "            li = []\n",
    "            for i in stocksList:\n",
    "                df = pd.read_csv(os.path.join(loc,i))\n",
    "                trades = scriptFunction(df)\n",
    "                res = self.getTradeSummary(df,trades)\n",
    "                res[\"name\"] = i.split('.')[0]\n",
    "                print(i,end = ' ')\n",
    "                li.append(res)\n",
    "\n",
    "            df = pd.DataFrame(li)\n",
    "            df.to_csv(os.path.join(self.savePath,sc_name+\".csv\"),index=False)\n",
    "            print(sc_name)\n",
    "\n",
    "stocksList = []#['ONGC.csv','RELIANCE.csv','INFY.csv']\n",
    "scriptNames = []\n",
    "loc = \"../data/stockData/daily/\"\n",
    "scriptPath = \"scripts\"\n",
    "bt = BackTest(loc)\n",
    "bt.backtest(scriptNames,stocksList)"
   ]
  },
  {
   "cell_type": "code",
   "execution_count": 30,
   "metadata": {},
   "outputs": [],
   "source": [
    "df = pd.read_csv('./results/randomTest.csv')"
   ]
  },
  {
   "cell_type": "code",
   "execution_count": 37,
   "metadata": {},
   "outputs": [
    {
     "data": {
      "text/plain": [
       "Index(['totalInvestment', 'totalNetWorth', 'NumberOfTrades', 'totalBuy',\n",
       "       'totalSell', 'currentStocksInHandValue', 'profitPercent', 'name'],\n",
       "      dtype='object')"
      ]
     },
     "execution_count": 37,
     "metadata": {},
     "output_type": "execute_result"
    }
   ],
   "source": [
    "df.columns"
   ]
  },
  {
   "cell_type": "code",
   "execution_count": 36,
   "metadata": {},
   "outputs": [
    {
     "data": {
      "text/html": [
       "<div>\n",
       "<style scoped>\n",
       "    .dataframe tbody tr th:only-of-type {\n",
       "        vertical-align: middle;\n",
       "    }\n",
       "\n",
       "    .dataframe tbody tr th {\n",
       "        vertical-align: top;\n",
       "    }\n",
       "\n",
       "    .dataframe thead th {\n",
       "        text-align: right;\n",
       "    }\n",
       "</style>\n",
       "<table border=\"1\" class=\"dataframe\">\n",
       "  <thead>\n",
       "    <tr style=\"text-align: right;\">\n",
       "      <th></th>\n",
       "      <th>totalInvestment</th>\n",
       "      <th>totalNetWorth</th>\n",
       "      <th>NumberOfTrades</th>\n",
       "      <th>totalBuy</th>\n",
       "      <th>totalSell</th>\n",
       "      <th>currentStocksInHandValue</th>\n",
       "      <th>profitPercent</th>\n",
       "      <th>name</th>\n",
       "    </tr>\n",
       "  </thead>\n",
       "  <tbody>\n",
       "    <tr>\n",
       "      <th>89</th>\n",
       "      <td>2.178958e+05</td>\n",
       "      <td>3.176020e+06</td>\n",
       "      <td>33</td>\n",
       "      <td>1076</td>\n",
       "      <td>674</td>\n",
       "      <td>83696.398773</td>\n",
       "      <td>13.959978</td>\n",
       "      <td>MAZDOCK</td>\n",
       "    </tr>\n",
       "    <tr>\n",
       "      <th>210</th>\n",
       "      <td>5.239400e+05</td>\n",
       "      <td>5.753194e+05</td>\n",
       "      <td>38</td>\n",
       "      <td>1239</td>\n",
       "      <td>1102</td>\n",
       "      <td>114196.348328</td>\n",
       "      <td>0.316021</td>\n",
       "      <td>HAPPSTMNDS</td>\n",
       "    </tr>\n",
       "    <tr>\n",
       "      <th>584</th>\n",
       "      <td>3.986614e+05</td>\n",
       "      <td>2.169041e+05</td>\n",
       "      <td>34</td>\n",
       "      <td>1172</td>\n",
       "      <td>674</td>\n",
       "      <td>279203.712158</td>\n",
       "      <td>0.244434</td>\n",
       "      <td>ANGELBRKG</td>\n",
       "    </tr>\n",
       "    <tr>\n",
       "      <th>605</th>\n",
       "      <td>4.638480e+05</td>\n",
       "      <td>3.649901e+05</td>\n",
       "      <td>80</td>\n",
       "      <td>2184</td>\n",
       "      <td>1842</td>\n",
       "      <td>198137.691650</td>\n",
       "      <td>0.214035</td>\n",
       "      <td>PRINCEPIPE</td>\n",
       "    </tr>\n",
       "    <tr>\n",
       "      <th>498</th>\n",
       "      <td>1.938021e+05</td>\n",
       "      <td>2.055001e+05</td>\n",
       "      <td>41</td>\n",
       "      <td>1280</td>\n",
       "      <td>1188</td>\n",
       "      <td>20916.200562</td>\n",
       "      <td>0.168286</td>\n",
       "      <td>MAXHEALTH</td>\n",
       "    </tr>\n",
       "    <tr>\n",
       "      <th>...</th>\n",
       "      <td>...</td>\n",
       "      <td>...</td>\n",
       "      <td>...</td>\n",
       "      <td>...</td>\n",
       "      <td>...</td>\n",
       "      <td>...</td>\n",
       "      <td>...</td>\n",
       "      <td>...</td>\n",
       "    </tr>\n",
       "    <tr>\n",
       "      <th>416</th>\n",
       "      <td>1.287594e+06</td>\n",
       "      <td>1.154640e+06</td>\n",
       "      <td>1257</td>\n",
       "      <td>36871</td>\n",
       "      <td>36841</td>\n",
       "      <td>1636.499977</td>\n",
       "      <td>-0.101987</td>\n",
       "      <td>USHAMART</td>\n",
       "    </tr>\n",
       "    <tr>\n",
       "      <th>321</th>\n",
       "      <td>1.117155e+04</td>\n",
       "      <td>7.965450e+03</td>\n",
       "      <td>7</td>\n",
       "      <td>165</td>\n",
       "      <td>132</td>\n",
       "      <td>1940.399975</td>\n",
       "      <td>-0.113297</td>\n",
       "      <td>KALYANKJIL</td>\n",
       "    </tr>\n",
       "    <tr>\n",
       "      <th>482</th>\n",
       "      <td>3.677000e+04</td>\n",
       "      <td>3.155410e+04</td>\n",
       "      <td>266</td>\n",
       "      <td>7562</td>\n",
       "      <td>7418</td>\n",
       "      <td>432.000000</td>\n",
       "      <td>-0.130103</td>\n",
       "      <td>ROLLT</td>\n",
       "    </tr>\n",
       "    <tr>\n",
       "      <th>360</th>\n",
       "      <td>1.298770e+05</td>\n",
       "      <td>1.077532e+05</td>\n",
       "      <td>103</td>\n",
       "      <td>2855</td>\n",
       "      <td>2847</td>\n",
       "      <td>50.799999</td>\n",
       "      <td>-0.169953</td>\n",
       "      <td>JUMPNET</td>\n",
       "    </tr>\n",
       "    <tr>\n",
       "      <th>367</th>\n",
       "      <td>3.747484e+05</td>\n",
       "      <td>2.906075e+05</td>\n",
       "      <td>106</td>\n",
       "      <td>2935</td>\n",
       "      <td>2847</td>\n",
       "      <td>4681.600067</td>\n",
       "      <td>-0.212034</td>\n",
       "      <td>SEYAIND</td>\n",
       "    </tr>\n",
       "  </tbody>\n",
       "</table>\n",
       "<p>697 rows × 8 columns</p>\n",
       "</div>"
      ],
      "text/plain": [
       "     totalInvestment  totalNetWorth  NumberOfTrades  totalBuy  totalSell  \\\n",
       "89      2.178958e+05   3.176020e+06              33      1076        674   \n",
       "210     5.239400e+05   5.753194e+05              38      1239       1102   \n",
       "584     3.986614e+05   2.169041e+05              34      1172        674   \n",
       "605     4.638480e+05   3.649901e+05              80      2184       1842   \n",
       "498     1.938021e+05   2.055001e+05              41      1280       1188   \n",
       "..               ...            ...             ...       ...        ...   \n",
       "416     1.287594e+06   1.154640e+06            1257     36871      36841   \n",
       "321     1.117155e+04   7.965450e+03               7       165        132   \n",
       "482     3.677000e+04   3.155410e+04             266      7562       7418   \n",
       "360     1.298770e+05   1.077532e+05             103      2855       2847   \n",
       "367     3.747484e+05   2.906075e+05             106      2935       2847   \n",
       "\n",
       "     currentStocksInHandValue  profitPercent        name  \n",
       "89               83696.398773      13.959978     MAZDOCK  \n",
       "210             114196.348328       0.316021  HAPPSTMNDS  \n",
       "584             279203.712158       0.244434   ANGELBRKG  \n",
       "605             198137.691650       0.214035  PRINCEPIPE  \n",
       "498              20916.200562       0.168286   MAXHEALTH  \n",
       "..                        ...            ...         ...  \n",
       "416               1636.499977      -0.101987    USHAMART  \n",
       "321               1940.399975      -0.113297  KALYANKJIL  \n",
       "482                432.000000      -0.130103       ROLLT  \n",
       "360                 50.799999      -0.169953     JUMPNET  \n",
       "367               4681.600067      -0.212034     SEYAIND  \n",
       "\n",
       "[697 rows x 8 columns]"
      ]
     },
     "execution_count": 36,
     "metadata": {},
     "output_type": "execute_result"
    }
   ],
   "source": [
    "df.sort_values('profitPercent',ascending=False,inplace=True)\n",
    "df.dropna()"
   ]
  },
  {
   "cell_type": "code",
   "execution_count": 22,
   "metadata": {},
   "outputs": [
    {
     "data": {
      "text/plain": [
       "<function scripts.randomTest.run(df)>"
      ]
     },
     "execution_count": 22,
     "metadata": {},
     "output_type": "execute_result"
    }
   ],
   "source": [
    "mod.run"
   ]
  },
  {
   "cell_type": "code",
   "execution_count": 18,
   "metadata": {},
   "outputs": [],
   "source": [
    "module = __import__('scripts')"
   ]
  },
  {
   "cell_type": "code",
   "execution_count": 3,
   "metadata": {},
   "outputs": [],
   "source": [
    "from scripts import *"
   ]
  },
  {
   "cell_type": "code",
   "execution_count": 5,
   "metadata": {},
   "outputs": [
    {
     "ename": "NameError",
     "evalue": "name 'scripts' is not defined",
     "output_type": "error",
     "traceback": [
      "\u001b[0;31m---------------------------------------------------------------------------\u001b[0m",
      "\u001b[0;31mNameError\u001b[0m                                 Traceback (most recent call last)",
      "\u001b[0;32m<ipython-input-5-7c2b27f04f7a>\u001b[0m in \u001b[0;36m<module>\u001b[0;34m\u001b[0m\n\u001b[0;32m----> 1\u001b[0;31m \u001b[0mdir\u001b[0m\u001b[0;34m(\u001b[0m\u001b[0mscripts\u001b[0m\u001b[0;34m)\u001b[0m\u001b[0;34m\u001b[0m\u001b[0;34m\u001b[0m\u001b[0m\n\u001b[0m",
      "\u001b[0;31mNameError\u001b[0m: name 'scripts' is not defined"
     ]
    }
   ],
   "source": [
    "dir(scripts)"
   ]
  },
  {
   "cell_type": "code",
   "execution_count": 6,
   "metadata": {},
   "outputs": [],
   "source": [
    "module = __import__('scripts')"
   ]
  },
  {
   "cell_type": "code",
   "execution_count": 11,
   "metadata": {},
   "outputs": [],
   "source": [
    "import scripts  "
   ]
  },
  {
   "cell_type": "code",
   "execution_count": 12,
   "metadata": {},
   "outputs": [
    {
     "data": {
      "text/plain": [
       "'/home/pankaj/Documents/git/stockBoard/tradingStrategies/scripts/__init__.py'"
      ]
     },
     "execution_count": 12,
     "metadata": {},
     "output_type": "execute_result"
    }
   ],
   "source": [
    "scripts.__file__"
   ]
  },
  {
   "cell_type": "code",
   "execution_count": 9,
   "metadata": {},
   "outputs": [
    {
     "data": {
      "text/plain": [
       "['__builtins__',\n",
       " '__cached__',\n",
       " '__doc__',\n",
       " '__file__',\n",
       " '__loader__',\n",
       " '__name__',\n",
       " '__package__',\n",
       " '__path__',\n",
       " '__spec__',\n",
       " 'os']"
      ]
     },
     "execution_count": 9,
     "metadata": {},
     "output_type": "execute_result"
    }
   ],
   "source": [
    "dir(module)"
   ]
  },
  {
   "cell_type": "code",
   "execution_count": 13,
   "metadata": {
    "scrolled": false
   },
   "outputs": [
    {
     "ename": "AttributeError",
     "evalue": "module 'scripts' has no attribute 'random_seed100'",
     "output_type": "error",
     "traceback": [
      "\u001b[0;31m---------------------------------------------------------------------------\u001b[0m",
      "\u001b[0;31mAttributeError\u001b[0m                            Traceback (most recent call last)",
      "\u001b[0;32m<ipython-input-13-722e08284308>\u001b[0m in \u001b[0;36m<module>\u001b[0;34m\u001b[0m\n\u001b[0;32m----> 1\u001b[0;31m \u001b[0mmy_class\u001b[0m \u001b[0;34m=\u001b[0m \u001b[0mgetattr\u001b[0m\u001b[0;34m(\u001b[0m\u001b[0mmodule\u001b[0m\u001b[0;34m,\u001b[0m\u001b[0;34m'random_seed100'\u001b[0m\u001b[0;34m)\u001b[0m\u001b[0;34m\u001b[0m\u001b[0;34m\u001b[0m\u001b[0m\n\u001b[0m",
      "\u001b[0;31mAttributeError\u001b[0m: module 'scripts' has no attribute 'random_seed100'"
     ]
    }
   ],
   "source": [
    "my_class = getattr(module,'random_seed100')"
   ]
  },
  {
   "cell_type": "code",
   "execution_count": 27,
   "metadata": {},
   "outputs": [
    {
     "ename": "NameError",
     "evalue": "name 'my_class' is not defined",
     "output_type": "error",
     "traceback": [
      "\u001b[0;31m---------------------------------------------------------------------------\u001b[0m",
      "\u001b[0;31mNameError\u001b[0m                                 Traceback (most recent call last)",
      "\u001b[0;32m<ipython-input-27-ea46af9c8177>\u001b[0m in \u001b[0;36m<module>\u001b[0;34m\u001b[0m\n\u001b[0;32m----> 1\u001b[0;31m \u001b[0mgetattr\u001b[0m\u001b[0;34m(\u001b[0m\u001b[0mmy_class\u001b[0m\u001b[0;34m,\u001b[0m\u001b[0;34m'run'\u001b[0m\u001b[0;34m)\u001b[0m\u001b[0;34m\u001b[0m\u001b[0;34m\u001b[0m\u001b[0m\n\u001b[0m",
      "\u001b[0;31mNameError\u001b[0m: name 'my_class' is not defined"
     ]
    }
   ],
   "source": [
    "getattr(my_class,'run')"
   ]
  },
  {
   "cell_type": "code",
   "execution_count": 28,
   "metadata": {},
   "outputs": [
    {
     "ename": "NameError",
     "evalue": "name 'my_class' is not defined",
     "output_type": "error",
     "traceback": [
      "\u001b[0;31m---------------------------------------------------------------------------\u001b[0m",
      "\u001b[0;31mNameError\u001b[0m                                 Traceback (most recent call last)",
      "\u001b[0;32m<ipython-input-28-facc256e8831>\u001b[0m in \u001b[0;36m<module>\u001b[0;34m\u001b[0m\n\u001b[0;32m----> 1\u001b[0;31m \u001b[0mmy_class\u001b[0m\u001b[0;34m.\u001b[0m\u001b[0mrun\u001b[0m\u001b[0;34m\u001b[0m\u001b[0;34m\u001b[0m\u001b[0m\n\u001b[0m",
      "\u001b[0;31mNameError\u001b[0m: name 'my_class' is not defined"
     ]
    }
   ],
   "source": [
    "my_class.run"
   ]
  },
  {
   "cell_type": "code",
   "execution_count": 29,
   "metadata": {},
   "outputs": [
    {
     "ename": "SyntaxError",
     "evalue": "invalid syntax (<ipython-input-29-81c56a05f115>, line 1)",
     "output_type": "error",
     "traceback": [
      "\u001b[0;36m  File \u001b[0;32m\"<ipython-input-29-81c56a05f115>\"\u001b[0;36m, line \u001b[0;32m1\u001b[0m\n\u001b[0;31m    import scripts.'random_seed100'\u001b[0m\n\u001b[0m                   ^\u001b[0m\n\u001b[0;31mSyntaxError\u001b[0m\u001b[0;31m:\u001b[0m invalid syntax\n"
     ]
    }
   ],
   "source": [
    "import scripts.'random_seed100'"
   ]
  },
  {
   "cell_type": "code",
   "execution_count": 18,
   "metadata": {},
   "outputs": [
    {
     "name": "stdout",
     "output_type": "stream",
     "text": [
      "backtest_dev.ipynb  history  __init__.py  instructions.md  sample.py  scripts\r\n"
     ]
    }
   ],
   "source": [
    "!ls"
   ]
  },
  {
   "cell_type": "code",
   "execution_count": null,
   "metadata": {},
   "outputs": [],
   "source": []
  }
 ],
 "metadata": {
  "kernelspec": {
   "display_name": "Python 3",
   "language": "python",
   "name": "python3"
  },
  "language_info": {
   "codemirror_mode": {
    "name": "ipython",
    "version": 3
   },
   "file_extension": ".py",
   "mimetype": "text/x-python",
   "name": "python",
   "nbconvert_exporter": "python",
   "pygments_lexer": "ipython3",
   "version": "3.8.5"
  }
 },
 "nbformat": 4,
 "nbformat_minor": 4
}
