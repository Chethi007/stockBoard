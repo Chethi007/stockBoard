{
 "cells": [
  {
   "cell_type": "markdown",
   "metadata": {},
   "source": [
    "# extract mapping for Angel Broking "
   ]
  },
  {
   "cell_type": "code",
   "execution_count": 1,
   "metadata": {},
   "outputs": [],
   "source": [
    "import pandas as pd\n",
    "import json\n",
    "import os \n",
    "import re\n",
    "\n",
    "# https://smartapi.angelbroking.com/docs/Historical\n",
    "# historical api only available for NSE eqt section"
   ]
  },
  {
   "cell_type": "code",
   "execution_count": 2,
   "metadata": {},
   "outputs": [],
   "source": [
    "df = pd.read_json(\"../assets/OpenAPIScripMaster.json\")"
   ]
  },
  {
   "cell_type": "code",
   "execution_count": 8,
   "metadata": {},
   "outputs": [],
   "source": [
    "# cropping the required data\n",
    "df_cropped = df[df.exch_seg.isin([\"BSE\",\"NSE\"])][[\"token\",\"symbol\",\"name\",\"exch_seg\"]]\n",
    "df_cropped.to_csv(\"../assets/token_mapping.csv\",index=False)"
   ]
  },
  {
   "cell_type": "code",
   "execution_count": 9,
   "metadata": {},
   "outputs": [],
   "source": []
  },
  {
   "cell_type": "code",
   "execution_count": 65,
   "metadata": {},
   "outputs": [],
   "source": [
    "df = pd.read_csv(\"../assets/token_mapping.csv\")"
   ]
  },
  {
   "cell_type": "code",
   "execution_count": 71,
   "metadata": {},
   "outputs": [],
   "source": [
    "df[df.symbol.str.contains('-EQ') &  df[\"exch_seg\"].str.contains('NSE')][[\"token\",\n",
    "                                                                        \"symbol\",\"name\"]].to_csv(\"../assets/token_symbol.csv\",index=False)\n"
   ]
  },
  {
   "cell_type": "code",
   "execution_count": 67,
   "metadata": {},
   "outputs": [
    {
     "data": {
      "text/html": [
       "<div>\n",
       "<style scoped>\n",
       "    .dataframe tbody tr th:only-of-type {\n",
       "        vertical-align: middle;\n",
       "    }\n",
       "\n",
       "    .dataframe tbody tr th {\n",
       "        vertical-align: top;\n",
       "    }\n",
       "\n",
       "    .dataframe thead th {\n",
       "        text-align: right;\n",
       "    }\n",
       "</style>\n",
       "<table border=\"1\" class=\"dataframe\">\n",
       "  <thead>\n",
       "    <tr style=\"text-align: right;\">\n",
       "      <th></th>\n",
       "      <th>token</th>\n",
       "      <th>symbol</th>\n",
       "      <th>name</th>\n",
       "      <th>exch_seg</th>\n",
       "    </tr>\n",
       "  </thead>\n",
       "  <tbody>\n",
       "    <tr>\n",
       "      <th>2019</th>\n",
       "      <td>12261</td>\n",
       "      <td>BHEL-BL</td>\n",
       "      <td>BHEL</td>\n",
       "      <td>NSE</td>\n",
       "    </tr>\n",
       "    <tr>\n",
       "      <th>2897</th>\n",
       "      <td>438</td>\n",
       "      <td>BHEL-EQ</td>\n",
       "      <td>BHEL</td>\n",
       "      <td>NSE</td>\n",
       "    </tr>\n",
       "    <tr>\n",
       "      <th>11372</th>\n",
       "      <td>719705</td>\n",
       "      <td>BHEL121120</td>\n",
       "      <td>BHEL121120</td>\n",
       "      <td>BSE</td>\n",
       "    </tr>\n",
       "    <tr>\n",
       "      <th>12225</th>\n",
       "      <td>720473</td>\n",
       "      <td>BHEL22321</td>\n",
       "      <td>BHEL22321</td>\n",
       "      <td>BSE</td>\n",
       "    </tr>\n",
       "    <tr>\n",
       "      <th>16376</th>\n",
       "      <td>500103</td>\n",
       "      <td>BHEL</td>\n",
       "      <td>BHEL</td>\n",
       "      <td>BSE</td>\n",
       "    </tr>\n",
       "    <tr>\n",
       "      <th>18279</th>\n",
       "      <td>720518</td>\n",
       "      <td>BHEL30321</td>\n",
       "      <td>BHEL30321</td>\n",
       "      <td>BSE</td>\n",
       "    </tr>\n",
       "    <tr>\n",
       "      <th>19119</th>\n",
       "      <td>720501</td>\n",
       "      <td>BHEL26321</td>\n",
       "      <td>BHEL26321</td>\n",
       "      <td>BSE</td>\n",
       "    </tr>\n",
       "  </tbody>\n",
       "</table>\n",
       "</div>"
      ],
      "text/plain": [
       "        token      symbol        name exch_seg\n",
       "2019    12261     BHEL-BL        BHEL      NSE\n",
       "2897      438     BHEL-EQ        BHEL      NSE\n",
       "11372  719705  BHEL121120  BHEL121120      BSE\n",
       "12225  720473   BHEL22321   BHEL22321      BSE\n",
       "16376  500103        BHEL        BHEL      BSE\n",
       "18279  720518   BHEL30321   BHEL30321      BSE\n",
       "19119  720501   BHEL26321   BHEL26321      BSE"
      ]
     },
     "execution_count": 67,
     "metadata": {},
     "output_type": "execute_result"
    }
   ],
   "source": [
    "df[df.symbol.str.contains('BHEL')]\n"
   ]
  },
  {
   "cell_type": "code",
   "execution_count": 33,
   "metadata": {},
   "outputs": [
    {
     "data": {
      "text/html": [
       "<div>\n",
       "<style scoped>\n",
       "    .dataframe tbody tr th:only-of-type {\n",
       "        vertical-align: middle;\n",
       "    }\n",
       "\n",
       "    .dataframe tbody tr th {\n",
       "        vertical-align: top;\n",
       "    }\n",
       "\n",
       "    .dataframe thead th {\n",
       "        text-align: right;\n",
       "    }\n",
       "</style>\n",
       "<table border=\"1\" class=\"dataframe\">\n",
       "  <thead>\n",
       "    <tr style=\"text-align: right;\">\n",
       "      <th></th>\n",
       "      <th>token</th>\n",
       "      <th>symbol</th>\n",
       "      <th>name</th>\n",
       "      <th>exch_seg</th>\n",
       "    </tr>\n",
       "  </thead>\n",
       "  <tbody>\n",
       "    <tr>\n",
       "      <th>3988</th>\n",
       "      <td>2475</td>\n",
       "      <td>ONGC-EQ</td>\n",
       "      <td>ONGC</td>\n",
       "      <td>NSE</td>\n",
       "    </tr>\n",
       "    <tr>\n",
       "      <th>6315</th>\n",
       "      <td>12646</td>\n",
       "      <td>ONGC-BL</td>\n",
       "      <td>ONGC</td>\n",
       "      <td>NSE</td>\n",
       "    </tr>\n",
       "    <tr>\n",
       "      <th>14910</th>\n",
       "      <td>500312</td>\n",
       "      <td>ONGC</td>\n",
       "      <td>ONGC</td>\n",
       "      <td>BSE</td>\n",
       "    </tr>\n",
       "  </tbody>\n",
       "</table>\n",
       "</div>"
      ],
      "text/plain": [
       "        token   symbol  name exch_seg\n",
       "3988     2475  ONGC-EQ  ONGC      NSE\n",
       "6315    12646  ONGC-BL  ONGC      NSE\n",
       "14910  500312     ONGC  ONGC      BSE"
      ]
     },
     "execution_count": 33,
     "metadata": {},
     "output_type": "execute_result"
    }
   ],
   "source": [
    "df[df.name==\"ONGC\"]"
   ]
  },
  {
   "cell_type": "code",
   "execution_count": null,
   "metadata": {},
   "outputs": [],
   "source": []
  }
 ],
 "metadata": {
  "kernelspec": {
   "display_name": "Python 3",
   "language": "python",
   "name": "python3"
  },
  "language_info": {
   "codemirror_mode": {
    "name": "ipython",
    "version": 3
   },
   "file_extension": ".py",
   "mimetype": "text/x-python",
   "name": "python",
   "nbconvert_exporter": "python",
   "pygments_lexer": "ipython3",
   "version": "3.8.5"
  }
 },
 "nbformat": 4,
 "nbformat_minor": 4
}
