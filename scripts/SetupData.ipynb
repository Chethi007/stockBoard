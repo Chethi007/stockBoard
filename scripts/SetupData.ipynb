{
 "cells": [
  {
   "cell_type": "code",
   "execution_count": 1,
   "metadata": {},
   "outputs": [],
   "source": [
    "import pandas as pd\n",
    "import numpy as np\n",
    "# import plotly.graph_objects as go\n",
    "from dateutil.parser import parse"
   ]
  },
  {
   "cell_type": "markdown",
   "metadata": {},
   "source": [
    "# structure (current Investment)\n",
    "- Name: \n",
    "- Number of Stocks\n",
    "- value\n",
    "- buyDate \n",
    "- TotalCost\n",
    "- External Charges\n",
    "\n",
    "\n",
    "- user ID\n",
    "P139346"
   ]
  },
  {
   "cell_type": "code",
   "execution_count": 2,
   "metadata": {},
   "outputs": [],
   "source": [
    "# enter data Buying Data\n",
    "data = [['SBIN',3,311,parse(\"2020/02/03\"),934.13],\n",
    "        ['SBIN',10,198.70,parse(\"2020/03/26\"),1987.00,20],\n",
    "       ['YESBANK',1,37.10,parse(\"2020/03/05\"),37.11],\n",
    "        ['ONGC',10,74.55,parse(\"2020/03/09\"),746.60],\n",
    "        ['INFY',3,779.00,parse(\"2020/07/08\"),2339.08],\n",
    "        ['SBIN',13,198.40,parse(\"2020/07/10\"),2582.30],\n",
    "        ['IOLCP',23,770.52,parse(\"2020/07/21\"),17743.36],\n",
    "        ['SBICARDS',19,755,parse(\"2020/03/20\"),14345],\n",
    "        ['HDFC',5,1030,parse(\"2020/07/31\"),5156.19],\n",
    "        ['RELIANCE',10,2125,parse(\"2020/07/29\"),21274.12],\n",
    "        ['IOLCP',5,740.00,parse(\"2020/07/22\"),3705.13]\n",
    "       ]\n",
    "dfBuy = pd.DataFrame(data)\n",
    "dfBuy.fillna(0,inplace=True)\n",
    "dfBuy.columns = ['Name','NumberOfStocks','BuyingPrice','Date','TotalCost','ExtraCharges']\n",
    "dfBuy[\"BrokerageCost\"] = dfBuy.TotalCost - dfBuy.NumberOfStocks*dfBuy.BuyingPrice + dfBuy.ExtraCharges"
   ]
  },
  {
   "cell_type": "code",
   "execution_count": 3,
   "metadata": {},
   "outputs": [
    {
     "data": {
      "text/html": [
       "<div>\n",
       "<style scoped>\n",
       "    .dataframe tbody tr th:only-of-type {\n",
       "        vertical-align: middle;\n",
       "    }\n",
       "\n",
       "    .dataframe tbody tr th {\n",
       "        vertical-align: top;\n",
       "    }\n",
       "\n",
       "    .dataframe thead th {\n",
       "        text-align: right;\n",
       "    }\n",
       "</style>\n",
       "<table border=\"1\" class=\"dataframe\">\n",
       "  <thead>\n",
       "    <tr style=\"text-align: right;\">\n",
       "      <th></th>\n",
       "      <th>Name</th>\n",
       "      <th>NumberOfStocks</th>\n",
       "      <th>BuyingPrice</th>\n",
       "      <th>Date</th>\n",
       "      <th>TotalCost</th>\n",
       "      <th>ExtraCharges</th>\n",
       "      <th>BrokerageCost</th>\n",
       "    </tr>\n",
       "  </thead>\n",
       "  <tbody>\n",
       "    <tr>\n",
       "      <th>0</th>\n",
       "      <td>SBIN</td>\n",
       "      <td>3</td>\n",
       "      <td>311.00</td>\n",
       "      <td>2020-02-03</td>\n",
       "      <td>934.13</td>\n",
       "      <td>0.0</td>\n",
       "      <td>1.13</td>\n",
       "    </tr>\n",
       "    <tr>\n",
       "      <th>2</th>\n",
       "      <td>YESBANK</td>\n",
       "      <td>1</td>\n",
       "      <td>37.10</td>\n",
       "      <td>2020-03-05</td>\n",
       "      <td>37.11</td>\n",
       "      <td>0.0</td>\n",
       "      <td>0.01</td>\n",
       "    </tr>\n",
       "    <tr>\n",
       "      <th>3</th>\n",
       "      <td>ONGC</td>\n",
       "      <td>10</td>\n",
       "      <td>74.55</td>\n",
       "      <td>2020-03-09</td>\n",
       "      <td>746.60</td>\n",
       "      <td>0.0</td>\n",
       "      <td>1.10</td>\n",
       "    </tr>\n",
       "    <tr>\n",
       "      <th>7</th>\n",
       "      <td>SBICARDS</td>\n",
       "      <td>19</td>\n",
       "      <td>755.00</td>\n",
       "      <td>2020-03-20</td>\n",
       "      <td>14345.00</td>\n",
       "      <td>0.0</td>\n",
       "      <td>0.00</td>\n",
       "    </tr>\n",
       "    <tr>\n",
       "      <th>1</th>\n",
       "      <td>SBIN</td>\n",
       "      <td>10</td>\n",
       "      <td>198.70</td>\n",
       "      <td>2020-03-26</td>\n",
       "      <td>1987.00</td>\n",
       "      <td>20.0</td>\n",
       "      <td>20.00</td>\n",
       "    </tr>\n",
       "    <tr>\n",
       "      <th>4</th>\n",
       "      <td>INFY</td>\n",
       "      <td>3</td>\n",
       "      <td>779.00</td>\n",
       "      <td>2020-07-08</td>\n",
       "      <td>2339.08</td>\n",
       "      <td>0.0</td>\n",
       "      <td>2.08</td>\n",
       "    </tr>\n",
       "    <tr>\n",
       "      <th>5</th>\n",
       "      <td>SBIN</td>\n",
       "      <td>13</td>\n",
       "      <td>198.40</td>\n",
       "      <td>2020-07-10</td>\n",
       "      <td>2582.30</td>\n",
       "      <td>0.0</td>\n",
       "      <td>3.10</td>\n",
       "    </tr>\n",
       "    <tr>\n",
       "      <th>6</th>\n",
       "      <td>IOLCP</td>\n",
       "      <td>23</td>\n",
       "      <td>770.52</td>\n",
       "      <td>2020-07-21</td>\n",
       "      <td>17743.36</td>\n",
       "      <td>0.0</td>\n",
       "      <td>21.40</td>\n",
       "    </tr>\n",
       "    <tr>\n",
       "      <th>10</th>\n",
       "      <td>IOLCP</td>\n",
       "      <td>5</td>\n",
       "      <td>740.00</td>\n",
       "      <td>2020-07-22</td>\n",
       "      <td>3705.13</td>\n",
       "      <td>0.0</td>\n",
       "      <td>5.13</td>\n",
       "    </tr>\n",
       "    <tr>\n",
       "      <th>9</th>\n",
       "      <td>RELIANCE</td>\n",
       "      <td>10</td>\n",
       "      <td>2125.00</td>\n",
       "      <td>2020-07-29</td>\n",
       "      <td>21274.12</td>\n",
       "      <td>0.0</td>\n",
       "      <td>24.12</td>\n",
       "    </tr>\n",
       "    <tr>\n",
       "      <th>8</th>\n",
       "      <td>HDFC</td>\n",
       "      <td>5</td>\n",
       "      <td>1030.00</td>\n",
       "      <td>2020-07-31</td>\n",
       "      <td>5156.19</td>\n",
       "      <td>0.0</td>\n",
       "      <td>6.19</td>\n",
       "    </tr>\n",
       "  </tbody>\n",
       "</table>\n",
       "</div>"
      ],
      "text/plain": [
       "        Name  NumberOfStocks  BuyingPrice       Date  TotalCost  ExtraCharges  \\\n",
       "0       SBIN               3       311.00 2020-02-03     934.13           0.0   \n",
       "2    YESBANK               1        37.10 2020-03-05      37.11           0.0   \n",
       "3       ONGC              10        74.55 2020-03-09     746.60           0.0   \n",
       "7   SBICARDS              19       755.00 2020-03-20   14345.00           0.0   \n",
       "1       SBIN              10       198.70 2020-03-26    1987.00          20.0   \n",
       "4       INFY               3       779.00 2020-07-08    2339.08           0.0   \n",
       "5       SBIN              13       198.40 2020-07-10    2582.30           0.0   \n",
       "6      IOLCP              23       770.52 2020-07-21   17743.36           0.0   \n",
       "10     IOLCP               5       740.00 2020-07-22    3705.13           0.0   \n",
       "9   RELIANCE              10      2125.00 2020-07-29   21274.12           0.0   \n",
       "8       HDFC               5      1030.00 2020-07-31    5156.19           0.0   \n",
       "\n",
       "    BrokerageCost  \n",
       "0            1.13  \n",
       "2            0.01  \n",
       "3            1.10  \n",
       "7            0.00  \n",
       "1           20.00  \n",
       "4            2.08  \n",
       "5            3.10  \n",
       "6           21.40  \n",
       "10           5.13  \n",
       "9           24.12  \n",
       "8            6.19  "
      ]
     },
     "execution_count": 3,
     "metadata": {},
     "output_type": "execute_result"
    }
   ],
   "source": [
    "dfBuy.sort_values(by='Date')"
   ]
  },
  {
   "cell_type": "code",
   "execution_count": 6,
   "metadata": {},
   "outputs": [],
   "source": [
    "# save file\n",
    "# dfBuy.to_csv(\"./data/dfBuy.csv\",index=False)"
   ]
  },
  {
   "cell_type": "code",
   "execution_count": 5,
   "metadata": {},
   "outputs": [
    {
     "data": {
      "text/plain": [
       "24.12"
      ]
     },
     "execution_count": 5,
     "metadata": {},
     "output_type": "execute_result"
    }
   ],
   "source": [
    "# 17099.37+4174.75\n",
    "19.37+4.75"
   ]
  },
  {
   "cell_type": "code",
   "execution_count": 7,
   "metadata": {},
   "outputs": [],
   "source": [
    "# enter data SElling Data\n",
    "data = [  ['SBIN',10,196.50,parse(\"2020/03/26\"),1965.00,27.43],\n",
    "           ['INFY',3,932.00,parse(\"2020/07/16\"),2792.89],\n",
    "           ['SBICARDS',19,796,parse(\"2020/07/21\"),15108.15],\n",
    "           ['IOLCP',28,796,parse(\"2020/07/29\"),22312.49]\n",
    "           ]\n",
    "dfSell = pd.DataFrame(data)\n",
    "dfSell.fillna(0,inplace=True)\n",
    "dfSell.columns = ['Name','NumberOfStocks','SellingPrice','Date','TotalCost','ExtraCharges']\n",
    "dfSell[\"BrokerageCost\"] = abs(dfSell.TotalCost - \\\n",
    "                              dfSell.NumberOfStocks*dfSell.SellingPrice + dfSell.ExtraCharges)"
   ]
  },
  {
   "cell_type": "code",
   "execution_count": 8,
   "metadata": {},
   "outputs": [
    {
     "data": {
      "text/html": [
       "<div>\n",
       "<style scoped>\n",
       "    .dataframe tbody tr th:only-of-type {\n",
       "        vertical-align: middle;\n",
       "    }\n",
       "\n",
       "    .dataframe tbody tr th {\n",
       "        vertical-align: top;\n",
       "    }\n",
       "\n",
       "    .dataframe thead th {\n",
       "        text-align: right;\n",
       "    }\n",
       "</style>\n",
       "<table border=\"1\" class=\"dataframe\">\n",
       "  <thead>\n",
       "    <tr style=\"text-align: right;\">\n",
       "      <th></th>\n",
       "      <th>Name</th>\n",
       "      <th>NumberOfStocks</th>\n",
       "      <th>SellingPrice</th>\n",
       "      <th>Date</th>\n",
       "      <th>TotalCost</th>\n",
       "      <th>ExtraCharges</th>\n",
       "      <th>BrokerageCost</th>\n",
       "    </tr>\n",
       "  </thead>\n",
       "  <tbody>\n",
       "    <tr>\n",
       "      <th>0</th>\n",
       "      <td>SBIN</td>\n",
       "      <td>10</td>\n",
       "      <td>196.5</td>\n",
       "      <td>2020-03-26</td>\n",
       "      <td>1965.00</td>\n",
       "      <td>27.43</td>\n",
       "      <td>27.43</td>\n",
       "    </tr>\n",
       "    <tr>\n",
       "      <th>1</th>\n",
       "      <td>INFY</td>\n",
       "      <td>3</td>\n",
       "      <td>932.0</td>\n",
       "      <td>2020-07-16</td>\n",
       "      <td>2792.89</td>\n",
       "      <td>0.00</td>\n",
       "      <td>3.11</td>\n",
       "    </tr>\n",
       "    <tr>\n",
       "      <th>2</th>\n",
       "      <td>SBICARDS</td>\n",
       "      <td>19</td>\n",
       "      <td>796.0</td>\n",
       "      <td>2020-07-21</td>\n",
       "      <td>15108.15</td>\n",
       "      <td>0.00</td>\n",
       "      <td>15.85</td>\n",
       "    </tr>\n",
       "    <tr>\n",
       "      <th>3</th>\n",
       "      <td>IOLCP</td>\n",
       "      <td>28</td>\n",
       "      <td>796.0</td>\n",
       "      <td>2020-07-29</td>\n",
       "      <td>22312.49</td>\n",
       "      <td>0.00</td>\n",
       "      <td>24.49</td>\n",
       "    </tr>\n",
       "  </tbody>\n",
       "</table>\n",
       "</div>"
      ],
      "text/plain": [
       "       Name  NumberOfStocks  SellingPrice       Date  TotalCost  ExtraCharges  \\\n",
       "0      SBIN              10         196.5 2020-03-26    1965.00         27.43   \n",
       "1      INFY               3         932.0 2020-07-16    2792.89          0.00   \n",
       "2  SBICARDS              19         796.0 2020-07-21   15108.15          0.00   \n",
       "3     IOLCP              28         796.0 2020-07-29   22312.49          0.00   \n",
       "\n",
       "   BrokerageCost  \n",
       "0          27.43  \n",
       "1           3.11  \n",
       "2          15.85  \n",
       "3          24.49  "
      ]
     },
     "execution_count": 8,
     "metadata": {},
     "output_type": "execute_result"
    }
   ],
   "source": [
    "dfSell.sort_values(by='Date')"
   ]
  },
  {
   "cell_type": "code",
   "execution_count": 10,
   "metadata": {},
   "outputs": [],
   "source": [
    "#save\n",
    "# dfSell.to_csv(\"./data/dfSell.csv\",index=False)"
   ]
  },
  {
   "cell_type": "code",
   "execution_count": 11,
   "metadata": {},
   "outputs": [],
   "source": [
    "# Demat acc. investment\n",
    "data = [  [1000,parse(\"2020/02/29\"),'add'],\n",
    "            [740,parse(\"2020/03/09\"),'add'],\n",
    "            [50,parse(\"2020/03/30\"),'Div'],\n",
    "           [5000,parse(\"2020/07/08\"),'add'],\n",
    "           [8000,parse(\"2020/07/20\"),'add'],\n",
    "           [14345,parse(\"2020/03/20\"),'add']\n",
    "           \n",
    "      ]\n",
    "\n",
    "\n",
    "dfInvest = pd.DataFrame(data)\n",
    "dfInvest.fillna(0,inplace=True)\n",
    "dfInvest.columns = ['Amount','Date','Description']"
   ]
  },
  {
   "cell_type": "code",
   "execution_count": 12,
   "metadata": {},
   "outputs": [
    {
     "data": {
      "text/html": [
       "<div>\n",
       "<style scoped>\n",
       "    .dataframe tbody tr th:only-of-type {\n",
       "        vertical-align: middle;\n",
       "    }\n",
       "\n",
       "    .dataframe tbody tr th {\n",
       "        vertical-align: top;\n",
       "    }\n",
       "\n",
       "    .dataframe thead th {\n",
       "        text-align: right;\n",
       "    }\n",
       "</style>\n",
       "<table border=\"1\" class=\"dataframe\">\n",
       "  <thead>\n",
       "    <tr style=\"text-align: right;\">\n",
       "      <th></th>\n",
       "      <th>Amount</th>\n",
       "      <th>Date</th>\n",
       "      <th>Description</th>\n",
       "    </tr>\n",
       "  </thead>\n",
       "  <tbody>\n",
       "    <tr>\n",
       "      <th>0</th>\n",
       "      <td>1000</td>\n",
       "      <td>2020-02-29</td>\n",
       "      <td>add</td>\n",
       "    </tr>\n",
       "    <tr>\n",
       "      <th>1</th>\n",
       "      <td>740</td>\n",
       "      <td>2020-03-09</td>\n",
       "      <td>add</td>\n",
       "    </tr>\n",
       "    <tr>\n",
       "      <th>5</th>\n",
       "      <td>14345</td>\n",
       "      <td>2020-03-20</td>\n",
       "      <td>add</td>\n",
       "    </tr>\n",
       "    <tr>\n",
       "      <th>2</th>\n",
       "      <td>50</td>\n",
       "      <td>2020-03-30</td>\n",
       "      <td>Div</td>\n",
       "    </tr>\n",
       "    <tr>\n",
       "      <th>3</th>\n",
       "      <td>5000</td>\n",
       "      <td>2020-07-08</td>\n",
       "      <td>add</td>\n",
       "    </tr>\n",
       "    <tr>\n",
       "      <th>4</th>\n",
       "      <td>8000</td>\n",
       "      <td>2020-07-20</td>\n",
       "      <td>add</td>\n",
       "    </tr>\n",
       "  </tbody>\n",
       "</table>\n",
       "</div>"
      ],
      "text/plain": [
       "   Amount       Date Description\n",
       "0    1000 2020-02-29         add\n",
       "1     740 2020-03-09         add\n",
       "5   14345 2020-03-20         add\n",
       "2      50 2020-03-30         Div\n",
       "3    5000 2020-07-08         add\n",
       "4    8000 2020-07-20         add"
      ]
     },
     "execution_count": 12,
     "metadata": {},
     "output_type": "execute_result"
    }
   ],
   "source": [
    "dfInvest.sort_values(by='Date')"
   ]
  },
  {
   "cell_type": "code",
   "execution_count": 13,
   "metadata": {},
   "outputs": [],
   "source": [
    "#save\n",
    "#dfInvest.to_csv(\"./data/dfInvest.csv\",index=False)"
   ]
  },
  {
   "cell_type": "code",
   "execution_count": 13,
   "metadata": {},
   "outputs": [],
   "source": [
    "import os"
   ]
  },
  {
   "cell_type": "code",
   "execution_count": 17,
   "metadata": {},
   "outputs": [
    {
     "data": {
      "text/plain": [
       "'.'"
      ]
     },
     "execution_count": 17,
     "metadata": {},
     "output_type": "execute_result"
    }
   ],
   "source": [
    "os.chdir('./')\n",
    "os.curdir"
   ]
  },
  {
   "cell_type": "code",
   "execution_count": 60,
   "metadata": {},
   "outputs": [
    {
     "name": "stdout",
     "output_type": "stream",
     "text": [
      "Overwriting StockData.py\n"
     ]
    }
   ],
   "source": [
    "%%writefile StockData.py\n",
    "\n",
    "import os\n",
    "import pandas as pd\n",
    "class StockData:\n",
    "    def __init__(self,):\n",
    "        self.Buy = None\n",
    "        self.Sell = None\n",
    "        self.Invest = None\n",
    "        try:\n",
    "            assert os.path.isdir('data') == True\n",
    "        except:\n",
    "            print(\"./data folder not found \")\n",
    "            \n",
    "        self.location = './data/'\n",
    "    \n",
    "    def load(self,):\n",
    "        \"\"\" Load the values form ./data folder\"\"\"\n",
    "        self.Buy = self.loadData('dfBuy.csv')\n",
    "        self.Sell = self.loadData('dfSell.csv')\n",
    "        self.Invest = self.loadData('dfInvest.csv')\n",
    "        print(\"Files Successfully loaded\")\n",
    "    \n",
    "    def getData(self,s):\n",
    "        dic = {'buy':self.Buy, 'sell':self.Sell, 'invest':self.Invest}\n",
    "        return dic[s.lower()]\n",
    "        \n",
    "    def loadData(self,s):\n",
    "        try:\n",
    "            assert os.path.isfile(self.location+s) == True\n",
    "        except:\n",
    "            print(f\"{self.location+s} file not found \")\n",
    "        return pd.read_csv(self.location+s)\n",
    "\n",
    "        "
   ]
  },
  {
   "cell_type": "code",
   "execution_count": 54,
   "metadata": {},
   "outputs": [
    {
     "name": "stdout",
     "output_type": "stream",
     "text": [
      "Files Successfully loaded\n"
     ]
    }
   ],
   "source": [
    "sd = StockData()\n",
    "sd.load()"
   ]
  },
  {
   "cell_type": "code",
   "execution_count": 46,
   "metadata": {},
   "outputs": [
    {
     "data": {
      "text/html": [
       "<div>\n",
       "<style scoped>\n",
       "    .dataframe tbody tr th:only-of-type {\n",
       "        vertical-align: middle;\n",
       "    }\n",
       "\n",
       "    .dataframe tbody tr th {\n",
       "        vertical-align: top;\n",
       "    }\n",
       "\n",
       "    .dataframe thead th {\n",
       "        text-align: right;\n",
       "    }\n",
       "</style>\n",
       "<table border=\"1\" class=\"dataframe\">\n",
       "  <thead>\n",
       "    <tr style=\"text-align: right;\">\n",
       "      <th></th>\n",
       "      <th>Amount</th>\n",
       "      <th>Date</th>\n",
       "      <th>Description</th>\n",
       "    </tr>\n",
       "  </thead>\n",
       "  <tbody>\n",
       "    <tr>\n",
       "      <th>0</th>\n",
       "      <td>1000</td>\n",
       "      <td>2020-02-29</td>\n",
       "      <td>add</td>\n",
       "    </tr>\n",
       "    <tr>\n",
       "      <th>1</th>\n",
       "      <td>740</td>\n",
       "      <td>2020-03-09</td>\n",
       "      <td>add</td>\n",
       "    </tr>\n",
       "    <tr>\n",
       "      <th>2</th>\n",
       "      <td>50</td>\n",
       "      <td>2020-03-30</td>\n",
       "      <td>Div</td>\n",
       "    </tr>\n",
       "    <tr>\n",
       "      <th>3</th>\n",
       "      <td>5000</td>\n",
       "      <td>2020-07-08</td>\n",
       "      <td>add</td>\n",
       "    </tr>\n",
       "    <tr>\n",
       "      <th>4</th>\n",
       "      <td>8000</td>\n",
       "      <td>2020-07-20</td>\n",
       "      <td>add</td>\n",
       "    </tr>\n",
       "    <tr>\n",
       "      <th>5</th>\n",
       "      <td>14345</td>\n",
       "      <td>2020-03-20</td>\n",
       "      <td>add</td>\n",
       "    </tr>\n",
       "  </tbody>\n",
       "</table>\n",
       "</div>"
      ],
      "text/plain": [
       "   Amount        Date Description\n",
       "0    1000  2020-02-29         add\n",
       "1     740  2020-03-09         add\n",
       "2      50  2020-03-30         Div\n",
       "3    5000  2020-07-08         add\n",
       "4    8000  2020-07-20         add\n",
       "5   14345  2020-03-20         add"
      ]
     },
     "execution_count": 46,
     "metadata": {},
     "output_type": "execute_result"
    }
   ],
   "source": [
    "sd.Invest"
   ]
  },
  {
   "cell_type": "code",
   "execution_count": 64,
   "metadata": {},
   "outputs": [
    {
     "name": "stdout",
     "output_type": "stream",
     "text": [
      "Overwriting StockBoard.py\n"
     ]
    }
   ],
   "source": [
    "%%writefile StockBoard.py\n",
    "import pandas as pd\n",
    "import numpy as np\n",
    "# import plotly.graph_objects as go\n",
    "from dateutil.parser import parse\n",
    "\n",
    "\n",
    "class StockBoard:\n",
    "    \n",
    "    def __init__(self,data):\n",
    "        \"\"\"Contains all funciton of StockBoard\"\"\"\n",
    "        self.data = data\n",
    "        \n",
    "    def getFilterdDate(self,dfName,date ):\n",
    "        # date in string format\n",
    "        df = self.data.getData(dfName)\n",
    "        return df[df.Date <= parse(date)]\n",
    "\n",
    "    def getCurrBalance(self,):\n",
    "        dfBuy, dfSell, dfInvest = self.data.Buy, self.data.Sell, self.data.Invest\n",
    "        val =  sum(dfInvest.Amount)-(   sum(dfBuy.NumberOfStocks*dfBuy.BuyingPrice)+ \\\n",
    "                sum(dfBuy.BrokerageCost)+sum(dfSell.BrokerageCost) \\\n",
    "\n",
    "                -sum(dfSell.NumberOfStocks * dfSell.SellingPrice))\n",
    "        return round(val,2)"
   ]
  },
  {
   "cell_type": "code",
   "execution_count": 187,
   "metadata": {},
   "outputs": [
    {
     "name": "stdout",
     "output_type": "stream",
     "text": [
      "Account Balance 2663.65 on 2020/07/8\n"
     ]
    }
   ],
   "source": [
    "date = '2020/07/8'\n",
    "dfBuyTemp = getFilterdDate(dfBuy,date)\n",
    "dfSellTemp = getFilterdDate(dfSell,date)\n",
    "dfInvestTemp = getFilterdDate(dfInvest,date)\n",
    "\n",
    "currBalance = getCurrBalance(dfBuyTemp,dfSellTemp,dfInvestTemp)\n",
    "currBalance =  np.round(currBalance,2)\n",
    "print(f\"Account Balance {currBalance} on {date}\") #367.10"
   ]
  },
  {
   "cell_type": "code",
   "execution_count": 160,
   "metadata": {},
   "outputs": [],
   "source": [
    "# profit\n",
    "profit = (sum(dfs.TotalCost)-sum(dfs.ExtraCharges))+(sum(df.TotalCost)-sum(df.ExtraCharges)) -sum(dfAcc[dfAcc.Description == 'add'].Amount) "
   ]
  },
  {
   "cell_type": "code",
   "execution_count": 161,
   "metadata": {},
   "outputs": [
    {
     "data": {
      "text/plain": [
       "83895.79000000001"
      ]
     },
     "execution_count": 161,
     "metadata": {},
     "output_type": "execute_result"
    }
   ],
   "source": [
    "profit"
   ]
  },
  {
   "cell_type": "code",
   "execution_count": 162,
   "metadata": {},
   "outputs": [
    {
     "data": {
      "text/plain": [
       "0.9200000000000728"
      ]
     },
     "execution_count": 162,
     "metadata": {},
     "output_type": "execute_result"
    }
   ],
   "source": [
    "5523.29 - 5522.37"
   ]
  },
  {
   "cell_type": "code",
   "execution_count": null,
   "metadata": {},
   "outputs": [],
   "source": []
  },
  {
   "cell_type": "code",
   "execution_count": null,
   "metadata": {},
   "outputs": [],
   "source": []
  }
 ],
 "metadata": {
  "kernelspec": {
   "display_name": "Python 3",
   "language": "python",
   "name": "python3"
  },
  "language_info": {
   "codemirror_mode": {
    "name": "ipython",
    "version": 3
   },
   "file_extension": ".py",
   "mimetype": "text/x-python",
   "name": "python",
   "nbconvert_exporter": "python",
   "pygments_lexer": "ipython3",
   "version": "3.7.0"
  }
 },
 "nbformat": 4,
 "nbformat_minor": 4
}
