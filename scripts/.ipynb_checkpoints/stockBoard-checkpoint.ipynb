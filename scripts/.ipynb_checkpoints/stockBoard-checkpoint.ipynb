{
 "cells": [
  {
   "cell_type": "markdown",
   "metadata": {
    "colab_type": "text",
    "id": "8lCdPwyAKnw8"
   },
   "source": [
    "# **StockBoard**\n",
    "- [ ] Link Dash with colab\n",
    "- [ ] Make simple UI and test it\n",
    "- [ ] Upload your trading Data\n",
    "- [ ] Add visualizations and charts\n"
   ]
  },
  {
   "cell_type": "markdown",
   "metadata": {},
   "source": [
    "# Import Libraries"
   ]
  },
  {
   "cell_type": "code",
   "execution_count": 30,
   "metadata": {},
   "outputs": [],
   "source": [
    "import StockData as sd \n",
    "import StockBoard as sb\n",
    "from alpha_vantage.timeseries import TimeSeries \n",
    "import pickle \n",
    "import pandas as pd"
   ]
  },
  {
   "cell_type": "code",
   "execution_count": 31,
   "metadata": {},
   "outputs": [
    {
     "name": "stdout",
     "output_type": "stream",
     "text": [
      "Files Successfully loaded\n"
     ]
    }
   ],
   "source": [
    "a = sd.StockData()\n",
    "a.load()\n",
    "stock = sb.StockBoard(a)"
   ]
  },
  {
   "cell_type": "markdown",
   "metadata": {},
   "source": [
    "## Get your current balance"
   ]
  },
  {
   "cell_type": "code",
   "execution_count": 32,
   "metadata": {
    "scrolled": true
   },
   "outputs": [
    {
     "data": {
      "text/plain": [
       "367.1"
      ]
     },
     "execution_count": 32,
     "metadata": {},
     "output_type": "execute_result"
    }
   ],
   "source": [
    "stock.getCurrBalance()"
   ]
  },
  {
   "cell_type": "code",
   "execution_count": 33,
   "metadata": {},
   "outputs": [],
   "source": [
    "from datetime import datetime"
   ]
  },
  {
   "cell_type": "code",
   "execution_count": 34,
   "metadata": {},
   "outputs": [],
   "source": [
    "# data Structure\n",
    "sellData = {\n",
    "    \"Name\":'test',\n",
    "    \"NumberOfStocks\":45,\n",
    "    \"SellingPrice\":15,\n",
    "    \"Date\":datetime.now(),\n",
    "    \"TotalCost\":10,\n",
    "    \"ExtraCharges\":0,\n",
    "    }\n",
    "\n",
    "buyData = {\n",
    "    \"Name\":'',\n",
    "    \"NumberOfStocks\":'',\n",
    "    \"BuyingPrice\":0,\n",
    "    \"Date\":datetime.now(),\n",
    "    \"TotalCost\":0,\n",
    "    \"ExtraCharges\":0,\n",
    "    }\n",
    "\n",
    "InvestData = {\n",
    "    \"Amount\":0,\n",
    "    \"Date\":datetime.now(),\n",
    "    \"Description\":'add',\n",
    "    }"
   ]
  },
  {
   "cell_type": "code",
   "execution_count": 59,
   "metadata": {},
   "outputs": [],
   "source": [
    "df = a.getData('sell')"
   ]
  },
  {
   "cell_type": "code",
   "execution_count": 64,
   "metadata": {},
   "outputs": [],
   "source": [
    "gg = pd.DataFrame(list(sellData.values()),sellData.keys()).T"
   ]
  },
  {
   "cell_type": "code",
   "execution_count": 65,
   "metadata": {},
   "outputs": [
    {
     "data": {
      "text/html": [
       "<div>\n",
       "<style scoped>\n",
       "    .dataframe tbody tr th:only-of-type {\n",
       "        vertical-align: middle;\n",
       "    }\n",
       "\n",
       "    .dataframe tbody tr th {\n",
       "        vertical-align: top;\n",
       "    }\n",
       "\n",
       "    .dataframe thead th {\n",
       "        text-align: right;\n",
       "    }\n",
       "</style>\n",
       "<table border=\"1\" class=\"dataframe\">\n",
       "  <thead>\n",
       "    <tr style=\"text-align: right;\">\n",
       "      <th></th>\n",
       "      <th>Name</th>\n",
       "      <th>NumberOfStocks</th>\n",
       "      <th>SellingPrice</th>\n",
       "      <th>Date</th>\n",
       "      <th>TotalCost</th>\n",
       "      <th>ExtraCharges</th>\n",
       "    </tr>\n",
       "  </thead>\n",
       "  <tbody>\n",
       "    <tr>\n",
       "      <th>0</th>\n",
       "      <td>test</td>\n",
       "      <td>45</td>\n",
       "      <td>15</td>\n",
       "      <td>20200907</td>\n",
       "      <td>10</td>\n",
       "      <td>0</td>\n",
       "    </tr>\n",
       "  </tbody>\n",
       "</table>\n",
       "</div>"
      ],
      "text/plain": [
       "   Name NumberOfStocks SellingPrice      Date TotalCost ExtraCharges\n",
       "0  test             45           15  20200907        10            0"
      ]
     },
     "execution_count": 65,
     "metadata": {},
     "output_type": "execute_result"
    }
   ],
   "source": [
    "gg"
   ]
  },
  {
   "cell_type": "code",
   "execution_count": null,
   "metadata": {},
   "outputs": [],
   "source": []
  },
  {
   "cell_type": "code",
   "execution_count": 60,
   "metadata": {},
   "outputs": [],
   "source": [
    "dg = df.append(gg, ignore_index=True)"
   ]
  },
  {
   "cell_type": "code",
   "execution_count": 58,
   "metadata": {},
   "outputs": [
    {
     "ename": "KeyError",
     "evalue": "\"['BrokerageCost'] not in index\"",
     "output_type": "error",
     "traceback": [
      "\u001b[0;31m---------------------------------------------------------------------------\u001b[0m",
      "\u001b[0;31mKeyError\u001b[0m                                  Traceback (most recent call last)",
      "\u001b[0;32m<ipython-input-58-6a1ebc424634>\u001b[0m in \u001b[0;36m<module>\u001b[0;34m\u001b[0m\n\u001b[1;32m      1\u001b[0m df = df[['Name', 'NumberOfStocks', 'SellingPrice', 'Date', 'TotalCost',\n\u001b[0;32m----> 2\u001b[0;31m        'ExtraCharges', 'BrokerageCost']]\n\u001b[0m",
      "\u001b[0;32m~/anaconda3/lib/python3.7/site-packages/pandas/core/frame.py\u001b[0m in \u001b[0;36m__getitem__\u001b[0;34m(self, key)\u001b[0m\n\u001b[1;32m   2906\u001b[0m             \u001b[0;32mif\u001b[0m \u001b[0mis_iterator\u001b[0m\u001b[0;34m(\u001b[0m\u001b[0mkey\u001b[0m\u001b[0;34m)\u001b[0m\u001b[0;34m:\u001b[0m\u001b[0;34m\u001b[0m\u001b[0m\n\u001b[1;32m   2907\u001b[0m                 \u001b[0mkey\u001b[0m \u001b[0;34m=\u001b[0m \u001b[0mlist\u001b[0m\u001b[0;34m(\u001b[0m\u001b[0mkey\u001b[0m\u001b[0;34m)\u001b[0m\u001b[0;34m\u001b[0m\u001b[0m\n\u001b[0;32m-> 2908\u001b[0;31m             \u001b[0mindexer\u001b[0m \u001b[0;34m=\u001b[0m \u001b[0mself\u001b[0m\u001b[0;34m.\u001b[0m\u001b[0mloc\u001b[0m\u001b[0;34m.\u001b[0m\u001b[0m_get_listlike_indexer\u001b[0m\u001b[0;34m(\u001b[0m\u001b[0mkey\u001b[0m\u001b[0;34m,\u001b[0m \u001b[0maxis\u001b[0m\u001b[0;34m=\u001b[0m\u001b[0;36m1\u001b[0m\u001b[0;34m,\u001b[0m \u001b[0mraise_missing\u001b[0m\u001b[0;34m=\u001b[0m\u001b[0;32mTrue\u001b[0m\u001b[0;34m)\u001b[0m\u001b[0;34m[\u001b[0m\u001b[0;36m1\u001b[0m\u001b[0;34m]\u001b[0m\u001b[0;34m\u001b[0m\u001b[0m\n\u001b[0m\u001b[1;32m   2909\u001b[0m \u001b[0;34m\u001b[0m\u001b[0m\n\u001b[1;32m   2910\u001b[0m         \u001b[0;31m# take() does not accept boolean indexers\u001b[0m\u001b[0;34m\u001b[0m\u001b[0;34m\u001b[0m\u001b[0m\n",
      "\u001b[0;32m~/anaconda3/lib/python3.7/site-packages/pandas/core/indexing.py\u001b[0m in \u001b[0;36m_get_listlike_indexer\u001b[0;34m(self, key, axis, raise_missing)\u001b[0m\n\u001b[1;32m   1252\u001b[0m             \u001b[0mkeyarr\u001b[0m\u001b[0;34m,\u001b[0m \u001b[0mindexer\u001b[0m\u001b[0;34m,\u001b[0m \u001b[0mnew_indexer\u001b[0m \u001b[0;34m=\u001b[0m \u001b[0max\u001b[0m\u001b[0;34m.\u001b[0m\u001b[0m_reindex_non_unique\u001b[0m\u001b[0;34m(\u001b[0m\u001b[0mkeyarr\u001b[0m\u001b[0;34m)\u001b[0m\u001b[0;34m\u001b[0m\u001b[0m\n\u001b[1;32m   1253\u001b[0m \u001b[0;34m\u001b[0m\u001b[0m\n\u001b[0;32m-> 1254\u001b[0;31m         \u001b[0mself\u001b[0m\u001b[0;34m.\u001b[0m\u001b[0m_validate_read_indexer\u001b[0m\u001b[0;34m(\u001b[0m\u001b[0mkeyarr\u001b[0m\u001b[0;34m,\u001b[0m \u001b[0mindexer\u001b[0m\u001b[0;34m,\u001b[0m \u001b[0maxis\u001b[0m\u001b[0;34m,\u001b[0m \u001b[0mraise_missing\u001b[0m\u001b[0;34m=\u001b[0m\u001b[0mraise_missing\u001b[0m\u001b[0;34m)\u001b[0m\u001b[0;34m\u001b[0m\u001b[0m\n\u001b[0m\u001b[1;32m   1255\u001b[0m         \u001b[0;32mreturn\u001b[0m \u001b[0mkeyarr\u001b[0m\u001b[0;34m,\u001b[0m \u001b[0mindexer\u001b[0m\u001b[0;34m\u001b[0m\u001b[0m\n\u001b[1;32m   1256\u001b[0m \u001b[0;34m\u001b[0m\u001b[0m\n",
      "\u001b[0;32m~/anaconda3/lib/python3.7/site-packages/pandas/core/indexing.py\u001b[0m in \u001b[0;36m_validate_read_indexer\u001b[0;34m(self, key, indexer, axis, raise_missing)\u001b[0m\n\u001b[1;32m   1302\u001b[0m             \u001b[0;32mif\u001b[0m \u001b[0mraise_missing\u001b[0m\u001b[0;34m:\u001b[0m\u001b[0;34m\u001b[0m\u001b[0m\n\u001b[1;32m   1303\u001b[0m                 \u001b[0mnot_found\u001b[0m \u001b[0;34m=\u001b[0m \u001b[0mlist\u001b[0m\u001b[0;34m(\u001b[0m\u001b[0mset\u001b[0m\u001b[0;34m(\u001b[0m\u001b[0mkey\u001b[0m\u001b[0;34m)\u001b[0m \u001b[0;34m-\u001b[0m \u001b[0mset\u001b[0m\u001b[0;34m(\u001b[0m\u001b[0max\u001b[0m\u001b[0;34m)\u001b[0m\u001b[0;34m)\u001b[0m\u001b[0;34m\u001b[0m\u001b[0m\n\u001b[0;32m-> 1304\u001b[0;31m                 \u001b[0;32mraise\u001b[0m \u001b[0mKeyError\u001b[0m\u001b[0;34m(\u001b[0m\u001b[0;34mf\"{not_found} not in index\"\u001b[0m\u001b[0;34m)\u001b[0m\u001b[0;34m\u001b[0m\u001b[0m\n\u001b[0m\u001b[1;32m   1305\u001b[0m \u001b[0;34m\u001b[0m\u001b[0m\n\u001b[1;32m   1306\u001b[0m             \u001b[0;31m# we skip the warning on Categorical\u001b[0m\u001b[0;34m\u001b[0m\u001b[0;34m\u001b[0m\u001b[0m\n",
      "\u001b[0;31mKeyError\u001b[0m: \"['BrokerageCost'] not in index\""
     ]
    }
   ],
   "source": [
    "df = df[['Name', 'NumberOfStocks', 'SellingPrice', 'Date', 'TotalCost',\n",
    "       'ExtraCharges', 'BrokerageCost']]"
   ]
  },
  {
   "cell_type": "code",
   "execution_count": 61,
   "metadata": {},
   "outputs": [
    {
     "data": {
      "text/html": [
       "<div>\n",
       "<style scoped>\n",
       "    .dataframe tbody tr th:only-of-type {\n",
       "        vertical-align: middle;\n",
       "    }\n",
       "\n",
       "    .dataframe tbody tr th {\n",
       "        vertical-align: top;\n",
       "    }\n",
       "\n",
       "    .dataframe thead th {\n",
       "        text-align: right;\n",
       "    }\n",
       "</style>\n",
       "<table border=\"1\" class=\"dataframe\">\n",
       "  <thead>\n",
       "    <tr style=\"text-align: right;\">\n",
       "      <th></th>\n",
       "      <th>Name</th>\n",
       "      <th>NumberOfStocks</th>\n",
       "      <th>SellingPrice</th>\n",
       "      <th>Date</th>\n",
       "      <th>TotalCost</th>\n",
       "      <th>ExtraCharges</th>\n",
       "      <th>BrokerageCost</th>\n",
       "    </tr>\n",
       "  </thead>\n",
       "  <tbody>\n",
       "    <tr>\n",
       "      <th>0</th>\n",
       "      <td>SBIN</td>\n",
       "      <td>10</td>\n",
       "      <td>196.5</td>\n",
       "      <td>2020-03-26</td>\n",
       "      <td>1965</td>\n",
       "      <td>27.43</td>\n",
       "      <td>27.43</td>\n",
       "    </tr>\n",
       "    <tr>\n",
       "      <th>1</th>\n",
       "      <td>INFY</td>\n",
       "      <td>3</td>\n",
       "      <td>932</td>\n",
       "      <td>2020-07-16</td>\n",
       "      <td>2792.89</td>\n",
       "      <td>0</td>\n",
       "      <td>3.11</td>\n",
       "    </tr>\n",
       "    <tr>\n",
       "      <th>2</th>\n",
       "      <td>SBICARDS</td>\n",
       "      <td>19</td>\n",
       "      <td>796</td>\n",
       "      <td>2020-07-21</td>\n",
       "      <td>15108.1</td>\n",
       "      <td>0</td>\n",
       "      <td>15.85</td>\n",
       "    </tr>\n",
       "    <tr>\n",
       "      <th>3</th>\n",
       "      <td>IOLCP</td>\n",
       "      <td>28</td>\n",
       "      <td>796</td>\n",
       "      <td>2020-07-29</td>\n",
       "      <td>22312.5</td>\n",
       "      <td>0</td>\n",
       "      <td>24.49</td>\n",
       "    </tr>\n",
       "    <tr>\n",
       "      <th>4</th>\n",
       "      <td>test</td>\n",
       "      <td>45</td>\n",
       "      <td>15</td>\n",
       "      <td>20200907</td>\n",
       "      <td>10</td>\n",
       "      <td>0</td>\n",
       "      <td>NaN</td>\n",
       "    </tr>\n",
       "  </tbody>\n",
       "</table>\n",
       "</div>"
      ],
      "text/plain": [
       "       Name NumberOfStocks SellingPrice        Date TotalCost ExtraCharges  \\\n",
       "0      SBIN             10        196.5  2020-03-26      1965        27.43   \n",
       "1      INFY              3          932  2020-07-16   2792.89            0   \n",
       "2  SBICARDS             19          796  2020-07-21   15108.1            0   \n",
       "3     IOLCP             28          796  2020-07-29   22312.5            0   \n",
       "4      test             45           15    20200907        10            0   \n",
       "\n",
       "   BrokerageCost  \n",
       "0          27.43  \n",
       "1           3.11  \n",
       "2          15.85  \n",
       "3          24.49  \n",
       "4            NaN  "
      ]
     },
     "execution_count": 61,
     "metadata": {},
     "output_type": "execute_result"
    }
   ],
   "source": [
    "dg"
   ]
  },
  {
   "cell_type": "code",
   "execution_count": 13,
   "metadata": {},
   "outputs": [
    {
     "name": "stdout",
     "output_type": "stream",
     "text": [
      "sell\n",
      "printing the dic Test\n",
      "                0         1  BrokerageCost        Date  ExtraCharges  \\\n",
      "0             NaN       NaN          27.43  2020-03-26         27.43   \n",
      "1             NaN       NaN           3.11  2020-07-16          0.00   \n",
      "2             NaN       NaN          15.85  2020-07-21          0.00   \n",
      "3             NaN       NaN          24.49  2020-07-29          0.00   \n",
      "0            Name      test            NaN         NaN           NaN   \n",
      "1  NumberOfStocks        45            NaN         NaN           NaN   \n",
      "2    SellingPrice        15            NaN         NaN           NaN   \n",
      "3            Date  20200907            NaN         NaN           NaN   \n",
      "4       TotalCost        10            NaN         NaN           NaN   \n",
      "5    ExtraCharges         0            NaN         NaN           NaN   \n",
      "\n",
      "       Name  NumberOfStocks  SellingPrice  TotalCost  \n",
      "0      SBIN            10.0         196.5    1965.00  \n",
      "1      INFY             3.0         932.0    2792.89  \n",
      "2  SBICARDS            19.0         796.0   15108.15  \n",
      "3     IOLCP            28.0         796.0   22312.49  \n",
      "0       NaN             NaN           NaN        NaN  \n",
      "1       NaN             NaN           NaN        NaN  \n",
      "2       NaN             NaN           NaN        NaN  \n",
      "3       NaN             NaN           NaN        NaN  \n",
      "4       NaN             NaN           NaN        NaN  \n",
      "5       NaN             NaN           NaN        NaN  \n"
     ]
    }
   ],
   "source": [
    "a.addData(\"sell\",**sellData)"
   ]
  },
  {
   "cell_type": "code",
   "execution_count": 11,
   "metadata": {},
   "outputs": [
    {
     "data": {
      "text/html": [
       "<div>\n",
       "<style scoped>\n",
       "    .dataframe tbody tr th:only-of-type {\n",
       "        vertical-align: middle;\n",
       "    }\n",
       "\n",
       "    .dataframe tbody tr th {\n",
       "        vertical-align: top;\n",
       "    }\n",
       "\n",
       "    .dataframe thead th {\n",
       "        text-align: right;\n",
       "    }\n",
       "</style>\n",
       "<table border=\"1\" class=\"dataframe\">\n",
       "  <thead>\n",
       "    <tr style=\"text-align: right;\">\n",
       "      <th></th>\n",
       "      <th>Name</th>\n",
       "      <th>NumberOfStocks</th>\n",
       "      <th>SellingPrice</th>\n",
       "      <th>Date</th>\n",
       "      <th>TotalCost</th>\n",
       "      <th>ExtraCharges</th>\n",
       "      <th>BrokerageCost</th>\n",
       "    </tr>\n",
       "  </thead>\n",
       "  <tbody>\n",
       "    <tr>\n",
       "      <th>0</th>\n",
       "      <td>SBIN</td>\n",
       "      <td>10</td>\n",
       "      <td>196.5</td>\n",
       "      <td>2020-03-26</td>\n",
       "      <td>1965.00</td>\n",
       "      <td>27.43</td>\n",
       "      <td>27.43</td>\n",
       "    </tr>\n",
       "    <tr>\n",
       "      <th>1</th>\n",
       "      <td>INFY</td>\n",
       "      <td>3</td>\n",
       "      <td>932.0</td>\n",
       "      <td>2020-07-16</td>\n",
       "      <td>2792.89</td>\n",
       "      <td>0.00</td>\n",
       "      <td>3.11</td>\n",
       "    </tr>\n",
       "    <tr>\n",
       "      <th>2</th>\n",
       "      <td>SBICARDS</td>\n",
       "      <td>19</td>\n",
       "      <td>796.0</td>\n",
       "      <td>2020-07-21</td>\n",
       "      <td>15108.15</td>\n",
       "      <td>0.00</td>\n",
       "      <td>15.85</td>\n",
       "    </tr>\n",
       "    <tr>\n",
       "      <th>3</th>\n",
       "      <td>IOLCP</td>\n",
       "      <td>28</td>\n",
       "      <td>796.0</td>\n",
       "      <td>2020-07-29</td>\n",
       "      <td>22312.49</td>\n",
       "      <td>0.00</td>\n",
       "      <td>24.49</td>\n",
       "    </tr>\n",
       "  </tbody>\n",
       "</table>\n",
       "</div>"
      ],
      "text/plain": [
       "       Name  NumberOfStocks  SellingPrice        Date  TotalCost  \\\n",
       "0      SBIN              10         196.5  2020-03-26    1965.00   \n",
       "1      INFY               3         932.0  2020-07-16    2792.89   \n",
       "2  SBICARDS              19         796.0  2020-07-21   15108.15   \n",
       "3     IOLCP              28         796.0  2020-07-29   22312.49   \n",
       "\n",
       "   ExtraCharges  BrokerageCost  \n",
       "0         27.43          27.43  \n",
       "1          0.00           3.11  \n",
       "2          0.00          15.85  \n",
       "3          0.00          24.49  "
      ]
     },
     "execution_count": 11,
     "metadata": {},
     "output_type": "execute_result"
    }
   ],
   "source": [
    "a.getData('sell')"
   ]
  },
  {
   "cell_type": "code",
   "execution_count": 12,
   "metadata": {},
   "outputs": [],
   "source": [
    "import os\n",
    "import pandas as pd "
   ]
  },
  {
   "cell_type": "code",
   "execution_count": 13,
   "metadata": {},
   "outputs": [
    {
     "name": "stdout",
     "output_type": "stream",
     "text": [
      "D1RTSKPBB3ZBWOWO\n"
     ]
    }
   ],
   "source": [
    "os.environ['ALPHAVANTAGE_API_KEY'] = \"D1RTSKPBB3ZBWOWO\" \n",
    "apiKey = os.getenv('ALPHAVANTAGE_API_KEY')\n",
    "print(apiKey)"
   ]
  },
  {
   "cell_type": "markdown",
   "metadata": {},
   "source": [
    "## AlphaVantage APIs"
   ]
  },
  {
   "cell_type": "code",
   "execution_count": 29,
   "metadata": {},
   "outputs": [],
   "source": [
    "app = TimeSeries(output_format='pandas')"
   ]
  },
  {
   "cell_type": "code",
   "execution_count": 45,
   "metadata": {},
   "outputs": [],
   "source": [
    "def saveDataInArchive(dat,name):\n",
    "    locArchive = './data/archiveData/'\n",
    "    locData = './data/stockData/'\n",
    "    with open(locArchive+name+'.pickle', 'wb') as f:\n",
    "        pickle.dump(dat, f)\n",
    "    # save csv file data\n",
    "    df = dat[0]\n",
    "    df.columns = ['open','high','low','close','adjustedClose','volume','dividendAmt','splitCoeff']\n",
    "    dat[0].to_csv(locData+name+'.csv')\n",
    "    "
   ]
  },
  {
   "cell_type": "code",
   "execution_count": 68,
   "metadata": {},
   "outputs": [
    {
     "name": "stdout",
     "output_type": "stream",
     "text": [
      "bpcl\n"
     ]
    },
    {
     "ename": "KeyError",
     "evalue": "'Time Series (Daily)'",
     "output_type": "error",
     "traceback": [
      "\u001b[0;31m---------------------------------------------------------------------------\u001b[0m",
      "\u001b[0;31mKeyError\u001b[0m                                  Traceback (most recent call last)",
      "\u001b[0;32m<ipython-input-68-2742ed13113c>\u001b[0m in \u001b[0;36m<module>\u001b[0;34m()\u001b[0m\n\u001b[1;32m      8\u001b[0m \u001b[0;31m#     ticker = ''\u001b[0m\u001b[0;34m\u001b[0m\u001b[0;34m\u001b[0m\u001b[0m\n\u001b[1;32m      9\u001b[0m     \u001b[0mprint\u001b[0m\u001b[0;34m(\u001b[0m\u001b[0mticker\u001b[0m\u001b[0;34m)\u001b[0m\u001b[0;34m\u001b[0m\u001b[0m\n\u001b[0;32m---> 10\u001b[0;31m     \u001b[0mdat\u001b[0m \u001b[0;34m=\u001b[0m \u001b[0mapp\u001b[0m\u001b[0;34m.\u001b[0m\u001b[0mget_daily_adjusted\u001b[0m\u001b[0;34m(\u001b[0m\u001b[0;34m'NSE:'\u001b[0m\u001b[0;34m+\u001b[0m\u001b[0mticker\u001b[0m\u001b[0;34m.\u001b[0m\u001b[0mupper\u001b[0m\u001b[0;34m(\u001b[0m\u001b[0;34m)\u001b[0m\u001b[0;34m,\u001b[0m \u001b[0moutputsize\u001b[0m\u001b[0;34m=\u001b[0m\u001b[0;34m'compact'\u001b[0m\u001b[0;34m)\u001b[0m\u001b[0;34m\u001b[0m\u001b[0m\n\u001b[0m\u001b[1;32m     11\u001b[0m     \u001b[0msaveDataInArchive\u001b[0m\u001b[0;34m(\u001b[0m\u001b[0mdat\u001b[0m\u001b[0;34m,\u001b[0m\u001b[0mticker\u001b[0m\u001b[0;34m)\u001b[0m\u001b[0;34m\u001b[0m\u001b[0m\n",
      "\u001b[0;32m~/anaconda3/lib/python3.6/site-packages/alpha_vantage/alphavantage.py\u001b[0m in \u001b[0;36m_format_wrapper\u001b[0;34m(self, *args, **kwargs)\u001b[0m\n\u001b[1;32m    176\u001b[0m             \u001b[0;32mif\u001b[0m \u001b[0;34m'json'\u001b[0m \u001b[0;32min\u001b[0m \u001b[0mself\u001b[0m\u001b[0;34m.\u001b[0m\u001b[0moutput_format\u001b[0m\u001b[0;34m.\u001b[0m\u001b[0mlower\u001b[0m\u001b[0;34m(\u001b[0m\u001b[0;34m)\u001b[0m \u001b[0;32mor\u001b[0m \u001b[0;34m'pandas'\u001b[0m\u001b[0;31m \u001b[0m\u001b[0;31m\\\u001b[0m\u001b[0;34m\u001b[0m\u001b[0m\n\u001b[1;32m    177\u001b[0m                     \u001b[0;32min\u001b[0m \u001b[0mself\u001b[0m\u001b[0;34m.\u001b[0m\u001b[0moutput_format\u001b[0m\u001b[0;34m.\u001b[0m\u001b[0mlower\u001b[0m\u001b[0;34m(\u001b[0m\u001b[0;34m)\u001b[0m\u001b[0;34m:\u001b[0m\u001b[0;34m\u001b[0m\u001b[0m\n\u001b[0;32m--> 178\u001b[0;31m                 \u001b[0mdata\u001b[0m \u001b[0;34m=\u001b[0m \u001b[0mcall_response\u001b[0m\u001b[0;34m[\u001b[0m\u001b[0mdata_key\u001b[0m\u001b[0;34m]\u001b[0m\u001b[0;34m\u001b[0m\u001b[0m\n\u001b[0m\u001b[1;32m    179\u001b[0m                 \u001b[0;32mif\u001b[0m \u001b[0mmeta_data_key\u001b[0m \u001b[0;32mis\u001b[0m \u001b[0;32mnot\u001b[0m \u001b[0;32mNone\u001b[0m\u001b[0;34m:\u001b[0m\u001b[0;34m\u001b[0m\u001b[0m\n\u001b[1;32m    180\u001b[0m                     \u001b[0mmeta_data\u001b[0m \u001b[0;34m=\u001b[0m \u001b[0mcall_response\u001b[0m\u001b[0;34m[\u001b[0m\u001b[0mmeta_data_key\u001b[0m\u001b[0;34m]\u001b[0m\u001b[0;34m\u001b[0m\u001b[0m\n",
      "\u001b[0;31mKeyError\u001b[0m: 'Time Series (Daily)'"
     ]
    }
   ],
   "source": [
    "\n",
    "# from alpha_vantage.alphavantage import \n",
    "\n",
    "\n",
    "# app.get_intraday('GOOGL') \n",
    "li = ['bpcl','cipla','iolcp','sbicards','bajfinance']\n",
    "for ticker in li:\n",
    "#     ticker = ''\n",
    "    print(ticker)\n",
    "    dat = app.get_daily_adjusted('BSE:'+ticker.upper(), outputsize='compact')\n",
    "    saveDataInArchive(dat,ticker)"
   ]
  },
  {
   "cell_type": "code",
   "execution_count": 64,
   "metadata": {},
   "outputs": [],
   "source": [
    "dat = app.get_daily_adjusted('BSE:BPCL', outputsize='compact')"
   ]
  },
  {
   "cell_type": "code",
   "execution_count": 44,
   "metadata": {},
   "outputs": [],
   "source": [
    "saveDataInArchive(infy,'infy')"
   ]
  },
  {
   "cell_type": "code",
   "execution_count": 42,
   "metadata": {
    "collapsed": true
   },
   "outputs": [
    {
     "data": {
      "text/plain": [
       "(            1. open  2. high  3. low  4. close  5. adjusted close  6. volume  \\\n",
       " date                                                                           \n",
       " 2020-03-16   640.00   640.00  580.00    582.85           575.0209   927681.0   \n",
       " 2020-03-17   585.20   592.05  550.10    555.60           548.1370   967841.0   \n",
       " 2020-03-18   565.20   578.00  528.15    535.05           527.8630   673598.0   \n",
       " 2020-03-19   530.00   557.70  511.10    545.40           538.0740  2113081.0   \n",
       " 2020-03-20   554.00   617.00  549.65    584.95           577.0928  1824428.0   \n",
       " 2020-03-23   548.00   560.00  514.80    526.70           519.6252   724224.0   \n",
       " 2020-03-24   535.00   605.70  525.55    593.55           585.5772   629411.0   \n",
       " 2020-03-25   593.00   634.80  566.00    605.95           597.8107   553061.0   \n",
       " 2020-03-26   615.95   650.50  614.00    646.30           637.6187   497057.0   \n",
       " 2020-03-27   655.00   675.00  642.80    653.55           644.7713   745637.0   \n",
       " 2020-03-30   634.00   664.00  621.95    627.20           618.7753  1128539.0   \n",
       " 2020-03-31   645.50   661.95  634.75    640.30           631.6993  1706196.0   \n",
       " 2020-04-01   640.00   640.00  594.25    604.10           595.9855   825328.0   \n",
       " 2020-04-03   604.10   606.65  582.35    585.45           577.5861   327035.0   \n",
       " 2020-04-07   611.90   643.95  611.90    641.10           632.4885   418888.0   \n",
       " 2020-04-08   628.20   655.20  626.75    631.70           623.2148   588592.0   \n",
       " 2020-04-09   648.90   652.75  632.70    637.60           629.0355   547723.0   \n",
       " 2020-04-13   630.00   651.60  627.00    637.10           628.5422   274101.0   \n",
       " 2020-04-15   645.00   652.80  635.70    639.15           630.5648   794120.0   \n",
       " 2020-04-16   622.85   634.30  604.00    624.20           615.8156   402658.0   \n",
       " 2020-04-17   640.00   646.00  626.05    629.30           620.8470   221622.0   \n",
       " 2020-04-20   640.00   660.70  639.30    652.90           644.1301   455876.0   \n",
       " 2020-04-21   632.00   646.50  627.70    633.05           624.5466   265764.0   \n",
       " 2020-04-22   633.20   645.30  628.10    642.05           633.4258   166193.0   \n",
       " 2020-04-23   649.00   683.00  638.50    678.45           669.3369  1541355.0   \n",
       " 2020-04-24   674.40   674.90  655.65    658.30           649.4575   263300.0   \n",
       " 2020-04-27   660.00   680.85  660.00    664.25           655.3276   134910.0   \n",
       " 2020-04-28   673.00   676.65  653.65    661.05           652.1705   201758.0   \n",
       " 2020-04-29   667.80   681.70  658.10    677.70           668.5969   199318.0   \n",
       " 2020-04-30   696.00   719.80  696.00    716.20           706.5798   430782.0   \n",
       " ...             ...      ...     ...       ...                ...        ...   \n",
       " 2020-06-30   734.40   739.00  724.50    735.90           735.9000   203743.0   \n",
       " 2020-07-01   736.00   742.05  730.00    732.50           732.5000   363835.0   \n",
       " 2020-07-02   735.80   765.05  735.80    756.30           756.3000   534984.0   \n",
       " 2020-07-03   756.60   763.85  752.55    762.60           762.6000   151985.0   \n",
       " 2020-07-06   765.00   774.90  762.00    763.75           763.7500   441476.0   \n",
       " 2020-07-07   774.00   796.65  766.30    794.40           794.4000   564766.0   \n",
       " 2020-07-08   786.50   786.50  772.75    774.60           774.6000   212793.0   \n",
       " 2020-07-09   778.00   789.85  775.10    781.55           781.5500   186954.0   \n",
       " 2020-07-10   772.00   789.35  772.00    781.80           781.8000   220696.0   \n",
       " 2020-07-13   790.00   804.90  787.55    796.70           796.7000   275987.0   \n",
       " 2020-07-14   795.65   806.30  781.45    783.20           783.2000   367334.0   \n",
       " 2020-07-15   796.90   848.00  795.35    831.45           831.4500  1272970.0   \n",
       " 2020-07-16   900.00   952.00  890.00    910.90           910.9000  3327650.0   \n",
       " 2020-07-17   911.00   920.00  892.20    904.00           904.0000  1728207.0   \n",
       " 2020-07-20   904.00   945.00  904.00    933.55           933.5500   797602.0   \n",
       " 2020-07-21   945.90   949.40  929.35    936.70           936.7000   858147.0   \n",
       " 2020-07-22   940.00   940.00  911.55    919.40           919.4000   481341.0   \n",
       " 2020-07-23   916.00   916.55  900.65    908.85           908.8500   790412.0   \n",
       " 2020-07-24   904.70   925.35  903.95    922.60           922.6000   845525.0   \n",
       " 2020-07-27   922.45   952.45  918.60    947.95           947.9500   548113.0   \n",
       " 2020-07-28   947.95   967.20  941.90    962.75           962.7500   652792.0   \n",
       " 2020-07-29   953.45   959.60  943.75    953.85           953.8500   519229.0   \n",
       " 2020-07-30   960.00   972.50  958.65    961.85           961.8500   569279.0   \n",
       " 2020-07-31   965.00   986.00  953.40    966.25           966.2500   685429.0   \n",
       " 2020-08-03   962.80   965.00  947.75    957.35           957.3500   292771.0   \n",
       " 2020-08-04   959.70   970.00  941.05    950.10           950.1000   353882.0   \n",
       " 2020-08-05   950.25   960.65  938.50    944.60           944.6000   533690.0   \n",
       " 2020-08-06   950.00   974.55  942.75    969.20           969.2000   585867.0   \n",
       " 2020-08-07   970.85   970.85  949.00    950.75           950.7500   440768.0   \n",
       " 2020-08-10   950.75   956.65  945.60    951.10           951.1000   541207.0   \n",
       " \n",
       "             7. dividend amount  8. split coefficient  \n",
       " date                                                  \n",
       " 2020-03-16                 0.0                   1.0  \n",
       " 2020-03-17                 0.0                   1.0  \n",
       " 2020-03-18                 0.0                   1.0  \n",
       " 2020-03-19                 0.0                   1.0  \n",
       " 2020-03-20                 0.0                   1.0  \n",
       " 2020-03-23                 0.0                   1.0  \n",
       " 2020-03-24                 0.0                   1.0  \n",
       " 2020-03-25                 0.0                   1.0  \n",
       " 2020-03-26                 0.0                   1.0  \n",
       " 2020-03-27                 0.0                   1.0  \n",
       " 2020-03-30                 0.0                   1.0  \n",
       " 2020-03-31                 0.0                   1.0  \n",
       " 2020-04-01                 0.0                   1.0  \n",
       " 2020-04-03                 0.0                   1.0  \n",
       " 2020-04-07                 0.0                   1.0  \n",
       " 2020-04-08                 0.0                   1.0  \n",
       " 2020-04-09                 0.0                   1.0  \n",
       " 2020-04-13                 0.0                   1.0  \n",
       " 2020-04-15                 0.0                   1.0  \n",
       " 2020-04-16                 0.0                   1.0  \n",
       " 2020-04-17                 0.0                   1.0  \n",
       " 2020-04-20                 0.0                   1.0  \n",
       " 2020-04-21                 0.0                   1.0  \n",
       " 2020-04-22                 0.0                   1.0  \n",
       " 2020-04-23                 0.0                   1.0  \n",
       " 2020-04-24                 0.0                   1.0  \n",
       " 2020-04-27                 0.0                   1.0  \n",
       " 2020-04-28                 0.0                   1.0  \n",
       " 2020-04-29                 0.0                   1.0  \n",
       " 2020-04-30                 0.0                   1.0  \n",
       " ...                        ...                   ...  \n",
       " 2020-06-30                 0.0                   1.0  \n",
       " 2020-07-01                 0.0                   1.0  \n",
       " 2020-07-02                 0.0                   1.0  \n",
       " 2020-07-03                 0.0                   1.0  \n",
       " 2020-07-06                 0.0                   1.0  \n",
       " 2020-07-07                 0.0                   1.0  \n",
       " 2020-07-08                 0.0                   1.0  \n",
       " 2020-07-09                 0.0                   1.0  \n",
       " 2020-07-10                 0.0                   1.0  \n",
       " 2020-07-13                 0.0                   1.0  \n",
       " 2020-07-14                 0.0                   1.0  \n",
       " 2020-07-15                 0.0                   1.0  \n",
       " 2020-07-16                 0.0                   1.0  \n",
       " 2020-07-17                 0.0                   1.0  \n",
       " 2020-07-20                 0.0                   1.0  \n",
       " 2020-07-21                 0.0                   1.0  \n",
       " 2020-07-22                 0.0                   1.0  \n",
       " 2020-07-23                 0.0                   1.0  \n",
       " 2020-07-24                 0.0                   1.0  \n",
       " 2020-07-27                 0.0                   1.0  \n",
       " 2020-07-28                 0.0                   1.0  \n",
       " 2020-07-29                 0.0                   1.0  \n",
       " 2020-07-30                 0.0                   1.0  \n",
       " 2020-07-31                 0.0                   1.0  \n",
       " 2020-08-03                 0.0                   1.0  \n",
       " 2020-08-04                 0.0                   1.0  \n",
       " 2020-08-05                 0.0                   1.0  \n",
       " 2020-08-06                 0.0                   1.0  \n",
       " 2020-08-07                 0.0                   1.0  \n",
       " 2020-08-10                 0.0                   1.0  \n",
       " \n",
       " [100 rows x 8 columns],\n",
       " {'1. Information': 'Daily Time Series with Splits and Dividend Events',\n",
       "  '2. Symbol': 'BSE:INFY',\n",
       "  '3. Last Refreshed': '2020-08-10',\n",
       "  '4. Output Size': 'Compact',\n",
       "  '5. Time Zone': 'US/Eastern'})"
      ]
     },
     "execution_count": 42,
     "metadata": {},
     "output_type": "execute_result"
    }
   ],
   "source": [
    "infy"
   ]
  },
  {
   "cell_type": "code",
   "execution_count": 15,
   "metadata": {},
   "outputs": [],
   "source": [
    "d = app.get_intraday('GOOGL')"
   ]
  },
  {
   "cell_type": "code",
   "execution_count": 21,
   "metadata": {},
   "outputs": [],
   "source": [
    "d[0].columns = ['open','high','low','close','volume']"
   ]
  },
  {
   "cell_type": "code",
   "execution_count": 27,
   "metadata": {},
   "outputs": [
    {
     "data": {
      "text/plain": [
       "<matplotlib.axes._subplots.AxesSubplot at 0x7fd333518ef0>"
      ]
     },
     "execution_count": 27,
     "metadata": {},
     "output_type": "execute_result"
    },
    {
     "data": {
      "image/png": "[encoded data removed]",
      "text/plain": [
       "<Figure size 432x288 with 1 Axes>"
      ]
     },
     "metadata": {},
     "output_type": "display_data"
    }
   ],
   "source": [
    "d[0]['close'].plot()"
   ]
  },
  {
   "cell_type": "code",
   "execution_count": 46,
   "metadata": {},
   "outputs": [
    {
     "name": "stdout",
     "output_type": "stream",
     "text": [
      "Collecting bsedata\n",
      "  Downloading bsedata-0.4.0-py3-none-any.whl (15 kB)\n",
      "Requirement already satisfied: requests in /home/alvin/anaconda3/lib/python3.6/site-packages (from bsedata) (2.24.0)\n",
      "Requirement already satisfied: beautifulsoup4 in /home/alvin/anaconda3/lib/python3.6/site-packages (from bsedata) (4.9.1)\n",
      "Requirement already satisfied: lxml in /home/alvin/anaconda3/lib/python3.6/site-packages (from bsedata) (4.2.1)\n",
      "Requirement already satisfied: idna<3,>=2.5 in /home/alvin/anaconda3/lib/python3.6/site-packages (from requests->bsedata) (2.6)\n",
      "Requirement already satisfied: chardet<4,>=3.0.2 in /home/alvin/anaconda3/lib/python3.6/site-packages (from requests->bsedata) (3.0.4)\n",
      "Requirement already satisfied: certifi>=2017.4.17 in /home/alvin/anaconda3/lib/python3.6/site-packages (from requests->bsedata) (2018.4.16)\n",
      "Requirement already satisfied: urllib3!=1.25.0,!=1.25.1,<1.26,>=1.21.1 in /home/alvin/anaconda3/lib/python3.6/site-packages (from requests->bsedata) (1.22)\n",
      "Requirement already satisfied: soupsieve>1.2 in /home/alvin/anaconda3/lib/python3.6/site-packages (from beautifulsoup4->bsedata) (2.0.1)\n",
      "Installing collected packages: bsedata\n",
      "Successfully installed bsedata-0.4.0\n"
     ]
    }
   ],
   "source": [
    "!pip install bsedata"
   ]
  },
  {
   "cell_type": "code",
   "execution_count": 56,
   "metadata": {},
   "outputs": [],
   "source": [
    "from bsedata.bse import BSE\n",
    "from pprint import pprint"
   ]
  },
  {
   "cell_type": "code",
   "execution_count": 57,
   "metadata": {},
   "outputs": [],
   "source": [
    "b = BSE()"
   ]
  },
  {
   "cell_type": "code",
   "execution_count": 58,
   "metadata": {},
   "outputs": [
    {
     "name": "stdout",
     "output_type": "stream",
     "text": [
      "[{'LTP': '1,925.60',\n",
      "  'change': '233.05',\n",
      "  'pChange': '13.77',\n",
      "  'scripCode': '532156',\n",
      "  'securityID': 'VAIBHAVGBL'},\n",
      " {'LTP': '503.70',\n",
      "  'change': '54.00',\n",
      "  'pChange': '12.01',\n",
      "  'scripCode': '505355',\n",
      "  'securityID': 'NESCO'},\n",
      " {'LTP': '1,910.55',\n",
      "  'change': '184.20',\n",
      "  'pChange': '10.67',\n",
      "  'scripCode': '509557',\n",
      "  'securityID': 'GARFIBRES'},\n",
      " {'LTP': '98.00',\n",
      "  'change': '8.90',\n",
      "  'pChange': '9.99',\n",
      "  'scripCode': '522275',\n",
      "  'securityID': 'GET&D'},\n",
      " {'LTP': '63.20',\n",
      "  'change': '5.70',\n",
      "  'pChange': '9.91',\n",
      "  'scripCode': '532832',\n",
      "  'securityID': 'IBREALEST'}]\n"
     ]
    }
   ],
   "source": [
    "pprint(b.topGainers())"
   ]
  },
  {
   "cell_type": "code",
   "execution_count": 5,
   "metadata": {},
   "outputs": [],
   "source": [
    "# Test\n",
    "#Join Pathname"
   ]
  },
  {
   "cell_type": "code",
   "execution_count": 18,
   "metadata": {},
   "outputs": [],
   "source": [
    "d = {'name':['pan'],'pow':[34]}"
   ]
  },
  {
   "cell_type": "code",
   "execution_count": 19,
   "metadata": {},
   "outputs": [],
   "source": [
    "import pandas as pd\n"
   ]
  },
  {
   "cell_type": "code",
   "execution_count": 20,
   "metadata": {},
   "outputs": [],
   "source": [
    "df = pd.DataFrame.from_dict(d)"
   ]
  },
  {
   "cell_type": "code",
   "execution_count": 21,
   "metadata": {},
   "outputs": [
    {
     "data": {
      "text/html": [
       "<div>\n",
       "<style scoped>\n",
       "    .dataframe tbody tr th:only-of-type {\n",
       "        vertical-align: middle;\n",
       "    }\n",
       "\n",
       "    .dataframe tbody tr th {\n",
       "        vertical-align: top;\n",
       "    }\n",
       "\n",
       "    .dataframe thead th {\n",
       "        text-align: right;\n",
       "    }\n",
       "</style>\n",
       "<table border=\"1\" class=\"dataframe\">\n",
       "  <thead>\n",
       "    <tr style=\"text-align: right;\">\n",
       "      <th></th>\n",
       "      <th>name</th>\n",
       "      <th>pow</th>\n",
       "    </tr>\n",
       "  </thead>\n",
       "  <tbody>\n",
       "    <tr>\n",
       "      <th>0</th>\n",
       "      <td>pan</td>\n",
       "      <td>34</td>\n",
       "    </tr>\n",
       "  </tbody>\n",
       "</table>\n",
       "</div>"
      ],
      "text/plain": [
       "  name  pow\n",
       "0  pan   34"
      ]
     },
     "execution_count": 21,
     "metadata": {},
     "output_type": "execute_result"
    }
   ],
   "source": [
    "df"
   ]
  },
  {
   "cell_type": "code",
   "execution_count": 22,
   "metadata": {},
   "outputs": [],
   "source": [
    "dic = {'name':'kaj','pow':78}"
   ]
  },
  {
   "cell_type": "code",
   "execution_count": 26,
   "metadata": {},
   "outputs": [
    {
     "data": {
      "text/html": [
       "<div>\n",
       "<style scoped>\n",
       "    .dataframe tbody tr th:only-of-type {\n",
       "        vertical-align: middle;\n",
       "    }\n",
       "\n",
       "    .dataframe tbody tr th {\n",
       "        vertical-align: top;\n",
       "    }\n",
       "\n",
       "    .dataframe thead th {\n",
       "        text-align: right;\n",
       "    }\n",
       "</style>\n",
       "<table border=\"1\" class=\"dataframe\">\n",
       "  <thead>\n",
       "    <tr style=\"text-align: right;\">\n",
       "      <th></th>\n",
       "      <th>0</th>\n",
       "      <th>1</th>\n",
       "    </tr>\n",
       "  </thead>\n",
       "  <tbody>\n",
       "    <tr>\n",
       "      <th>0</th>\n",
       "      <td>name</td>\n",
       "      <td>kaj</td>\n",
       "    </tr>\n",
       "    <tr>\n",
       "      <th>1</th>\n",
       "      <td>pow</td>\n",
       "      <td>78</td>\n",
       "    </tr>\n",
       "  </tbody>\n",
       "</table>\n",
       "</div>"
      ],
      "text/plain": [
       "      0    1\n",
       "0  name  kaj\n",
       "1   pow   78"
      ]
     },
     "execution_count": 26,
     "metadata": {},
     "output_type": "execute_result"
    }
   ],
   "source": [
    "pd.DataFrame(list(dic.items()))"
   ]
  },
  {
   "cell_type": "code",
   "execution_count": 25,
   "metadata": {},
   "outputs": [
    {
     "name": "stdout",
     "output_type": "stream",
     "text": [
      "\u001b[31mERROR: Could not find a version that satisfies the requirement pnadas (from versions: none)\u001b[0m\r\n",
      "\u001b[31mERROR: No matching distribution found for pnadas\u001b[0m\r\n"
     ]
    }
   ],
   "source": [
    "# !pip install pnadas"
   ]
  },
  {
   "cell_type": "code",
   "execution_count": null,
   "metadata": {},
   "outputs": [],
   "source": []
  }
 ],
 "metadata": {
  "colab": {
   "authorship_tag": "ABX9TyNmQGBFH+Z4CLRIYvpTG4bA",
   "collapsed_sections": [],
   "name": "stockBoard.ipynb",
   "provenance": []
  },
  "kernelspec": {
   "display_name": "Python 3",
   "language": "python",
   "name": "python3"
  },
  "language_info": {
   "codemirror_mode": {
    "name": "ipython",
    "version": 3
   },
   "file_extension": ".py",
   "mimetype": "text/x-python",
   "name": "python",
   "nbconvert_exporter": "python",
   "pygments_lexer": "ipython3",
   "version": "3.7.0"
  }
 },
 "nbformat": 4,
 "nbformat_minor": 1
}
