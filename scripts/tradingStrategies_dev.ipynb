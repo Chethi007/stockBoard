{
 "cells": [
  {
   "cell_type": "code",
   "execution_count": 53,
   "metadata": {},
   "outputs": [],
   "source": [
    "import numpy as np\n",
    "import pandas as pd"
   ]
  },
  {
   "cell_type": "code",
   "execution_count": 54,
   "metadata": {},
   "outputs": [],
   "source": [
    "df = pd.read_csv(\"../data/stockData/daily/ONGC.csv\")"
   ]
  },
  {
   "cell_type": "code",
   "execution_count": 55,
   "metadata": {},
   "outputs": [
    {
     "data": {
      "text/html": [
       "<div>\n",
       "<style scoped>\n",
       "    .dataframe tbody tr th:only-of-type {\n",
       "        vertical-align: middle;\n",
       "    }\n",
       "\n",
       "    .dataframe tbody tr th {\n",
       "        vertical-align: top;\n",
       "    }\n",
       "\n",
       "    .dataframe thead th {\n",
       "        text-align: right;\n",
       "    }\n",
       "</style>\n",
       "<table border=\"1\" class=\"dataframe\">\n",
       "  <thead>\n",
       "    <tr style=\"text-align: right;\">\n",
       "      <th></th>\n",
       "      <th>timestamp</th>\n",
       "      <th>open</th>\n",
       "      <th>high</th>\n",
       "      <th>low</th>\n",
       "      <th>close</th>\n",
       "      <th>volume</th>\n",
       "    </tr>\n",
       "  </thead>\n",
       "  <tbody>\n",
       "    <tr>\n",
       "      <th>0</th>\n",
       "      <td>2000-01-03</td>\n",
       "      <td>8.813110</td>\n",
       "      <td>9.217224</td>\n",
       "      <td>8.813110</td>\n",
       "      <td>9.176382</td>\n",
       "      <td>86400</td>\n",
       "    </tr>\n",
       "    <tr>\n",
       "      <th>1</th>\n",
       "      <td>2000-01-04</td>\n",
       "      <td>8.662642</td>\n",
       "      <td>9.015167</td>\n",
       "      <td>8.641147</td>\n",
       "      <td>8.879746</td>\n",
       "      <td>161100</td>\n",
       "    </tr>\n",
       "    <tr>\n",
       "      <th>2</th>\n",
       "      <td>2000-01-05</td>\n",
       "      <td>8.641150</td>\n",
       "      <td>9.591247</td>\n",
       "      <td>8.619654</td>\n",
       "      <td>9.591247</td>\n",
       "      <td>243000</td>\n",
       "    </tr>\n",
       "  </tbody>\n",
       "</table>\n",
       "</div>"
      ],
      "text/plain": [
       "    timestamp      open      high       low     close  volume\n",
       "0  2000-01-03  8.813110  9.217224  8.813110  9.176382   86400\n",
       "1  2000-01-04  8.662642  9.015167  8.641147  8.879746  161100\n",
       "2  2000-01-05  8.641150  9.591247  8.619654  9.591247  243000"
      ]
     },
     "execution_count": 55,
     "metadata": {},
     "output_type": "execute_result"
    }
   ],
   "source": [
    "df.head(3)"
   ]
  },
  {
   "cell_type": "code",
   "execution_count": 56,
   "metadata": {},
   "outputs": [],
   "source": [
    "# \n",
    "def run(df):\n",
    "    res = []\n",
    "    current_stock = 0\n",
    "    lim = 100\n",
    "    np.random.seed(4)\n",
    "    \n",
    "    for i in range(len(df)):\n",
    "        d = {}\n",
    "        d[\"actions\"] = np.random.choice(['sell','buy',''],p=[.15,.1,.75])\n",
    "        if d[\"actions\"].lower() == 'sell':\n",
    "            d[\"quantity\"] = np.random.randint(0,current_stock,1)[0]\n",
    "        elif d[\"actions\"].lower() == 'buy':\n",
    "            d[\"quantity\"] = np.random.randint(0,lim,1)[0]\n",
    "            current_stock += d[\"quantity\"]\n",
    "        else:\n",
    "            d[\"quantity\"] = ''\n",
    "        res.append(d)\n",
    "\n",
    "    return res"
   ]
  },
  {
   "cell_type": "code",
   "execution_count": 45,
   "metadata": {},
   "outputs": [],
   "source": [
    "# \n",
    "current_stock = 0\n",
    "lim = 100\n",
    "np.random.seed(4)\n",
    "\n",
    "def run_live(df):\n",
    "    global current_stock\n",
    "    d = {}\n",
    "    d[\"actions\"] = np.random.choice(['sell','buy',''],p=[.15,.1,.75])\n",
    "    if d[\"actions\"].lower() == 'sell':\n",
    "        d[\"quantity\"] = np.random.randint(0,current_stock,1)[0]\n",
    "    elif d[\"actions\"].lower() == 'buy':\n",
    "        d[\"quantity\"] = np.random.randint(0,lim,1)[0]\n",
    "        current_stock += d[\"quantity\"]\n",
    "    else:\n",
    "        d[\"quantity\"] = ''\n",
    "    \n",
    "    return d"
   ]
  },
  {
   "cell_type": "code",
   "execution_count": 46,
   "metadata": {},
   "outputs": [
    {
     "name": "stdout",
     "output_type": "stream",
     "text": [
      "{'actions': '', 'quantity': ''}\n",
      "{'actions': '', 'quantity': ''}\n",
      "{'actions': '', 'quantity': ''}\n",
      "{'actions': '', 'quantity': ''}\n",
      "{'actions': '', 'quantity': ''}\n",
      "{'actions': 'buy', 'quantity': 94}\n",
      "{'actions': '', 'quantity': ''}\n",
      "{'actions': '', 'quantity': ''}\n",
      "{'actions': '', 'quantity': ''}\n",
      "{'actions': 'sell', 'quantity': 52}\n",
      "{'actions': '', 'quantity': ''}\n",
      "{'actions': 'buy', 'quantity': 21}\n",
      "{'actions': '', 'quantity': ''}\n",
      "{'actions': '', 'quantity': ''}\n",
      "{'actions': '', 'quantity': ''}\n",
      "{'actions': '', 'quantity': ''}\n",
      "{'actions': '', 'quantity': ''}\n",
      "{'actions': 'sell', 'quantity': 58}\n",
      "{'actions': '', 'quantity': ''}\n",
      "{'actions': '', 'quantity': ''}\n"
     ]
    }
   ],
   "source": [
    "for i in range(20):\n",
    "    print(run_live(df))"
   ]
  },
  {
   "cell_type": "code",
   "execution_count": 20,
   "metadata": {},
   "outputs": [
    {
     "data": {
      "text/plain": [
       "9"
      ]
     },
     "execution_count": 20,
     "metadata": {},
     "output_type": "execute_result"
    }
   ],
   "source": [
    "np.random.randint(0,10,1)[0]"
   ]
  },
  {
   "cell_type": "code",
   "execution_count": 50,
   "metadata": {},
   "outputs": [],
   "source": [
    "import os\n",
    "path = \"../tradingStrategies/scripts/\"\n",
    "name = \"random\"\n",
    "s = open(os.path.join(path,name+'.py')).read()"
   ]
  },
  {
   "cell_type": "code",
   "execution_count": 52,
   "metadata": {},
   "outputs": [
    {
     "name": "stdout",
     "output_type": "stream",
     "text": [
      "import numpy as np\n",
      "import pandas as pd\n",
      "\n",
      "# using complete dataframe\n",
      "def run(df):\n",
      "    res = []\n",
      "    current_stock = 0\n",
      "    lim = 100\n",
      "    np.random.seed(4)\n",
      "\n",
      "    for i in range(len(df)):\n",
      "        d = {}\n",
      "        d[\"actions\"] = np.random.choice(['sell','buy',''],p=[.15,.1,.75])\n",
      "        if d[\"actions\"].lower() == 'sell':\n",
      "            d[\"quantity\"] = np.random.randint(0,current_stock,1)[0]\n",
      "        elif d[\"actions\"].lower() == 'buy':\n",
      "            d[\"quantity\"] = np.random.randint(0,lim,1)[0]\n",
      "            current_stock += d[\"quantity\"]\n",
      "        else:\n",
      "            d[\"quantity\"] = ''\n",
      "        res.append(d)\n",
      "\n",
      "    return res\n",
      "\n",
      "\n",
      "current_stock = 0\n",
      "lim = 100\n",
      "np.random.seed(4)\n",
      "# gets the stream of data input\n",
      "def run_live(df):\n",
      "    global current_stock,lim\n",
      "    d = {}\n",
      "    d[\"actions\"] = np.random.choice(['sell','buy',''],p=[.15,.1,.75])\n",
      "    if d[\"actions\"].lower() == 'sell':\n",
      "        d[\"quantity\"] = np.random.randint(0,current_stock,1)[0]\n",
      "    elif d[\"actions\"].lower() == 'buy':\n",
      "        d[\"quantity\"] = np.random.randint(0,lim,1)[0]\n",
      "        current_stock += d[\"quantity\"]\n",
      "    else:\n",
      "        d[\"quantity\"] = ''\n",
      "    \n",
      "    return d\n"
     ]
    }
   ],
   "source": [
    "print(s)"
   ]
  },
  {
   "cell_type": "code",
   "execution_count": 5,
   "metadata": {},
   "outputs": [
    {
     "ename": "ImportError",
     "evalue": "attempted relative import with no known parent package",
     "output_type": "error",
     "traceback": [
      "\u001b[0;31m---------------------------------------------------------------------------\u001b[0m",
      "\u001b[0;31mImportError\u001b[0m                               Traceback (most recent call last)",
      "\u001b[0;32m<ipython-input-5-e6672943cd88>\u001b[0m in \u001b[0;36m<module>\u001b[0;34m\u001b[0m\n\u001b[0;32m----> 1\u001b[0;31m \u001b[0;32mfrom\u001b[0m \u001b[0;34m.\u001b[0m \u001b[0;32mimport\u001b[0m \u001b[0mtradingStrategies\u001b[0m\u001b[0;34m\u001b[0m\u001b[0;34m\u001b[0m\u001b[0m\n\u001b[0m",
      "\u001b[0;31mImportError\u001b[0m: attempted relative import with no known parent package"
     ]
    }
   ],
   "source": [
    "from  import tradingStrategies "
   ]
  },
  {
   "cell_type": "code",
   "execution_count": null,
   "metadata": {},
   "outputs": [],
   "source": []
  }
 ],
 "metadata": {
  "kernelspec": {
   "display_name": "Python 3",
   "language": "python",
   "name": "python3"
  },
  "language_info": {
   "codemirror_mode": {
    "name": "ipython",
    "version": 3
   },
   "file_extension": ".py",
   "mimetype": "text/x-python",
   "name": "python",
   "nbconvert_exporter": "python",
   "pygments_lexer": "ipython3",
   "version": "3.8.5"
  }
 },
 "nbformat": 4,
 "nbformat_minor": 4
}
