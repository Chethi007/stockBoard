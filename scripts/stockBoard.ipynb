{
 "cells": [
  {
   "cell_type": "markdown",
   "metadata": {
    "colab_type": "text",
    "id": "8lCdPwyAKnw8"
   },
   "source": [
    "# **StockBoard**\n",
    "- [x] Link Dash with colab\n",
    "- [x] Make simple UI and test it\n",
    "- [x] Upload your trading Data\n",
    "- [x] Add visualizations and charts\n"
   ]
  },
  {
   "cell_type": "markdown",
   "metadata": {},
   "source": [
    "# Import Libraries"
   ]
  },
  {
   "cell_type": "code",
   "execution_count": 41,
   "metadata": {},
   "outputs": [],
   "source": [
    "import StockData as sd \n",
    "import StockBoard as sb\n",
    "# from alpha_vantage.timeseries import TimeSeries \n",
    "import pickle \n",
    "import pandas as pd\n",
    "import os\n",
    "import numpy as np"
   ]
  },
  {
   "cell_type": "code",
   "execution_count": 42,
   "metadata": {},
   "outputs": [],
   "source": [
    "# import pandasql as ps"
   ]
  },
  {
   "cell_type": "code",
   "execution_count": 43,
   "metadata": {},
   "outputs": [],
   "source": [
    "a = sd.StockData(username=\"alvin369\",location=\"../profiles\")\n",
    "a.load()\n",
    "stock = sb.StockBoard(a)"
   ]
  },
  {
   "cell_type": "markdown",
   "metadata": {},
   "source": [
    "## Get your current balance"
   ]
  },
  {
   "cell_type": "code",
   "execution_count": 44,
   "metadata": {},
   "outputs": [
    {
     "data": {
      "text/plain": [
       "53431.05"
      ]
     },
     "execution_count": 44,
     "metadata": {},
     "output_type": "execute_result"
    }
   ],
   "source": [
    "stock.getCurrBalance()"
   ]
  },
  {
   "cell_type": "code",
   "execution_count": 74,
   "metadata": {},
   "outputs": [
    {
     "data": {
      "text/plain": [
       "7120.0"
      ]
     },
     "execution_count": 74,
     "metadata": {},
     "output_type": "execute_result"
    }
   ],
   "source": [
    "def getBuyValue(df,stockName,count_val):\n",
    "    df = df[df.Name == stockName].sort_values('Date',ascending=False)\n",
    "    val = 0\n",
    "    for i in range(len(df)):\n",
    "        c = min(count_val,df.iloc[i].NumberOfStocks)\n",
    "        val += df.iloc[i].BuyingPrice*c\n",
    "        count_val -= c\n",
    "        if count_val <= 0:\n",
    "            break\n",
    "    return val\n",
    "\n",
    "getBuyValue(a.Buy,'VI',600)"
   ]
  },
  {
   "cell_type": "code",
   "execution_count": 75,
   "metadata": {},
   "outputs": [],
   "source": [
    "ch = stock.getCurrHoldings()\n",
    "portfolioValue = 0\n",
    "for i in range(len(ch)):\n",
    "    name = ch.iloc[i]['Name']\n",
    "    count_val = ch.iloc[i]['current']\n",
    "    portfolioValue += getBuyValue(a.Buy,name,count_val)"
   ]
  },
  {
   "cell_type": "code",
   "execution_count": 76,
   "metadata": {},
   "outputs": [
    {
     "data": {
      "text/plain": [
       "74163.35"
      ]
     },
     "execution_count": 76,
     "metadata": {},
     "output_type": "execute_result"
    }
   ],
   "source": [
    "portfolioValue"
   ]
  },
  {
   "cell_type": "code",
   "execution_count": 65,
   "metadata": {},
   "outputs": [
    {
     "data": {
      "text/html": [
       "<div>\n",
       "<style scoped>\n",
       "    .dataframe tbody tr th:only-of-type {\n",
       "        vertical-align: middle;\n",
       "    }\n",
       "\n",
       "    .dataframe tbody tr th {\n",
       "        vertical-align: top;\n",
       "    }\n",
       "\n",
       "    .dataframe thead th {\n",
       "        text-align: right;\n",
       "    }\n",
       "</style>\n",
       "<table border=\"1\" class=\"dataframe\">\n",
       "  <thead>\n",
       "    <tr style=\"text-align: right;\">\n",
       "      <th></th>\n",
       "      <th>Name</th>\n",
       "      <th>NumberOfStocks</th>\n",
       "      <th>BuyingPrice</th>\n",
       "      <th>Date</th>\n",
       "      <th>TotalCost</th>\n",
       "      <th>ExtraCharges</th>\n",
       "      <th>BrokerageCost</th>\n",
       "    </tr>\n",
       "  </thead>\n",
       "  <tbody>\n",
       "    <tr>\n",
       "      <th>0</th>\n",
       "      <td>LEMONTREE</td>\n",
       "      <td>50</td>\n",
       "      <td>44.5</td>\n",
       "      <td>2021-06-04</td>\n",
       "      <td>2228.24</td>\n",
       "      <td>0.0</td>\n",
       "      <td>3.24</td>\n",
       "    </tr>\n",
       "    <tr>\n",
       "      <th>1</th>\n",
       "      <td>NAVNETEDUL</td>\n",
       "      <td>100</td>\n",
       "      <td>87.5</td>\n",
       "      <td>2021-06-04</td>\n",
       "      <td>8760.43</td>\n",
       "      <td>0.0</td>\n",
       "      <td>10.43</td>\n",
       "    </tr>\n",
       "    <tr>\n",
       "      <th>2</th>\n",
       "      <td>BANKBARODA</td>\n",
       "      <td>50</td>\n",
       "      <td>82.3</td>\n",
       "      <td>2021-06-03</td>\n",
       "      <td>4120.17</td>\n",
       "      <td>0.0</td>\n",
       "      <td>5.17</td>\n",
       "    </tr>\n",
       "  </tbody>\n",
       "</table>\n",
       "</div>"
      ],
      "text/plain": [
       "         Name  NumberOfStocks  BuyingPrice        Date  TotalCost  \\\n",
       "0   LEMONTREE              50         44.5  2021-06-04    2228.24   \n",
       "1  NAVNETEDUL             100         87.5  2021-06-04    8760.43   \n",
       "2  BANKBARODA              50         82.3  2021-06-03    4120.17   \n",
       "\n",
       "   ExtraCharges  BrokerageCost  \n",
       "0           0.0           3.24  \n",
       "1           0.0          10.43  \n",
       "2           0.0           5.17  "
      ]
     },
     "execution_count": 65,
     "metadata": {},
     "output_type": "execute_result"
    }
   ],
   "source": [
    "a.Buy.head(3)"
   ]
  },
  {
   "cell_type": "code",
   "execution_count": 68,
   "metadata": {},
   "outputs": [
    {
     "data": {
      "text/html": [
       "<div>\n",
       "<style scoped>\n",
       "    .dataframe tbody tr th:only-of-type {\n",
       "        vertical-align: middle;\n",
       "    }\n",
       "\n",
       "    .dataframe tbody tr th {\n",
       "        vertical-align: top;\n",
       "    }\n",
       "\n",
       "    .dataframe thead th {\n",
       "        text-align: right;\n",
       "    }\n",
       "</style>\n",
       "<table border=\"1\" class=\"dataframe\">\n",
       "  <thead>\n",
       "    <tr style=\"text-align: right;\">\n",
       "      <th></th>\n",
       "      <th>Name</th>\n",
       "      <th>NumberOfStocks</th>\n",
       "      <th>BuyingPrice</th>\n",
       "      <th>Date</th>\n",
       "      <th>TotalCost</th>\n",
       "      <th>ExtraCharges</th>\n",
       "      <th>BrokerageCost</th>\n",
       "    </tr>\n",
       "  </thead>\n",
       "  <tbody>\n",
       "    <tr>\n",
       "      <th>8</th>\n",
       "      <td>VI</td>\n",
       "      <td>200</td>\n",
       "      <td>12.4</td>\n",
       "      <td>2021-02-12</td>\n",
       "      <td>2482.56</td>\n",
       "      <td>0.0</td>\n",
       "      <td>2.56</td>\n",
       "    </tr>\n",
       "    <tr>\n",
       "      <th>10</th>\n",
       "      <td>VI</td>\n",
       "      <td>400</td>\n",
       "      <td>11.6</td>\n",
       "      <td>2021-02-02</td>\n",
       "      <td>4646.17</td>\n",
       "      <td>0.0</td>\n",
       "      <td>6.17</td>\n",
       "    </tr>\n",
       "    <tr>\n",
       "      <th>30</th>\n",
       "      <td>VI</td>\n",
       "      <td>100</td>\n",
       "      <td>9.7</td>\n",
       "      <td>2020-11-27</td>\n",
       "      <td>971.15</td>\n",
       "      <td>0.0</td>\n",
       "      <td>1.15</td>\n",
       "    </tr>\n",
       "  </tbody>\n",
       "</table>\n",
       "</div>"
      ],
      "text/plain": [
       "   Name  NumberOfStocks  BuyingPrice        Date  TotalCost  ExtraCharges  \\\n",
       "8    VI             200         12.4  2021-02-12    2482.56           0.0   \n",
       "10   VI             400         11.6  2021-02-02    4646.17           0.0   \n",
       "30   VI             100          9.7  2020-11-27     971.15           0.0   \n",
       "\n",
       "    BrokerageCost  \n",
       "8            2.56  \n",
       "10           6.17  \n",
       "30           1.15  "
      ]
     },
     "execution_count": 68,
     "metadata": {},
     "output_type": "execute_result"
    }
   ],
   "source": [
    "a.Buy[a.Buy.Name == 'VI'].sort_values('Date',ascending=False)"
   ]
  },
  {
   "cell_type": "code",
   "execution_count": 45,
   "metadata": {},
   "outputs": [
    {
     "data": {
      "text/html": [
       "<div>\n",
       "<style scoped>\n",
       "    .dataframe tbody tr th:only-of-type {\n",
       "        vertical-align: middle;\n",
       "    }\n",
       "\n",
       "    .dataframe tbody tr th {\n",
       "        vertical-align: top;\n",
       "    }\n",
       "\n",
       "    .dataframe thead th {\n",
       "        text-align: right;\n",
       "    }\n",
       "</style>\n",
       "<table border=\"1\" class=\"dataframe\">\n",
       "  <thead>\n",
       "    <tr style=\"text-align: right;\">\n",
       "      <th></th>\n",
       "      <th>Name</th>\n",
       "      <th>current</th>\n",
       "    </tr>\n",
       "  </thead>\n",
       "  <tbody>\n",
       "    <tr>\n",
       "      <th>0</th>\n",
       "      <td>BANKBARODA</td>\n",
       "      <td>50</td>\n",
       "    </tr>\n",
       "    <tr>\n",
       "      <th>1</th>\n",
       "      <td>BHARTIAIRTEL</td>\n",
       "      <td>10</td>\n",
       "    </tr>\n",
       "    <tr>\n",
       "      <th>2</th>\n",
       "      <td>HDFCBANK</td>\n",
       "      <td>2</td>\n",
       "    </tr>\n",
       "    <tr>\n",
       "      <th>3</th>\n",
       "      <td>INFY</td>\n",
       "      <td>7</td>\n",
       "    </tr>\n",
       "    <tr>\n",
       "      <th>4</th>\n",
       "      <td>IRFC</td>\n",
       "      <td>575</td>\n",
       "    </tr>\n",
       "    <tr>\n",
       "      <th>5</th>\n",
       "      <td>LEMONTREE</td>\n",
       "      <td>50</td>\n",
       "    </tr>\n",
       "    <tr>\n",
       "      <th>6</th>\n",
       "      <td>NAVNETEDUL</td>\n",
       "      <td>100</td>\n",
       "    </tr>\n",
       "    <tr>\n",
       "      <th>7</th>\n",
       "      <td>TATAMOTORS</td>\n",
       "      <td>60</td>\n",
       "    </tr>\n",
       "    <tr>\n",
       "      <th>8</th>\n",
       "      <td>VI</td>\n",
       "      <td>600</td>\n",
       "    </tr>\n",
       "    <tr>\n",
       "      <th>9</th>\n",
       "      <td>YESBANK</td>\n",
       "      <td>1</td>\n",
       "    </tr>\n",
       "  </tbody>\n",
       "</table>\n",
       "</div>"
      ],
      "text/plain": [
       "           Name  current\n",
       "0    BANKBARODA       50\n",
       "1  BHARTIAIRTEL       10\n",
       "2      HDFCBANK        2\n",
       "3          INFY        7\n",
       "4          IRFC      575\n",
       "5     LEMONTREE       50\n",
       "6    NAVNETEDUL      100\n",
       "7    TATAMOTORS       60\n",
       "8            VI      600\n",
       "9       YESBANK        1"
      ]
     },
     "execution_count": 45,
     "metadata": {},
     "output_type": "execute_result"
    }
   ],
   "source": [
    "stock.getCurrHoldings()"
   ]
  },
  {
   "cell_type": "code",
   "execution_count": 46,
   "metadata": {
    "scrolled": true
   },
   "outputs": [
    {
     "data": {
      "text/html": [
       "<div>\n",
       "<style scoped>\n",
       "    .dataframe tbody tr th:only-of-type {\n",
       "        vertical-align: middle;\n",
       "    }\n",
       "\n",
       "    .dataframe tbody tr th {\n",
       "        vertical-align: top;\n",
       "    }\n",
       "\n",
       "    .dataframe thead th {\n",
       "        text-align: right;\n",
       "    }\n",
       "</style>\n",
       "<table border=\"1\" class=\"dataframe\">\n",
       "  <thead>\n",
       "    <tr style=\"text-align: right;\">\n",
       "      <th></th>\n",
       "      <th>Amount</th>\n",
       "      <th>Date</th>\n",
       "      <th>Description</th>\n",
       "    </tr>\n",
       "  </thead>\n",
       "  <tbody>\n",
       "    <tr>\n",
       "      <th>0</th>\n",
       "      <td>-23.60</td>\n",
       "      <td>2021-06-04</td>\n",
       "      <td>other</td>\n",
       "    </tr>\n",
       "    <tr>\n",
       "      <th>1</th>\n",
       "      <td>-94.40</td>\n",
       "      <td>2021-06-03</td>\n",
       "      <td>other</td>\n",
       "    </tr>\n",
       "    <tr>\n",
       "      <th>2</th>\n",
       "      <td>-47.20</td>\n",
       "      <td>2021-05-28</td>\n",
       "      <td>other</td>\n",
       "    </tr>\n",
       "    <tr>\n",
       "      <th>3</th>\n",
       "      <td>20000.00</td>\n",
       "      <td>2021-05-21</td>\n",
       "      <td>add</td>\n",
       "    </tr>\n",
       "    <tr>\n",
       "      <th>4</th>\n",
       "      <td>-23.60</td>\n",
       "      <td>2021-05-20</td>\n",
       "      <td>other</td>\n",
       "    </tr>\n",
       "    <tr>\n",
       "      <th>5</th>\n",
       "      <td>-70.80</td>\n",
       "      <td>2021-05-15</td>\n",
       "      <td>other</td>\n",
       "    </tr>\n",
       "    <tr>\n",
       "      <th>6</th>\n",
       "      <td>100.00</td>\n",
       "      <td>2021-05-09</td>\n",
       "      <td>Dividend</td>\n",
       "    </tr>\n",
       "    <tr>\n",
       "      <th>7</th>\n",
       "      <td>-23.60</td>\n",
       "      <td>2021-05-05</td>\n",
       "      <td>DP Charges</td>\n",
       "    </tr>\n",
       "    <tr>\n",
       "      <th>8</th>\n",
       "      <td>-27832.86</td>\n",
       "      <td>2021-04-12</td>\n",
       "      <td>withdraw</td>\n",
       "    </tr>\n",
       "    <tr>\n",
       "      <th>9</th>\n",
       "      <td>550.00</td>\n",
       "      <td>2021-03-24</td>\n",
       "      <td>Dividend</td>\n",
       "    </tr>\n",
       "    <tr>\n",
       "      <th>10</th>\n",
       "      <td>53.00</td>\n",
       "      <td>2021-03-06</td>\n",
       "      <td>Dividend</td>\n",
       "    </tr>\n",
       "    <tr>\n",
       "      <th>11</th>\n",
       "      <td>320.00</td>\n",
       "      <td>2021-03-04</td>\n",
       "      <td>Dividend</td>\n",
       "    </tr>\n",
       "    <tr>\n",
       "      <th>12</th>\n",
       "      <td>-424.80</td>\n",
       "      <td>2021-03-04</td>\n",
       "      <td>DP Charges</td>\n",
       "    </tr>\n",
       "    <tr>\n",
       "      <th>13</th>\n",
       "      <td>-23.60</td>\n",
       "      <td>2021-03-04</td>\n",
       "      <td>DP Charges</td>\n",
       "    </tr>\n",
       "    <tr>\n",
       "      <th>14</th>\n",
       "      <td>-23.60</td>\n",
       "      <td>2021-03-02</td>\n",
       "      <td>DP Charges</td>\n",
       "    </tr>\n",
       "    <tr>\n",
       "      <th>15</th>\n",
       "      <td>-23.60</td>\n",
       "      <td>2021-02-23</td>\n",
       "      <td>DP Charges</td>\n",
       "    </tr>\n",
       "    <tr>\n",
       "      <th>16</th>\n",
       "      <td>6000.00</td>\n",
       "      <td>2021-02-13</td>\n",
       "      <td>add</td>\n",
       "    </tr>\n",
       "    <tr>\n",
       "      <th>17</th>\n",
       "      <td>-23.60</td>\n",
       "      <td>2021-02-10</td>\n",
       "      <td>DP Charges</td>\n",
       "    </tr>\n",
       "    <tr>\n",
       "      <th>18</th>\n",
       "      <td>-23.60</td>\n",
       "      <td>2021-02-02</td>\n",
       "      <td>DP Charges</td>\n",
       "    </tr>\n",
       "    <tr>\n",
       "      <th>19</th>\n",
       "      <td>10000.00</td>\n",
       "      <td>2021-02-01</td>\n",
       "      <td>add</td>\n",
       "    </tr>\n",
       "    <tr>\n",
       "      <th>20</th>\n",
       "      <td>10.00</td>\n",
       "      <td>2021-02-01</td>\n",
       "      <td>Dividend</td>\n",
       "    </tr>\n",
       "    <tr>\n",
       "      <th>21</th>\n",
       "      <td>14346.25</td>\n",
       "      <td>2021-01-27</td>\n",
       "      <td>add</td>\n",
       "    </tr>\n",
       "    <tr>\n",
       "      <th>22</th>\n",
       "      <td>6907.09</td>\n",
       "      <td>2021-01-13</td>\n",
       "      <td>add</td>\n",
       "    </tr>\n",
       "    <tr>\n",
       "      <th>23</th>\n",
       "      <td>200.00</td>\n",
       "      <td>2020-11-21</td>\n",
       "      <td>Dividend</td>\n",
       "    </tr>\n",
       "    <tr>\n",
       "      <th>24</th>\n",
       "      <td>5000.00</td>\n",
       "      <td>2020-11-20</td>\n",
       "      <td>add</td>\n",
       "    </tr>\n",
       "    <tr>\n",
       "      <th>25</th>\n",
       "      <td>10000.00</td>\n",
       "      <td>2020-11-19</td>\n",
       "      <td>add</td>\n",
       "    </tr>\n",
       "    <tr>\n",
       "      <th>26</th>\n",
       "      <td>-23.60</td>\n",
       "      <td>2020-11-07</td>\n",
       "      <td>DP Charges</td>\n",
       "    </tr>\n",
       "    <tr>\n",
       "      <th>27</th>\n",
       "      <td>3000.00</td>\n",
       "      <td>2020-11-06</td>\n",
       "      <td>add</td>\n",
       "    </tr>\n",
       "    <tr>\n",
       "      <th>28</th>\n",
       "      <td>10000.00</td>\n",
       "      <td>2020-11-04</td>\n",
       "      <td>add</td>\n",
       "    </tr>\n",
       "    <tr>\n",
       "      <th>29</th>\n",
       "      <td>20000.00</td>\n",
       "      <td>2020-11-02</td>\n",
       "      <td>add</td>\n",
       "    </tr>\n",
       "    <tr>\n",
       "      <th>30</th>\n",
       "      <td>-17727.00</td>\n",
       "      <td>2020-10-26</td>\n",
       "      <td>add</td>\n",
       "    </tr>\n",
       "    <tr>\n",
       "      <th>31</th>\n",
       "      <td>-23.60</td>\n",
       "      <td>2020-10-07</td>\n",
       "      <td>DP Charges</td>\n",
       "    </tr>\n",
       "    <tr>\n",
       "      <th>32</th>\n",
       "      <td>-23.60</td>\n",
       "      <td>2020-09-15</td>\n",
       "      <td>DP Charges</td>\n",
       "    </tr>\n",
       "    <tr>\n",
       "      <th>33</th>\n",
       "      <td>10000.00</td>\n",
       "      <td>2020-09-04</td>\n",
       "      <td>add</td>\n",
       "    </tr>\n",
       "    <tr>\n",
       "      <th>34</th>\n",
       "      <td>5000.00</td>\n",
       "      <td>2020-08-31</td>\n",
       "      <td>add</td>\n",
       "    </tr>\n",
       "    <tr>\n",
       "      <th>35</th>\n",
       "      <td>10000.00</td>\n",
       "      <td>2020-08-27</td>\n",
       "      <td>add</td>\n",
       "    </tr>\n",
       "    <tr>\n",
       "      <th>36</th>\n",
       "      <td>-70.80</td>\n",
       "      <td>2020-08-08</td>\n",
       "      <td>DP Charges</td>\n",
       "    </tr>\n",
       "    <tr>\n",
       "      <th>37</th>\n",
       "      <td>8000.00</td>\n",
       "      <td>2020-07-20</td>\n",
       "      <td>add</td>\n",
       "    </tr>\n",
       "    <tr>\n",
       "      <th>38</th>\n",
       "      <td>5000.00</td>\n",
       "      <td>2020-07-08</td>\n",
       "      <td>add</td>\n",
       "    </tr>\n",
       "    <tr>\n",
       "      <th>39</th>\n",
       "      <td>50.00</td>\n",
       "      <td>2020-03-30</td>\n",
       "      <td>Dividend</td>\n",
       "    </tr>\n",
       "    <tr>\n",
       "      <th>40</th>\n",
       "      <td>14345.00</td>\n",
       "      <td>2020-03-20</td>\n",
       "      <td>add</td>\n",
       "    </tr>\n",
       "    <tr>\n",
       "      <th>41</th>\n",
       "      <td>740.00</td>\n",
       "      <td>2020-03-09</td>\n",
       "      <td>add</td>\n",
       "    </tr>\n",
       "    <tr>\n",
       "      <th>42</th>\n",
       "      <td>1000.00</td>\n",
       "      <td>2020-02-29</td>\n",
       "      <td>add</td>\n",
       "    </tr>\n",
       "  </tbody>\n",
       "</table>\n",
       "</div>"
      ],
      "text/plain": [
       "      Amount        Date Description\n",
       "0     -23.60  2021-06-04       other\n",
       "1     -94.40  2021-06-03       other\n",
       "2     -47.20  2021-05-28       other\n",
       "3   20000.00  2021-05-21         add\n",
       "4     -23.60  2021-05-20       other\n",
       "5     -70.80  2021-05-15       other\n",
       "6     100.00  2021-05-09    Dividend\n",
       "7     -23.60  2021-05-05  DP Charges\n",
       "8  -27832.86  2021-04-12    withdraw\n",
       "9     550.00  2021-03-24    Dividend\n",
       "10     53.00  2021-03-06    Dividend\n",
       "11    320.00  2021-03-04    Dividend\n",
       "12   -424.80  2021-03-04  DP Charges\n",
       "13    -23.60  2021-03-04  DP Charges\n",
       "14    -23.60  2021-03-02  DP Charges\n",
       "15    -23.60  2021-02-23  DP Charges\n",
       "16   6000.00  2021-02-13         add\n",
       "17    -23.60  2021-02-10  DP Charges\n",
       "18    -23.60  2021-02-02  DP Charges\n",
       "19  10000.00  2021-02-01         add\n",
       "20     10.00  2021-02-01    Dividend\n",
       "21  14346.25  2021-01-27         add\n",
       "22   6907.09  2021-01-13         add\n",
       "23    200.00  2020-11-21    Dividend\n",
       "24   5000.00  2020-11-20         add\n",
       "25  10000.00  2020-11-19         add\n",
       "26    -23.60  2020-11-07  DP Charges\n",
       "27   3000.00  2020-11-06         add\n",
       "28  10000.00  2020-11-04         add\n",
       "29  20000.00  2020-11-02         add\n",
       "30 -17727.00  2020-10-26         add\n",
       "31    -23.60  2020-10-07  DP Charges\n",
       "32    -23.60  2020-09-15  DP Charges\n",
       "33  10000.00  2020-09-04         add\n",
       "34   5000.00  2020-08-31         add\n",
       "35  10000.00  2020-08-27         add\n",
       "36    -70.80  2020-08-08  DP Charges\n",
       "37   8000.00  2020-07-20         add\n",
       "38   5000.00  2020-07-08         add\n",
       "39     50.00  2020-03-30    Dividend\n",
       "40  14345.00  2020-03-20         add\n",
       "41    740.00  2020-03-09         add\n",
       "42   1000.00  2020-02-29         add"
      ]
     },
     "execution_count": 46,
     "metadata": {},
     "output_type": "execute_result"
    }
   ],
   "source": [
    "a.Invest"
   ]
  },
  {
   "cell_type": "code",
   "execution_count": 47,
   "metadata": {},
   "outputs": [
    {
     "data": {
      "text/plain": [
       "53431.05"
      ]
     },
     "execution_count": 47,
     "metadata": {},
     "output_type": "execute_result"
    }
   ],
   "source": [
    "stock.getCurrBalance()"
   ]
  },
  {
   "cell_type": "code",
   "execution_count": 48,
   "metadata": {},
   "outputs": [
    {
     "data": {
      "text/plain": [
       "88180.29"
      ]
     },
     "execution_count": 48,
     "metadata": {},
     "output_type": "execute_result"
    }
   ],
   "source": [
    "stock.getInvestedValue()-stock.getCurrBalance()"
   ]
  },
  {
   "cell_type": "code",
   "execution_count": 55,
   "metadata": {},
   "outputs": [],
   "source": [
    "df = a.Sell['NumberOfStocks']*a.Sell['SellingPrice']\n",
    "sell_val = df.sum()"
   ]
  },
  {
   "cell_type": "code",
   "execution_count": 56,
   "metadata": {},
   "outputs": [
    {
     "data": {
      "text/plain": [
       "306163.65"
      ]
     },
     "execution_count": 56,
     "metadata": {},
     "output_type": "execute_result"
    }
   ],
   "source": [
    "sell_val"
   ]
  },
  {
   "cell_type": "code",
   "execution_count": 61,
   "metadata": {},
   "outputs": [],
   "source": [
    "def getProfitAmount():\n",
    "    buy_val = a.Buy.TotalCost.astype(float).sum()\n",
    "    sell_val = a.Sell.TotalCost.sum()\n",
    "#     sell_val = df.sum()\n",
    "    return sell_val-buy_val"
   ]
  },
  {
   "cell_type": "code",
   "execution_count": null,
   "metadata": {},
   "outputs": [],
   "source": []
  },
  {
   "cell_type": "code",
   "execution_count": 64,
   "metadata": {},
   "outputs": [
    {
     "data": {
      "text/html": [
       "<div>\n",
       "<style scoped>\n",
       "    .dataframe tbody tr th:only-of-type {\n",
       "        vertical-align: middle;\n",
       "    }\n",
       "\n",
       "    .dataframe tbody tr th {\n",
       "        vertical-align: top;\n",
       "    }\n",
       "\n",
       "    .dataframe thead th {\n",
       "        text-align: right;\n",
       "    }\n",
       "</style>\n",
       "<table border=\"1\" class=\"dataframe\">\n",
       "  <thead>\n",
       "    <tr style=\"text-align: right;\">\n",
       "      <th></th>\n",
       "      <th>Name</th>\n",
       "      <th>current</th>\n",
       "    </tr>\n",
       "  </thead>\n",
       "  <tbody>\n",
       "    <tr>\n",
       "      <th>0</th>\n",
       "      <td>BANKBARODA</td>\n",
       "      <td>50</td>\n",
       "    </tr>\n",
       "    <tr>\n",
       "      <th>1</th>\n",
       "      <td>BHARTIAIRTEL</td>\n",
       "      <td>10</td>\n",
       "    </tr>\n",
       "    <tr>\n",
       "      <th>2</th>\n",
       "      <td>HDFCBANK</td>\n",
       "      <td>2</td>\n",
       "    </tr>\n",
       "    <tr>\n",
       "      <th>3</th>\n",
       "      <td>INFY</td>\n",
       "      <td>7</td>\n",
       "    </tr>\n",
       "    <tr>\n",
       "      <th>4</th>\n",
       "      <td>IRFC</td>\n",
       "      <td>575</td>\n",
       "    </tr>\n",
       "    <tr>\n",
       "      <th>5</th>\n",
       "      <td>LEMONTREE</td>\n",
       "      <td>50</td>\n",
       "    </tr>\n",
       "    <tr>\n",
       "      <th>6</th>\n",
       "      <td>NAVNETEDUL</td>\n",
       "      <td>100</td>\n",
       "    </tr>\n",
       "    <tr>\n",
       "      <th>7</th>\n",
       "      <td>TATAMOTORS</td>\n",
       "      <td>60</td>\n",
       "    </tr>\n",
       "    <tr>\n",
       "      <th>8</th>\n",
       "      <td>VI</td>\n",
       "      <td>600</td>\n",
       "    </tr>\n",
       "    <tr>\n",
       "      <th>9</th>\n",
       "      <td>YESBANK</td>\n",
       "      <td>1</td>\n",
       "    </tr>\n",
       "  </tbody>\n",
       "</table>\n",
       "</div>"
      ],
      "text/plain": [
       "           Name  current\n",
       "0    BANKBARODA       50\n",
       "1  BHARTIAIRTEL       10\n",
       "2      HDFCBANK        2\n",
       "3          INFY        7\n",
       "4          IRFC      575\n",
       "5     LEMONTREE       50\n",
       "6    NAVNETEDUL      100\n",
       "7    TATAMOTORS       60\n",
       "8            VI      600\n",
       "9       YESBANK        1"
      ]
     },
     "execution_count": 64,
     "metadata": {},
     "output_type": "execute_result"
    }
   ],
   "source": [
    "stock.getCurrHoldings()"
   ]
  },
  {
   "cell_type": "code",
   "execution_count": 62,
   "metadata": {},
   "outputs": [
    {
     "data": {
      "text/plain": [
       "-59152.899999999965"
      ]
     },
     "execution_count": 62,
     "metadata": {},
     "output_type": "execute_result"
    }
   ],
   "source": [
    "getProfitAmount()"
   ]
  },
  {
   "cell_type": "code",
   "execution_count": 51,
   "metadata": {},
   "outputs": [
    {
     "data": {
      "text/plain": [
       "365059.04"
      ]
     },
     "execution_count": 51,
     "metadata": {},
     "output_type": "execute_result"
    }
   ],
   "source": [
    "# a.Buy.TotalCost.apply(lambda x:float(x))\n",
    "a.Buy.TotalCost.astype(float).sum()"
   ]
  },
  {
   "cell_type": "code",
   "execution_count": 25,
   "metadata": {},
   "outputs": [
    {
     "data": {
      "text/plain": [
       "115061.48"
      ]
     },
     "execution_count": 25,
     "metadata": {},
     "output_type": "execute_result"
    }
   ],
   "source": [
    "def getSumInvest(df,category):\n",
    "#     if str(type(category)) == 'list':\n",
    "    return df[df['Description'].isin(category)].Amount.sum()\n",
    "#     else:\n",
    "#         return df[df['Description']== category].Amount.sum()\n",
    "# getSumInvest(a.Invest,['add','withdraw','Dividend'])\n",
    "a.Invest[a.Invest['Description'].isin(['add','withdraw','Dividend'])].Amount.sum()\n",
    "# getSumInvest(a.Invest,'add')+getSumInvest(a.Invest,'withdraw')+getSumInvest(a.Invest,'Dividend')"
   ]
  },
  {
   "cell_type": "code",
   "execution_count": 25,
   "metadata": {},
   "outputs": [
    {
     "data": {
      "text/html": [
       "<div>\n",
       "<style scoped>\n",
       "    .dataframe tbody tr th:only-of-type {\n",
       "        vertical-align: middle;\n",
       "    }\n",
       "\n",
       "    .dataframe tbody tr th {\n",
       "        vertical-align: top;\n",
       "    }\n",
       "\n",
       "    .dataframe thead th {\n",
       "        text-align: right;\n",
       "    }\n",
       "</style>\n",
       "<table border=\"1\" class=\"dataframe\">\n",
       "  <thead>\n",
       "    <tr style=\"text-align: right;\">\n",
       "      <th></th>\n",
       "      <th>Description</th>\n",
       "      <th>Amount</th>\n",
       "    </tr>\n",
       "  </thead>\n",
       "  <tbody>\n",
       "    <tr>\n",
       "      <th>0</th>\n",
       "      <td>DP Charges</td>\n",
       "      <td>708.00</td>\n",
       "    </tr>\n",
       "    <tr>\n",
       "      <th>1</th>\n",
       "      <td>Div</td>\n",
       "      <td>50.00</td>\n",
       "    </tr>\n",
       "    <tr>\n",
       "      <th>2</th>\n",
       "      <td>Dividend</td>\n",
       "      <td>1233.00</td>\n",
       "    </tr>\n",
       "    <tr>\n",
       "      <th>3</th>\n",
       "      <td>add</td>\n",
       "      <td>177065.34</td>\n",
       "    </tr>\n",
       "    <tr>\n",
       "      <th>4</th>\n",
       "      <td>other</td>\n",
       "      <td>70.80</td>\n",
       "    </tr>\n",
       "    <tr>\n",
       "      <th>5</th>\n",
       "      <td>withdraw</td>\n",
       "      <td>27832.86</td>\n",
       "    </tr>\n",
       "  </tbody>\n",
       "</table>\n",
       "</div>"
      ],
      "text/plain": [
       "  Description     Amount\n",
       "0  DP Charges     708.00\n",
       "1         Div      50.00\n",
       "2    Dividend    1233.00\n",
       "3         add  177065.34\n",
       "4       other      70.80\n",
       "5    withdraw   27832.86"
      ]
     },
     "execution_count": 25,
     "metadata": {},
     "output_type": "execute_result"
    }
   ],
   "source": [
    "df_invest = a.Invest[['Description','Amount']].groupby('Description').apply(\n",
    "        lambda c:c.abs().sum()\n",
    "    )\n",
    "\n",
    "df_invest.reset_index(inplace=True)\n",
    "df_invest"
   ]
  },
  {
   "cell_type": "code",
   "execution_count": 6,
   "metadata": {},
   "outputs": [],
   "source": [
    "dfBuy = a.Buy\n",
    "dfSell = a.Sell\n",
    "\n",
    "d2 = ps.sqldf(\"\"\"\n",
    "\n",
    "select a.Name,a.nStocks-coalesce(b.nStocks,0) as current from\n",
    "\n",
    "(select Name,sum(NumberOfStocks) as nStocks,sum(BuyingPrice*NumberOfStocks) as Value\n",
    "from dfBuy group by Name \n",
    ") a\n",
    "left outer join \n",
    "(select Name,sum(NumberOfStocks) as nStocks,sum(SellingPrice*NumberOfStocks) as Value\n",
    "from dfSell group by Name) b\n",
    "\n",
    "on a.Name = b.Name\n",
    "where a.nStocks > coalesce(b.nStocks,0)\n",
    "\"\"\")\n",
    "d2"
   ]
  },
  {
   "cell_type": "code",
   "execution_count": 46,
   "metadata": {},
   "outputs": [
    {
     "data": {
      "text/html": [
       "<div>\n",
       "<style scoped>\n",
       "    .dataframe tbody tr th:only-of-type {\n",
       "        vertical-align: middle;\n",
       "    }\n",
       "\n",
       "    .dataframe tbody tr th {\n",
       "        vertical-align: top;\n",
       "    }\n",
       "\n",
       "    .dataframe thead th {\n",
       "        text-align: right;\n",
       "    }\n",
       "</style>\n",
       "<table border=\"1\" class=\"dataframe\">\n",
       "  <thead>\n",
       "    <tr style=\"text-align: right;\">\n",
       "      <th></th>\n",
       "      <th>Name</th>\n",
       "      <th>nStocks</th>\n",
       "      <th>Value</th>\n",
       "    </tr>\n",
       "  </thead>\n",
       "  <tbody>\n",
       "    <tr>\n",
       "      <th>0</th>\n",
       "      <td>DISHTV</td>\n",
       "      <td>200</td>\n",
       "      <td>2500.00</td>\n",
       "    </tr>\n",
       "    <tr>\n",
       "      <th>1</th>\n",
       "      <td>HDFC</td>\n",
       "      <td>5</td>\n",
       "      <td>5150.00</td>\n",
       "    </tr>\n",
       "    <tr>\n",
       "      <th>2</th>\n",
       "      <td>HDFCBANK</td>\n",
       "      <td>10</td>\n",
       "      <td>11064.75</td>\n",
       "    </tr>\n",
       "    <tr>\n",
       "      <th>3</th>\n",
       "      <td>INFY</td>\n",
       "      <td>3</td>\n",
       "      <td>2337.00</td>\n",
       "    </tr>\n",
       "    <tr>\n",
       "      <th>4</th>\n",
       "      <td>IOLCP</td>\n",
       "      <td>73</td>\n",
       "      <td>56854.36</td>\n",
       "    </tr>\n",
       "    <tr>\n",
       "      <th>5</th>\n",
       "      <td>ONGC</td>\n",
       "      <td>10</td>\n",
       "      <td>745.50</td>\n",
       "    </tr>\n",
       "    <tr>\n",
       "      <th>6</th>\n",
       "      <td>RELIANCE</td>\n",
       "      <td>10</td>\n",
       "      <td>21250.00</td>\n",
       "    </tr>\n",
       "    <tr>\n",
       "      <th>7</th>\n",
       "      <td>SBICARDS</td>\n",
       "      <td>19</td>\n",
       "      <td>14345.00</td>\n",
       "    </tr>\n",
       "    <tr>\n",
       "      <th>8</th>\n",
       "      <td>SBIN</td>\n",
       "      <td>26</td>\n",
       "      <td>5499.20</td>\n",
       "    </tr>\n",
       "    <tr>\n",
       "      <th>9</th>\n",
       "      <td>YESBANK</td>\n",
       "      <td>1</td>\n",
       "      <td>37.10</td>\n",
       "    </tr>\n",
       "  </tbody>\n",
       "</table>\n",
       "</div>"
      ],
      "text/plain": [
       "       Name  nStocks     Value\n",
       "0    DISHTV      200   2500.00\n",
       "1      HDFC        5   5150.00\n",
       "2  HDFCBANK       10  11064.75\n",
       "3      INFY        3   2337.00\n",
       "4     IOLCP       73  56854.36\n",
       "5      ONGC       10    745.50\n",
       "6  RELIANCE       10  21250.00\n",
       "7  SBICARDS       19  14345.00\n",
       "8      SBIN       26   5499.20\n",
       "9   YESBANK        1     37.10"
      ]
     },
     "execution_count": 46,
     "metadata": {},
     "output_type": "execute_result"
    }
   ],
   "source": [
    "d1 = ps.sqldf(\"\"\"\n",
    "\n",
    "select Name,sum(NumberOfStocks) as nStocks,sum(BuyingPrice*NumberOfStocks) as Value\n",
    "from dfBuy group by Name\n",
    "\"\"\")\n",
    "d1"
   ]
  },
  {
   "cell_type": "code",
   "execution_count": 49,
   "metadata": {},
   "outputs": [
    {
     "ename": "TypeError",
     "evalue": "int() argument must be a string, a bytes-like object or a number, not 'DataFrame'",
     "output_type": "error",
     "traceback": [
      "\u001b[0;31m---------------------------------------------------------------------------\u001b[0m",
      "\u001b[0;31mTypeError\u001b[0m                                 Traceback (most recent call last)",
      "\u001b[0;32m<ipython-input-49-9fe676fdaa3c>\u001b[0m in \u001b[0;36m<module>\u001b[0;34m\u001b[0m\n\u001b[0;32m----> 1\u001b[0;31m \u001b[0md1\u001b[0m\u001b[0;34m.\u001b[0m\u001b[0mdiff\u001b[0m\u001b[0;34m(\u001b[0m\u001b[0md2\u001b[0m\u001b[0;34m)\u001b[0m\u001b[0;34m\u001b[0m\u001b[0m\n\u001b[0m",
      "\u001b[0;32m~/anaconda3/lib/python3.7/site-packages/pandas/core/frame.py\u001b[0m in \u001b[0;36mdiff\u001b[0;34m(self, periods, axis)\u001b[0m\n\u001b[1;32m   7251\u001b[0m             \u001b[0;32mreturn\u001b[0m \u001b[0mself\u001b[0m\u001b[0;34m.\u001b[0m\u001b[0mT\u001b[0m\u001b[0;34m.\u001b[0m\u001b[0mdiff\u001b[0m\u001b[0;34m(\u001b[0m\u001b[0mperiods\u001b[0m\u001b[0;34m,\u001b[0m \u001b[0maxis\u001b[0m\u001b[0;34m=\u001b[0m\u001b[0;36m0\u001b[0m\u001b[0;34m)\u001b[0m\u001b[0;34m.\u001b[0m\u001b[0mT\u001b[0m\u001b[0;34m\u001b[0m\u001b[0m\n\u001b[1;32m   7252\u001b[0m \u001b[0;34m\u001b[0m\u001b[0m\n\u001b[0;32m-> 7253\u001b[0;31m         \u001b[0mnew_data\u001b[0m \u001b[0;34m=\u001b[0m \u001b[0mself\u001b[0m\u001b[0;34m.\u001b[0m\u001b[0m_mgr\u001b[0m\u001b[0;34m.\u001b[0m\u001b[0mdiff\u001b[0m\u001b[0;34m(\u001b[0m\u001b[0mn\u001b[0m\u001b[0;34m=\u001b[0m\u001b[0mperiods\u001b[0m\u001b[0;34m,\u001b[0m \u001b[0maxis\u001b[0m\u001b[0;34m=\u001b[0m\u001b[0mbm_axis\u001b[0m\u001b[0;34m)\u001b[0m\u001b[0;34m\u001b[0m\u001b[0m\n\u001b[0m\u001b[1;32m   7254\u001b[0m         \u001b[0;32mreturn\u001b[0m \u001b[0mself\u001b[0m\u001b[0;34m.\u001b[0m\u001b[0m_constructor\u001b[0m\u001b[0;34m(\u001b[0m\u001b[0mnew_data\u001b[0m\u001b[0;34m)\u001b[0m\u001b[0;34m\u001b[0m\u001b[0m\n\u001b[1;32m   7255\u001b[0m \u001b[0;34m\u001b[0m\u001b[0m\n",
      "\u001b[0;32m~/anaconda3/lib/python3.7/site-packages/pandas/core/internals/managers.py\u001b[0m in \u001b[0;36mdiff\u001b[0;34m(self, n, axis)\u001b[0m\n\u001b[1;32m    556\u001b[0m \u001b[0;34m\u001b[0m\u001b[0m\n\u001b[1;32m    557\u001b[0m     \u001b[0;32mdef\u001b[0m \u001b[0mdiff\u001b[0m\u001b[0;34m(\u001b[0m\u001b[0mself\u001b[0m\u001b[0;34m,\u001b[0m \u001b[0mn\u001b[0m\u001b[0;34m:\u001b[0m \u001b[0mint\u001b[0m\u001b[0;34m,\u001b[0m \u001b[0maxis\u001b[0m\u001b[0;34m:\u001b[0m \u001b[0mint\u001b[0m\u001b[0;34m)\u001b[0m \u001b[0;34m->\u001b[0m \u001b[0;34m\"BlockManager\"\u001b[0m\u001b[0;34m:\u001b[0m\u001b[0;34m\u001b[0m\u001b[0m\n\u001b[0;32m--> 558\u001b[0;31m         \u001b[0;32mreturn\u001b[0m \u001b[0mself\u001b[0m\u001b[0;34m.\u001b[0m\u001b[0mapply\u001b[0m\u001b[0;34m(\u001b[0m\u001b[0;34m\"diff\"\u001b[0m\u001b[0;34m,\u001b[0m \u001b[0mn\u001b[0m\u001b[0;34m=\u001b[0m\u001b[0mn\u001b[0m\u001b[0;34m,\u001b[0m \u001b[0maxis\u001b[0m\u001b[0;34m=\u001b[0m\u001b[0maxis\u001b[0m\u001b[0;34m)\u001b[0m\u001b[0;34m\u001b[0m\u001b[0m\n\u001b[0m\u001b[1;32m    559\u001b[0m \u001b[0;34m\u001b[0m\u001b[0m\n\u001b[1;32m    560\u001b[0m     \u001b[0;32mdef\u001b[0m \u001b[0minterpolate\u001b[0m\u001b[0;34m(\u001b[0m\u001b[0mself\u001b[0m\u001b[0;34m,\u001b[0m \u001b[0;34m**\u001b[0m\u001b[0mkwargs\u001b[0m\u001b[0;34m)\u001b[0m \u001b[0;34m->\u001b[0m \u001b[0;34m\"BlockManager\"\u001b[0m\u001b[0;34m:\u001b[0m\u001b[0;34m\u001b[0m\u001b[0m\n",
      "\u001b[0;32m~/anaconda3/lib/python3.7/site-packages/pandas/core/internals/managers.py\u001b[0m in \u001b[0;36mapply\u001b[0;34m(self, f, align_keys, **kwargs)\u001b[0m\n\u001b[1;32m    404\u001b[0m                 \u001b[0mapplied\u001b[0m \u001b[0;34m=\u001b[0m \u001b[0mb\u001b[0m\u001b[0;34m.\u001b[0m\u001b[0mapply\u001b[0m\u001b[0;34m(\u001b[0m\u001b[0mf\u001b[0m\u001b[0;34m,\u001b[0m \u001b[0;34m**\u001b[0m\u001b[0mkwargs\u001b[0m\u001b[0;34m)\u001b[0m\u001b[0;34m\u001b[0m\u001b[0m\n\u001b[1;32m    405\u001b[0m             \u001b[0;32melse\u001b[0m\u001b[0;34m:\u001b[0m\u001b[0;34m\u001b[0m\u001b[0m\n\u001b[0;32m--> 406\u001b[0;31m                 \u001b[0mapplied\u001b[0m \u001b[0;34m=\u001b[0m \u001b[0mgetattr\u001b[0m\u001b[0;34m(\u001b[0m\u001b[0mb\u001b[0m\u001b[0;34m,\u001b[0m \u001b[0mf\u001b[0m\u001b[0;34m)\u001b[0m\u001b[0;34m(\u001b[0m\u001b[0;34m**\u001b[0m\u001b[0mkwargs\u001b[0m\u001b[0;34m)\u001b[0m\u001b[0;34m\u001b[0m\u001b[0m\n\u001b[0m\u001b[1;32m    407\u001b[0m             \u001b[0mresult_blocks\u001b[0m \u001b[0;34m=\u001b[0m \u001b[0m_extend_blocks\u001b[0m\u001b[0;34m(\u001b[0m\u001b[0mapplied\u001b[0m\u001b[0;34m,\u001b[0m \u001b[0mresult_blocks\u001b[0m\u001b[0;34m)\u001b[0m\u001b[0;34m\u001b[0m\u001b[0m\n\u001b[1;32m    408\u001b[0m \u001b[0;34m\u001b[0m\u001b[0m\n",
      "\u001b[0;32m~/anaconda3/lib/python3.7/site-packages/pandas/core/internals/blocks.py\u001b[0m in \u001b[0;36mdiff\u001b[0;34m(self, n, axis)\u001b[0m\n\u001b[1;32m   1264\u001b[0m     \u001b[0;32mdef\u001b[0m \u001b[0mdiff\u001b[0m\u001b[0;34m(\u001b[0m\u001b[0mself\u001b[0m\u001b[0;34m,\u001b[0m \u001b[0mn\u001b[0m\u001b[0;34m:\u001b[0m \u001b[0mint\u001b[0m\u001b[0;34m,\u001b[0m \u001b[0maxis\u001b[0m\u001b[0;34m:\u001b[0m \u001b[0mint\u001b[0m \u001b[0;34m=\u001b[0m \u001b[0;36m1\u001b[0m\u001b[0;34m)\u001b[0m \u001b[0;34m->\u001b[0m \u001b[0mList\u001b[0m\u001b[0;34m[\u001b[0m\u001b[0;34m\"Block\"\u001b[0m\u001b[0;34m]\u001b[0m\u001b[0;34m:\u001b[0m\u001b[0;34m\u001b[0m\u001b[0m\n\u001b[1;32m   1265\u001b[0m         \u001b[0;34m\"\"\" return block for the diff of the values \"\"\"\u001b[0m\u001b[0;34m\u001b[0m\u001b[0m\n\u001b[0;32m-> 1266\u001b[0;31m         \u001b[0mnew_values\u001b[0m \u001b[0;34m=\u001b[0m \u001b[0malgos\u001b[0m\u001b[0;34m.\u001b[0m\u001b[0mdiff\u001b[0m\u001b[0;34m(\u001b[0m\u001b[0mself\u001b[0m\u001b[0;34m.\u001b[0m\u001b[0mvalues\u001b[0m\u001b[0;34m,\u001b[0m \u001b[0mn\u001b[0m\u001b[0;34m,\u001b[0m \u001b[0maxis\u001b[0m\u001b[0;34m=\u001b[0m\u001b[0maxis\u001b[0m\u001b[0;34m,\u001b[0m \u001b[0mstacklevel\u001b[0m\u001b[0;34m=\u001b[0m\u001b[0;36m7\u001b[0m\u001b[0;34m)\u001b[0m\u001b[0;34m\u001b[0m\u001b[0m\n\u001b[0m\u001b[1;32m   1267\u001b[0m         \u001b[0;32mreturn\u001b[0m \u001b[0;34m[\u001b[0m\u001b[0mself\u001b[0m\u001b[0;34m.\u001b[0m\u001b[0mmake_block\u001b[0m\u001b[0;34m(\u001b[0m\u001b[0mvalues\u001b[0m\u001b[0;34m=\u001b[0m\u001b[0mnew_values\u001b[0m\u001b[0;34m)\u001b[0m\u001b[0;34m]\u001b[0m\u001b[0;34m\u001b[0m\u001b[0m\n\u001b[1;32m   1268\u001b[0m \u001b[0;34m\u001b[0m\u001b[0m\n",
      "\u001b[0;32m~/anaconda3/lib/python3.7/site-packages/pandas/core/algorithms.py\u001b[0m in \u001b[0;36mdiff\u001b[0;34m(arr, n, axis, stacklevel)\u001b[0m\n\u001b[1;32m   1862\u001b[0m     \u001b[0;32mfrom\u001b[0m \u001b[0mpandas\u001b[0m\u001b[0;34m.\u001b[0m\u001b[0mcore\u001b[0m\u001b[0;34m.\u001b[0m\u001b[0marrays\u001b[0m \u001b[0;32mimport\u001b[0m \u001b[0mPandasDtype\u001b[0m\u001b[0;34m\u001b[0m\u001b[0m\n\u001b[1;32m   1863\u001b[0m \u001b[0;34m\u001b[0m\u001b[0m\n\u001b[0;32m-> 1864\u001b[0;31m     \u001b[0mn\u001b[0m \u001b[0;34m=\u001b[0m \u001b[0mint\u001b[0m\u001b[0;34m(\u001b[0m\u001b[0mn\u001b[0m\u001b[0;34m)\u001b[0m\u001b[0;34m\u001b[0m\u001b[0m\n\u001b[0m\u001b[1;32m   1865\u001b[0m     \u001b[0mna\u001b[0m \u001b[0;34m=\u001b[0m \u001b[0mnp\u001b[0m\u001b[0;34m.\u001b[0m\u001b[0mnan\u001b[0m\u001b[0;34m\u001b[0m\u001b[0m\n\u001b[1;32m   1866\u001b[0m     \u001b[0mdtype\u001b[0m \u001b[0;34m=\u001b[0m \u001b[0marr\u001b[0m\u001b[0;34m.\u001b[0m\u001b[0mdtype\u001b[0m\u001b[0;34m\u001b[0m\u001b[0m\n",
      "\u001b[0;31mTypeError\u001b[0m: int() argument must be a string, a bytes-like object or a number, not 'DataFrame'"
     ]
    }
   ],
   "source": [
    "d1.diff(d2)"
   ]
  },
  {
   "cell_type": "code",
   "execution_count": 4,
   "metadata": {},
   "outputs": [],
   "source": [
    "from datetime import datetime"
   ]
  },
  {
   "cell_type": "code",
   "execution_count": 5,
   "metadata": {},
   "outputs": [],
   "source": [
    "# data Structure\n",
    "sellData = {\n",
    "    \"Name\":'test',\n",
    "    \"NumberOfStocks\":45,\n",
    "    \"SellingPrice\":15,\n",
    "    \"Date\":datetime.now().strftime(\"%Y-%m-%d\"),\n",
    "    \"TotalCost\":10,\n",
    "    \"ExtraCharges\":0,\n",
    "    }\n",
    "\n",
    "buyData = {\n",
    "    \"Name\":'pank',\n",
    "    \"NumberOfStocks\":'23',\n",
    "    \"BuyingPrice\":0,\n",
    "    \"Date\":datetime.now().strftime(\"%Y-%m-%d\"),\n",
    "    \"TotalCost\":24,\n",
    "    \"ExtraCharges\":45,\n",
    "    }\n",
    "\n",
    "InvestData = {\n",
    "    \"Amount\":0,\n",
    "    \"Date\":datetime.now(),\n",
    "    \"Description\":'add',\n",
    "    }"
   ]
  },
  {
   "cell_type": "code",
   "execution_count": 6,
   "metadata": {},
   "outputs": [
    {
     "name": "stdout",
     "output_type": "stream",
     "text": [
      "buy\n"
     ]
    }
   ],
   "source": [
    "# a.addData(\"sell\",**sellData)\n",
    "a.addData(\"buy\",**buyData)"
   ]
  },
  {
   "cell_type": "code",
   "execution_count": 7,
   "metadata": {},
   "outputs": [],
   "source": [
    "df = a.getData('sell')"
   ]
  },
  {
   "cell_type": "code",
   "execution_count": 7,
   "metadata": {},
   "outputs": [
    {
     "data": {
      "text/html": [
       "<div>\n",
       "<style scoped>\n",
       "    .dataframe tbody tr th:only-of-type {\n",
       "        vertical-align: middle;\n",
       "    }\n",
       "\n",
       "    .dataframe tbody tr th {\n",
       "        vertical-align: top;\n",
       "    }\n",
       "\n",
       "    .dataframe thead th {\n",
       "        text-align: right;\n",
       "    }\n",
       "</style>\n",
       "<table border=\"1\" class=\"dataframe\">\n",
       "  <thead>\n",
       "    <tr style=\"text-align: right;\">\n",
       "      <th></th>\n",
       "      <th>Name</th>\n",
       "      <th>NumberOfStocks</th>\n",
       "      <th>BuyingPrice</th>\n",
       "      <th>Date</th>\n",
       "      <th>TotalCost</th>\n",
       "      <th>ExtraCharges</th>\n",
       "      <th>BrokerageCost</th>\n",
       "    </tr>\n",
       "  </thead>\n",
       "  <tbody>\n",
       "    <tr>\n",
       "      <th>0</th>\n",
       "      <td>SBIN</td>\n",
       "      <td>3</td>\n",
       "      <td>311</td>\n",
       "      <td>2020-02-03</td>\n",
       "      <td>934.13</td>\n",
       "      <td>0</td>\n",
       "      <td>1.13</td>\n",
       "    </tr>\n",
       "    <tr>\n",
       "      <th>1</th>\n",
       "      <td>SBIN</td>\n",
       "      <td>10</td>\n",
       "      <td>198.7</td>\n",
       "      <td>2020-03-26</td>\n",
       "      <td>1987</td>\n",
       "      <td>20</td>\n",
       "      <td>20.00</td>\n",
       "    </tr>\n",
       "    <tr>\n",
       "      <th>2</th>\n",
       "      <td>YESBANK</td>\n",
       "      <td>1</td>\n",
       "      <td>37.1</td>\n",
       "      <td>2020-03-05</td>\n",
       "      <td>37.11</td>\n",
       "      <td>0</td>\n",
       "      <td>0.01</td>\n",
       "    </tr>\n",
       "    <tr>\n",
       "      <th>3</th>\n",
       "      <td>ONGC</td>\n",
       "      <td>10</td>\n",
       "      <td>74.55</td>\n",
       "      <td>2020-03-09</td>\n",
       "      <td>746.6</td>\n",
       "      <td>0</td>\n",
       "      <td>1.10</td>\n",
       "    </tr>\n",
       "    <tr>\n",
       "      <th>4</th>\n",
       "      <td>INFY</td>\n",
       "      <td>3</td>\n",
       "      <td>779</td>\n",
       "      <td>2020-07-08</td>\n",
       "      <td>2339.08</td>\n",
       "      <td>0</td>\n",
       "      <td>2.08</td>\n",
       "    </tr>\n",
       "    <tr>\n",
       "      <th>5</th>\n",
       "      <td>SBIN</td>\n",
       "      <td>13</td>\n",
       "      <td>198.4</td>\n",
       "      <td>2020-07-10</td>\n",
       "      <td>2582.3</td>\n",
       "      <td>0</td>\n",
       "      <td>3.10</td>\n",
       "    </tr>\n",
       "    <tr>\n",
       "      <th>6</th>\n",
       "      <td>IOLCP</td>\n",
       "      <td>23</td>\n",
       "      <td>770.52</td>\n",
       "      <td>2020-07-21</td>\n",
       "      <td>17743.4</td>\n",
       "      <td>0</td>\n",
       "      <td>21.40</td>\n",
       "    </tr>\n",
       "    <tr>\n",
       "      <th>7</th>\n",
       "      <td>SBICARDS</td>\n",
       "      <td>19</td>\n",
       "      <td>755</td>\n",
       "      <td>2020-03-20</td>\n",
       "      <td>14345</td>\n",
       "      <td>0</td>\n",
       "      <td>0.00</td>\n",
       "    </tr>\n",
       "    <tr>\n",
       "      <th>8</th>\n",
       "      <td>HDFC</td>\n",
       "      <td>5</td>\n",
       "      <td>1030</td>\n",
       "      <td>2020-07-31</td>\n",
       "      <td>5156.19</td>\n",
       "      <td>0</td>\n",
       "      <td>6.19</td>\n",
       "    </tr>\n",
       "    <tr>\n",
       "      <th>9</th>\n",
       "      <td>RELIANCE</td>\n",
       "      <td>10</td>\n",
       "      <td>2125</td>\n",
       "      <td>2020-07-29</td>\n",
       "      <td>21274.1</td>\n",
       "      <td>0</td>\n",
       "      <td>24.12</td>\n",
       "    </tr>\n",
       "    <tr>\n",
       "      <th>10</th>\n",
       "      <td>IOLCP</td>\n",
       "      <td>5</td>\n",
       "      <td>740</td>\n",
       "      <td>2020-07-22</td>\n",
       "      <td>3705.13</td>\n",
       "      <td>0</td>\n",
       "      <td>5.13</td>\n",
       "    </tr>\n",
       "    <tr>\n",
       "      <th>11</th>\n",
       "      <td>pank</td>\n",
       "      <td>23</td>\n",
       "      <td>0</td>\n",
       "      <td>2020-09-27</td>\n",
       "      <td>24</td>\n",
       "      <td>45</td>\n",
       "      <td>NaN</td>\n",
       "    </tr>\n",
       "  </tbody>\n",
       "</table>\n",
       "</div>"
      ],
      "text/plain": [
       "        Name NumberOfStocks BuyingPrice        Date TotalCost ExtraCharges  \\\n",
       "0       SBIN              3         311  2020-02-03    934.13            0   \n",
       "1       SBIN             10       198.7  2020-03-26      1987           20   \n",
       "2    YESBANK              1        37.1  2020-03-05     37.11            0   \n",
       "3       ONGC             10       74.55  2020-03-09     746.6            0   \n",
       "4       INFY              3         779  2020-07-08   2339.08            0   \n",
       "5       SBIN             13       198.4  2020-07-10    2582.3            0   \n",
       "6      IOLCP             23      770.52  2020-07-21   17743.4            0   \n",
       "7   SBICARDS             19         755  2020-03-20     14345            0   \n",
       "8       HDFC              5        1030  2020-07-31   5156.19            0   \n",
       "9   RELIANCE             10        2125  2020-07-29   21274.1            0   \n",
       "10     IOLCP              5         740  2020-07-22   3705.13            0   \n",
       "11      pank             23           0  2020-09-27        24           45   \n",
       "\n",
       "    BrokerageCost  \n",
       "0            1.13  \n",
       "1           20.00  \n",
       "2            0.01  \n",
       "3            1.10  \n",
       "4            2.08  \n",
       "5            3.10  \n",
       "6           21.40  \n",
       "7            0.00  \n",
       "8            6.19  \n",
       "9           24.12  \n",
       "10           5.13  \n",
       "11            NaN  "
      ]
     },
     "execution_count": 7,
     "metadata": {},
     "output_type": "execute_result"
    }
   ],
   "source": [
    "a.Buy"
   ]
  },
  {
   "cell_type": "code",
   "execution_count": 8,
   "metadata": {},
   "outputs": [
    {
     "name": "stdout",
     "output_type": "stream",
     "text": [
      "buy updated in ../profiles/fahim sucessfully\n"
     ]
    }
   ],
   "source": [
    "a.updateData(\"buy\")"
   ]
  },
  {
   "cell_type": "code",
   "execution_count": 9,
   "metadata": {},
   "outputs": [
    {
     "name": "stdout",
     "output_type": "stream",
     "text": [
      "sell\n"
     ]
    }
   ],
   "source": [
    "a.addData(\"sell\",**sellData)"
   ]
  },
  {
   "cell_type": "code",
   "execution_count": 10,
   "metadata": {},
   "outputs": [
    {
     "data": {
      "text/html": [
       "<div>\n",
       "<style scoped>\n",
       "    .dataframe tbody tr th:only-of-type {\n",
       "        vertical-align: middle;\n",
       "    }\n",
       "\n",
       "    .dataframe tbody tr th {\n",
       "        vertical-align: top;\n",
       "    }\n",
       "\n",
       "    .dataframe thead th {\n",
       "        text-align: right;\n",
       "    }\n",
       "</style>\n",
       "<table border=\"1\" class=\"dataframe\">\n",
       "  <thead>\n",
       "    <tr style=\"text-align: right;\">\n",
       "      <th></th>\n",
       "      <th>Name</th>\n",
       "      <th>NumberOfStocks</th>\n",
       "      <th>SellingPrice</th>\n",
       "      <th>Date</th>\n",
       "      <th>TotalCost</th>\n",
       "      <th>ExtraCharges</th>\n",
       "      <th>BrokerageCost</th>\n",
       "    </tr>\n",
       "  </thead>\n",
       "  <tbody>\n",
       "    <tr>\n",
       "      <th>0</th>\n",
       "      <td>SBIN</td>\n",
       "      <td>10</td>\n",
       "      <td>196.5</td>\n",
       "      <td>2020-03-26</td>\n",
       "      <td>1965.00</td>\n",
       "      <td>27.43</td>\n",
       "      <td>27.43</td>\n",
       "    </tr>\n",
       "    <tr>\n",
       "      <th>1</th>\n",
       "      <td>INFY</td>\n",
       "      <td>3</td>\n",
       "      <td>932.0</td>\n",
       "      <td>2020-07-16</td>\n",
       "      <td>2792.89</td>\n",
       "      <td>0.00</td>\n",
       "      <td>3.11</td>\n",
       "    </tr>\n",
       "    <tr>\n",
       "      <th>2</th>\n",
       "      <td>SBICARDS</td>\n",
       "      <td>19</td>\n",
       "      <td>796.0</td>\n",
       "      <td>2020-07-21</td>\n",
       "      <td>15108.15</td>\n",
       "      <td>0.00</td>\n",
       "      <td>15.85</td>\n",
       "    </tr>\n",
       "    <tr>\n",
       "      <th>3</th>\n",
       "      <td>IOLCP</td>\n",
       "      <td>28</td>\n",
       "      <td>796.0</td>\n",
       "      <td>2020-07-29</td>\n",
       "      <td>22312.49</td>\n",
       "      <td>0.00</td>\n",
       "      <td>24.49</td>\n",
       "    </tr>\n",
       "  </tbody>\n",
       "</table>\n",
       "</div>"
      ],
      "text/plain": [
       "       Name  NumberOfStocks  SellingPrice        Date  TotalCost  \\\n",
       "0      SBIN              10         196.5  2020-03-26    1965.00   \n",
       "1      INFY               3         932.0  2020-07-16    2792.89   \n",
       "2  SBICARDS              19         796.0  2020-07-21   15108.15   \n",
       "3     IOLCP              28         796.0  2020-07-29   22312.49   \n",
       "\n",
       "   ExtraCharges  BrokerageCost  \n",
       "0         27.43          27.43  \n",
       "1          0.00           3.11  \n",
       "2          0.00          15.85  \n",
       "3          0.00          24.49  "
      ]
     },
     "execution_count": 10,
     "metadata": {},
     "output_type": "execute_result"
    }
   ],
   "source": [
    "a.Sell"
   ]
  },
  {
   "cell_type": "code",
   "execution_count": 11,
   "metadata": {},
   "outputs": [
    {
     "data": {
      "text/html": [
       "<div>\n",
       "<style scoped>\n",
       "    .dataframe tbody tr th:only-of-type {\n",
       "        vertical-align: middle;\n",
       "    }\n",
       "\n",
       "    .dataframe tbody tr th {\n",
       "        vertical-align: top;\n",
       "    }\n",
       "\n",
       "    .dataframe thead th {\n",
       "        text-align: right;\n",
       "    }\n",
       "</style>\n",
       "<table border=\"1\" class=\"dataframe\">\n",
       "  <thead>\n",
       "    <tr style=\"text-align: right;\">\n",
       "      <th></th>\n",
       "      <th>Name</th>\n",
       "      <th>NumberOfStocks</th>\n",
       "      <th>SellingPrice</th>\n",
       "      <th>Date</th>\n",
       "      <th>TotalCost</th>\n",
       "      <th>ExtraCharges</th>\n",
       "      <th>BrokerageCost</th>\n",
       "    </tr>\n",
       "  </thead>\n",
       "  <tbody>\n",
       "    <tr>\n",
       "      <th>3</th>\n",
       "      <td>IOLCP</td>\n",
       "      <td>28</td>\n",
       "      <td>796.0</td>\n",
       "      <td>2020-07-29</td>\n",
       "      <td>22312.49</td>\n",
       "      <td>0.00</td>\n",
       "      <td>24.49</td>\n",
       "    </tr>\n",
       "    <tr>\n",
       "      <th>2</th>\n",
       "      <td>SBICARDS</td>\n",
       "      <td>19</td>\n",
       "      <td>796.0</td>\n",
       "      <td>2020-07-21</td>\n",
       "      <td>15108.15</td>\n",
       "      <td>0.00</td>\n",
       "      <td>15.85</td>\n",
       "    </tr>\n",
       "    <tr>\n",
       "      <th>1</th>\n",
       "      <td>INFY</td>\n",
       "      <td>3</td>\n",
       "      <td>932.0</td>\n",
       "      <td>2020-07-16</td>\n",
       "      <td>2792.89</td>\n",
       "      <td>0.00</td>\n",
       "      <td>3.11</td>\n",
       "    </tr>\n",
       "    <tr>\n",
       "      <th>0</th>\n",
       "      <td>SBIN</td>\n",
       "      <td>10</td>\n",
       "      <td>196.5</td>\n",
       "      <td>2020-03-26</td>\n",
       "      <td>1965.00</td>\n",
       "      <td>27.43</td>\n",
       "      <td>27.43</td>\n",
       "    </tr>\n",
       "  </tbody>\n",
       "</table>\n",
       "</div>"
      ],
      "text/plain": [
       "       Name  NumberOfStocks  SellingPrice        Date  TotalCost  \\\n",
       "3     IOLCP              28         796.0  2020-07-29   22312.49   \n",
       "2  SBICARDS              19         796.0  2020-07-21   15108.15   \n",
       "1      INFY               3         932.0  2020-07-16    2792.89   \n",
       "0      SBIN              10         196.5  2020-03-26    1965.00   \n",
       "\n",
       "   ExtraCharges  BrokerageCost  \n",
       "3          0.00          24.49  \n",
       "2          0.00          15.85  \n",
       "1          0.00           3.11  \n",
       "0         27.43          27.43  "
      ]
     },
     "execution_count": 11,
     "metadata": {},
     "output_type": "execute_result"
    }
   ],
   "source": [
    "a.getData('sell')"
   ]
  },
  {
   "cell_type": "code",
   "execution_count": 12,
   "metadata": {},
   "outputs": [],
   "source": [
    "import os\n",
    "import pandas as pd "
   ]
  },
  {
   "cell_type": "code",
   "execution_count": 13,
   "metadata": {},
   "outputs": [
    {
     "name": "stdout",
     "output_type": "stream",
     "text": [
      "D1RTSKPBB3ZBWOWO\n"
     ]
    }
   ],
   "source": [
    "os.environ['ALPHAVANTAGE_API_KEY'] = \"D1RTSKPBB3ZBWOWO\" \n",
    "apiKey = os.getenv('ALPHAVANTAGE_API_KEY')\n",
    "print(apiKey)"
   ]
  },
  {
   "cell_type": "markdown",
   "metadata": {},
   "source": [
    "## AlphaVantage APIs"
   ]
  },
  {
   "cell_type": "code",
   "execution_count": 29,
   "metadata": {},
   "outputs": [],
   "source": [
    "app = TimeSeries(output_format='pandas')"
   ]
  },
  {
   "cell_type": "code",
   "execution_count": 45,
   "metadata": {},
   "outputs": [],
   "source": [
    "def saveDataInArchive(dat,name):\n",
    "    locArchive = './data/archiveData/'\n",
    "    locData = './data/stockData/'\n",
    "    with open(locArchive+name+'.pickle', 'wb') as f:\n",
    "        pickle.dump(dat, f)\n",
    "    # save csv file data\n",
    "    df = dat[0]\n",
    "    df.columns = ['open','high','low','close','adjustedClose','volume','dividendAmt','splitCoeff']\n",
    "    dat[0].to_csv(locData+name+'.csv')\n",
    "    "
   ]
  },
  {
   "cell_type": "code",
   "execution_count": 68,
   "metadata": {},
   "outputs": [
    {
     "name": "stdout",
     "output_type": "stream",
     "text": [
      "bpcl\n"
     ]
    },
    {
     "ename": "KeyError",
     "evalue": "'Time Series (Daily)'",
     "output_type": "error",
     "traceback": [
      "\u001b[0;31m---------------------------------------------------------------------------\u001b[0m",
      "\u001b[0;31mKeyError\u001b[0m                                  Traceback (most recent call last)",
      "\u001b[0;32m<ipython-input-68-2742ed13113c>\u001b[0m in \u001b[0;36m<module>\u001b[0;34m()\u001b[0m\n\u001b[1;32m      8\u001b[0m \u001b[0;31m#     ticker = ''\u001b[0m\u001b[0;34m\u001b[0m\u001b[0;34m\u001b[0m\u001b[0m\n\u001b[1;32m      9\u001b[0m     \u001b[0mprint\u001b[0m\u001b[0;34m(\u001b[0m\u001b[0mticker\u001b[0m\u001b[0;34m)\u001b[0m\u001b[0;34m\u001b[0m\u001b[0m\n\u001b[0;32m---> 10\u001b[0;31m     \u001b[0mdat\u001b[0m \u001b[0;34m=\u001b[0m \u001b[0mapp\u001b[0m\u001b[0;34m.\u001b[0m\u001b[0mget_daily_adjusted\u001b[0m\u001b[0;34m(\u001b[0m\u001b[0;34m'NSE:'\u001b[0m\u001b[0;34m+\u001b[0m\u001b[0mticker\u001b[0m\u001b[0;34m.\u001b[0m\u001b[0mupper\u001b[0m\u001b[0;34m(\u001b[0m\u001b[0;34m)\u001b[0m\u001b[0;34m,\u001b[0m \u001b[0moutputsize\u001b[0m\u001b[0;34m=\u001b[0m\u001b[0;34m'compact'\u001b[0m\u001b[0;34m)\u001b[0m\u001b[0;34m\u001b[0m\u001b[0m\n\u001b[0m\u001b[1;32m     11\u001b[0m     \u001b[0msaveDataInArchive\u001b[0m\u001b[0;34m(\u001b[0m\u001b[0mdat\u001b[0m\u001b[0;34m,\u001b[0m\u001b[0mticker\u001b[0m\u001b[0;34m)\u001b[0m\u001b[0;34m\u001b[0m\u001b[0m\n",
      "\u001b[0;32m~/anaconda3/lib/python3.6/site-packages/alpha_vantage/alphavantage.py\u001b[0m in \u001b[0;36m_format_wrapper\u001b[0;34m(self, *args, **kwargs)\u001b[0m\n\u001b[1;32m    176\u001b[0m             \u001b[0;32mif\u001b[0m \u001b[0;34m'json'\u001b[0m \u001b[0;32min\u001b[0m \u001b[0mself\u001b[0m\u001b[0;34m.\u001b[0m\u001b[0moutput_format\u001b[0m\u001b[0;34m.\u001b[0m\u001b[0mlower\u001b[0m\u001b[0;34m(\u001b[0m\u001b[0;34m)\u001b[0m \u001b[0;32mor\u001b[0m \u001b[0;34m'pandas'\u001b[0m\u001b[0;31m \u001b[0m\u001b[0;31m\\\u001b[0m\u001b[0;34m\u001b[0m\u001b[0m\n\u001b[1;32m    177\u001b[0m                     \u001b[0;32min\u001b[0m \u001b[0mself\u001b[0m\u001b[0;34m.\u001b[0m\u001b[0moutput_format\u001b[0m\u001b[0;34m.\u001b[0m\u001b[0mlower\u001b[0m\u001b[0;34m(\u001b[0m\u001b[0;34m)\u001b[0m\u001b[0;34m:\u001b[0m\u001b[0;34m\u001b[0m\u001b[0m\n\u001b[0;32m--> 178\u001b[0;31m                 \u001b[0mdata\u001b[0m \u001b[0;34m=\u001b[0m \u001b[0mcall_response\u001b[0m\u001b[0;34m[\u001b[0m\u001b[0mdata_key\u001b[0m\u001b[0;34m]\u001b[0m\u001b[0;34m\u001b[0m\u001b[0m\n\u001b[0m\u001b[1;32m    179\u001b[0m                 \u001b[0;32mif\u001b[0m \u001b[0mmeta_data_key\u001b[0m \u001b[0;32mis\u001b[0m \u001b[0;32mnot\u001b[0m \u001b[0;32mNone\u001b[0m\u001b[0;34m:\u001b[0m\u001b[0;34m\u001b[0m\u001b[0m\n\u001b[1;32m    180\u001b[0m                     \u001b[0mmeta_data\u001b[0m \u001b[0;34m=\u001b[0m \u001b[0mcall_response\u001b[0m\u001b[0;34m[\u001b[0m\u001b[0mmeta_data_key\u001b[0m\u001b[0;34m]\u001b[0m\u001b[0;34m\u001b[0m\u001b[0m\n",
      "\u001b[0;31mKeyError\u001b[0m: 'Time Series (Daily)'"
     ]
    }
   ],
   "source": [
    "\n",
    "# from alpha_vantage.alphavantage import \n",
    "\n",
    "\n",
    "# app.get_intraday('GOOGL') \n",
    "li = ['bpcl','cipla','iolcp','sbicards','bajfinance']\n",
    "for ticker in li:\n",
    "#     ticker = ''\n",
    "    print(ticker)\n",
    "    dat = app.get_daily_adjusted('BSE:'+ticker.upper(), outputsize='compact')\n",
    "    saveDataInArchive(dat,ticker)"
   ]
  },
  {
   "cell_type": "code",
   "execution_count": 64,
   "metadata": {},
   "outputs": [],
   "source": [
    "dat = app.get_daily_adjusted('BSE:BPCL', outputsize='compact')"
   ]
  },
  {
   "cell_type": "code",
   "execution_count": 44,
   "metadata": {},
   "outputs": [],
   "source": [
    "saveDataInArchive(infy,'infy')"
   ]
  },
  {
   "cell_type": "code",
   "execution_count": 42,
   "metadata": {
    "collapsed": true
   },
   "outputs": [
    {
     "data": {
      "text/plain": [
       "(            1. open  2. high  3. low  4. close  5. adjusted close  6. volume  \\\n",
       " date                                                                           \n",
       " 2020-03-16   640.00   640.00  580.00    582.85           575.0209   927681.0   \n",
       " 2020-03-17   585.20   592.05  550.10    555.60           548.1370   967841.0   \n",
       " 2020-03-18   565.20   578.00  528.15    535.05           527.8630   673598.0   \n",
       " 2020-03-19   530.00   557.70  511.10    545.40           538.0740  2113081.0   \n",
       " 2020-03-20   554.00   617.00  549.65    584.95           577.0928  1824428.0   \n",
       " 2020-03-23   548.00   560.00  514.80    526.70           519.6252   724224.0   \n",
       " 2020-03-24   535.00   605.70  525.55    593.55           585.5772   629411.0   \n",
       " 2020-03-25   593.00   634.80  566.00    605.95           597.8107   553061.0   \n",
       " 2020-03-26   615.95   650.50  614.00    646.30           637.6187   497057.0   \n",
       " 2020-03-27   655.00   675.00  642.80    653.55           644.7713   745637.0   \n",
       " 2020-03-30   634.00   664.00  621.95    627.20           618.7753  1128539.0   \n",
       " 2020-03-31   645.50   661.95  634.75    640.30           631.6993  1706196.0   \n",
       " 2020-04-01   640.00   640.00  594.25    604.10           595.9855   825328.0   \n",
       " 2020-04-03   604.10   606.65  582.35    585.45           577.5861   327035.0   \n",
       " 2020-04-07   611.90   643.95  611.90    641.10           632.4885   418888.0   \n",
       " 2020-04-08   628.20   655.20  626.75    631.70           623.2148   588592.0   \n",
       " 2020-04-09   648.90   652.75  632.70    637.60           629.0355   547723.0   \n",
       " 2020-04-13   630.00   651.60  627.00    637.10           628.5422   274101.0   \n",
       " 2020-04-15   645.00   652.80  635.70    639.15           630.5648   794120.0   \n",
       " 2020-04-16   622.85   634.30  604.00    624.20           615.8156   402658.0   \n",
       " 2020-04-17   640.00   646.00  626.05    629.30           620.8470   221622.0   \n",
       " 2020-04-20   640.00   660.70  639.30    652.90           644.1301   455876.0   \n",
       " 2020-04-21   632.00   646.50  627.70    633.05           624.5466   265764.0   \n",
       " 2020-04-22   633.20   645.30  628.10    642.05           633.4258   166193.0   \n",
       " 2020-04-23   649.00   683.00  638.50    678.45           669.3369  1541355.0   \n",
       " 2020-04-24   674.40   674.90  655.65    658.30           649.4575   263300.0   \n",
       " 2020-04-27   660.00   680.85  660.00    664.25           655.3276   134910.0   \n",
       " 2020-04-28   673.00   676.65  653.65    661.05           652.1705   201758.0   \n",
       " 2020-04-29   667.80   681.70  658.10    677.70           668.5969   199318.0   \n",
       " 2020-04-30   696.00   719.80  696.00    716.20           706.5798   430782.0   \n",
       " ...             ...      ...     ...       ...                ...        ...   \n",
       " 2020-06-30   734.40   739.00  724.50    735.90           735.9000   203743.0   \n",
       " 2020-07-01   736.00   742.05  730.00    732.50           732.5000   363835.0   \n",
       " 2020-07-02   735.80   765.05  735.80    756.30           756.3000   534984.0   \n",
       " 2020-07-03   756.60   763.85  752.55    762.60           762.6000   151985.0   \n",
       " 2020-07-06   765.00   774.90  762.00    763.75           763.7500   441476.0   \n",
       " 2020-07-07   774.00   796.65  766.30    794.40           794.4000   564766.0   \n",
       " 2020-07-08   786.50   786.50  772.75    774.60           774.6000   212793.0   \n",
       " 2020-07-09   778.00   789.85  775.10    781.55           781.5500   186954.0   \n",
       " 2020-07-10   772.00   789.35  772.00    781.80           781.8000   220696.0   \n",
       " 2020-07-13   790.00   804.90  787.55    796.70           796.7000   275987.0   \n",
       " 2020-07-14   795.65   806.30  781.45    783.20           783.2000   367334.0   \n",
       " 2020-07-15   796.90   848.00  795.35    831.45           831.4500  1272970.0   \n",
       " 2020-07-16   900.00   952.00  890.00    910.90           910.9000  3327650.0   \n",
       " 2020-07-17   911.00   920.00  892.20    904.00           904.0000  1728207.0   \n",
       " 2020-07-20   904.00   945.00  904.00    933.55           933.5500   797602.0   \n",
       " 2020-07-21   945.90   949.40  929.35    936.70           936.7000   858147.0   \n",
       " 2020-07-22   940.00   940.00  911.55    919.40           919.4000   481341.0   \n",
       " 2020-07-23   916.00   916.55  900.65    908.85           908.8500   790412.0   \n",
       " 2020-07-24   904.70   925.35  903.95    922.60           922.6000   845525.0   \n",
       " 2020-07-27   922.45   952.45  918.60    947.95           947.9500   548113.0   \n",
       " 2020-07-28   947.95   967.20  941.90    962.75           962.7500   652792.0   \n",
       " 2020-07-29   953.45   959.60  943.75    953.85           953.8500   519229.0   \n",
       " 2020-07-30   960.00   972.50  958.65    961.85           961.8500   569279.0   \n",
       " 2020-07-31   965.00   986.00  953.40    966.25           966.2500   685429.0   \n",
       " 2020-08-03   962.80   965.00  947.75    957.35           957.3500   292771.0   \n",
       " 2020-08-04   959.70   970.00  941.05    950.10           950.1000   353882.0   \n",
       " 2020-08-05   950.25   960.65  938.50    944.60           944.6000   533690.0   \n",
       " 2020-08-06   950.00   974.55  942.75    969.20           969.2000   585867.0   \n",
       " 2020-08-07   970.85   970.85  949.00    950.75           950.7500   440768.0   \n",
       " 2020-08-10   950.75   956.65  945.60    951.10           951.1000   541207.0   \n",
       " \n",
       "             7. dividend amount  8. split coefficient  \n",
       " date                                                  \n",
       " 2020-03-16                 0.0                   1.0  \n",
       " 2020-03-17                 0.0                   1.0  \n",
       " 2020-03-18                 0.0                   1.0  \n",
       " 2020-03-19                 0.0                   1.0  \n",
       " 2020-03-20                 0.0                   1.0  \n",
       " 2020-03-23                 0.0                   1.0  \n",
       " 2020-03-24                 0.0                   1.0  \n",
       " 2020-03-25                 0.0                   1.0  \n",
       " 2020-03-26                 0.0                   1.0  \n",
       " 2020-03-27                 0.0                   1.0  \n",
       " 2020-03-30                 0.0                   1.0  \n",
       " 2020-03-31                 0.0                   1.0  \n",
       " 2020-04-01                 0.0                   1.0  \n",
       " 2020-04-03                 0.0                   1.0  \n",
       " 2020-04-07                 0.0                   1.0  \n",
       " 2020-04-08                 0.0                   1.0  \n",
       " 2020-04-09                 0.0                   1.0  \n",
       " 2020-04-13                 0.0                   1.0  \n",
       " 2020-04-15                 0.0                   1.0  \n",
       " 2020-04-16                 0.0                   1.0  \n",
       " 2020-04-17                 0.0                   1.0  \n",
       " 2020-04-20                 0.0                   1.0  \n",
       " 2020-04-21                 0.0                   1.0  \n",
       " 2020-04-22                 0.0                   1.0  \n",
       " 2020-04-23                 0.0                   1.0  \n",
       " 2020-04-24                 0.0                   1.0  \n",
       " 2020-04-27                 0.0                   1.0  \n",
       " 2020-04-28                 0.0                   1.0  \n",
       " 2020-04-29                 0.0                   1.0  \n",
       " 2020-04-30                 0.0                   1.0  \n",
       " ...                        ...                   ...  \n",
       " 2020-06-30                 0.0                   1.0  \n",
       " 2020-07-01                 0.0                   1.0  \n",
       " 2020-07-02                 0.0                   1.0  \n",
       " 2020-07-03                 0.0                   1.0  \n",
       " 2020-07-06                 0.0                   1.0  \n",
       " 2020-07-07                 0.0                   1.0  \n",
       " 2020-07-08                 0.0                   1.0  \n",
       " 2020-07-09                 0.0                   1.0  \n",
       " 2020-07-10                 0.0                   1.0  \n",
       " 2020-07-13                 0.0                   1.0  \n",
       " 2020-07-14                 0.0                   1.0  \n",
       " 2020-07-15                 0.0                   1.0  \n",
       " 2020-07-16                 0.0                   1.0  \n",
       " 2020-07-17                 0.0                   1.0  \n",
       " 2020-07-20                 0.0                   1.0  \n",
       " 2020-07-21                 0.0                   1.0  \n",
       " 2020-07-22                 0.0                   1.0  \n",
       " 2020-07-23                 0.0                   1.0  \n",
       " 2020-07-24                 0.0                   1.0  \n",
       " 2020-07-27                 0.0                   1.0  \n",
       " 2020-07-28                 0.0                   1.0  \n",
       " 2020-07-29                 0.0                   1.0  \n",
       " 2020-07-30                 0.0                   1.0  \n",
       " 2020-07-31                 0.0                   1.0  \n",
       " 2020-08-03                 0.0                   1.0  \n",
       " 2020-08-04                 0.0                   1.0  \n",
       " 2020-08-05                 0.0                   1.0  \n",
       " 2020-08-06                 0.0                   1.0  \n",
       " 2020-08-07                 0.0                   1.0  \n",
       " 2020-08-10                 0.0                   1.0  \n",
       " \n",
       " [100 rows x 8 columns],\n",
       " {'1. Information': 'Daily Time Series with Splits and Dividend Events',\n",
       "  '2. Symbol': 'BSE:INFY',\n",
       "  '3. Last Refreshed': '2020-08-10',\n",
       "  '4. Output Size': 'Compact',\n",
       "  '5. Time Zone': 'US/Eastern'})"
      ]
     },
     "execution_count": 42,
     "metadata": {},
     "output_type": "execute_result"
    }
   ],
   "source": [
    "infy"
   ]
  },
  {
   "cell_type": "code",
   "execution_count": 15,
   "metadata": {},
   "outputs": [],
   "source": [
    "d = app.get_intraday('GOOGL')"
   ]
  },
  {
   "cell_type": "code",
   "execution_count": 21,
   "metadata": {},
   "outputs": [],
   "source": [
    "d[0].columns = ['open','high','low','close','volume']"
   ]
  },
  {
   "cell_type": "code",
   "execution_count": 27,
   "metadata": {},
   "outputs": [
    {
     "data": {
      "text/plain": [
       "<matplotlib.axes._subplots.AxesSubplot at 0x7fd333518ef0>"
      ]
     },
     "execution_count": 27,
     "metadata": {},
     "output_type": "execute_result"
    },
    {
     "data": {
      "image/png": "[encoded data removed]",
      "text/plain": [
       "<Figure size 432x288 with 1 Axes>"
      ]
     },
     "metadata": {},
     "output_type": "display_data"
    }
   ],
   "source": [
    "d[0]['close'].plot()"
   ]
  },
  {
   "cell_type": "code",
   "execution_count": 46,
   "metadata": {},
   "outputs": [
    {
     "name": "stdout",
     "output_type": "stream",
     "text": [
      "Collecting bsedata\n",
      "  Downloading bsedata-0.4.0-py3-none-any.whl (15 kB)\n",
      "Requirement already satisfied: requests in /home/alvin/anaconda3/lib/python3.6/site-packages (from bsedata) (2.24.0)\n",
      "Requirement already satisfied: beautifulsoup4 in /home/alvin/anaconda3/lib/python3.6/site-packages (from bsedata) (4.9.1)\n",
      "Requirement already satisfied: lxml in /home/alvin/anaconda3/lib/python3.6/site-packages (from bsedata) (4.2.1)\n",
      "Requirement already satisfied: idna<3,>=2.5 in /home/alvin/anaconda3/lib/python3.6/site-packages (from requests->bsedata) (2.6)\n",
      "Requirement already satisfied: chardet<4,>=3.0.2 in /home/alvin/anaconda3/lib/python3.6/site-packages (from requests->bsedata) (3.0.4)\n",
      "Requirement already satisfied: certifi>=2017.4.17 in /home/alvin/anaconda3/lib/python3.6/site-packages (from requests->bsedata) (2018.4.16)\n",
      "Requirement already satisfied: urllib3!=1.25.0,!=1.25.1,<1.26,>=1.21.1 in /home/alvin/anaconda3/lib/python3.6/site-packages (from requests->bsedata) (1.22)\n",
      "Requirement already satisfied: soupsieve>1.2 in /home/alvin/anaconda3/lib/python3.6/site-packages (from beautifulsoup4->bsedata) (2.0.1)\n",
      "Installing collected packages: bsedata\n",
      "Successfully installed bsedata-0.4.0\n"
     ]
    }
   ],
   "source": [
    "!pip install bsedata"
   ]
  },
  {
   "cell_type": "code",
   "execution_count": 56,
   "metadata": {},
   "outputs": [],
   "source": [
    "from bsedata.bse import BSE\n",
    "from pprint import pprint"
   ]
  },
  {
   "cell_type": "code",
   "execution_count": 57,
   "metadata": {},
   "outputs": [],
   "source": [
    "b = BSE()"
   ]
  },
  {
   "cell_type": "code",
   "execution_count": 58,
   "metadata": {},
   "outputs": [
    {
     "name": "stdout",
     "output_type": "stream",
     "text": [
      "[{'LTP': '1,925.60',\n",
      "  'change': '233.05',\n",
      "  'pChange': '13.77',\n",
      "  'scripCode': '532156',\n",
      "  'securityID': 'VAIBHAVGBL'},\n",
      " {'LTP': '503.70',\n",
      "  'change': '54.00',\n",
      "  'pChange': '12.01',\n",
      "  'scripCode': '505355',\n",
      "  'securityID': 'NESCO'},\n",
      " {'LTP': '1,910.55',\n",
      "  'change': '184.20',\n",
      "  'pChange': '10.67',\n",
      "  'scripCode': '509557',\n",
      "  'securityID': 'GARFIBRES'},\n",
      " {'LTP': '98.00',\n",
      "  'change': '8.90',\n",
      "  'pChange': '9.99',\n",
      "  'scripCode': '522275',\n",
      "  'securityID': 'GET&D'},\n",
      " {'LTP': '63.20',\n",
      "  'change': '5.70',\n",
      "  'pChange': '9.91',\n",
      "  'scripCode': '532832',\n",
      "  'securityID': 'IBREALEST'}]\n"
     ]
    }
   ],
   "source": [
    "pprint(b.topGainers())"
   ]
  },
  {
   "cell_type": "code",
   "execution_count": 5,
   "metadata": {},
   "outputs": [],
   "source": [
    "# Test\n",
    "#Join Pathname"
   ]
  },
  {
   "cell_type": "code",
   "execution_count": 18,
   "metadata": {},
   "outputs": [],
   "source": [
    "d = {'name':['pan'],'pow':[34]}"
   ]
  },
  {
   "cell_type": "code",
   "execution_count": 19,
   "metadata": {},
   "outputs": [],
   "source": [
    "import pandas as pd\n"
   ]
  },
  {
   "cell_type": "code",
   "execution_count": 20,
   "metadata": {},
   "outputs": [],
   "source": [
    "df = pd.DataFrame.from_dict(d)"
   ]
  },
  {
   "cell_type": "code",
   "execution_count": 21,
   "metadata": {},
   "outputs": [
    {
     "data": {
      "text/html": [
       "<div>\n",
       "<style scoped>\n",
       "    .dataframe tbody tr th:only-of-type {\n",
       "        vertical-align: middle;\n",
       "    }\n",
       "\n",
       "    .dataframe tbody tr th {\n",
       "        vertical-align: top;\n",
       "    }\n",
       "\n",
       "    .dataframe thead th {\n",
       "        text-align: right;\n",
       "    }\n",
       "</style>\n",
       "<table border=\"1\" class=\"dataframe\">\n",
       "  <thead>\n",
       "    <tr style=\"text-align: right;\">\n",
       "      <th></th>\n",
       "      <th>name</th>\n",
       "      <th>pow</th>\n",
       "    </tr>\n",
       "  </thead>\n",
       "  <tbody>\n",
       "    <tr>\n",
       "      <th>0</th>\n",
       "      <td>pan</td>\n",
       "      <td>34</td>\n",
       "    </tr>\n",
       "  </tbody>\n",
       "</table>\n",
       "</div>"
      ],
      "text/plain": [
       "  name  pow\n",
       "0  pan   34"
      ]
     },
     "execution_count": 21,
     "metadata": {},
     "output_type": "execute_result"
    }
   ],
   "source": [
    "df"
   ]
  },
  {
   "cell_type": "code",
   "execution_count": 22,
   "metadata": {},
   "outputs": [],
   "source": [
    "dic = {'name':'kaj','pow':78}"
   ]
  },
  {
   "cell_type": "code",
   "execution_count": 26,
   "metadata": {},
   "outputs": [
    {
     "data": {
      "text/html": [
       "<div>\n",
       "<style scoped>\n",
       "    .dataframe tbody tr th:only-of-type {\n",
       "        vertical-align: middle;\n",
       "    }\n",
       "\n",
       "    .dataframe tbody tr th {\n",
       "        vertical-align: top;\n",
       "    }\n",
       "\n",
       "    .dataframe thead th {\n",
       "        text-align: right;\n",
       "    }\n",
       "</style>\n",
       "<table border=\"1\" class=\"dataframe\">\n",
       "  <thead>\n",
       "    <tr style=\"text-align: right;\">\n",
       "      <th></th>\n",
       "      <th>0</th>\n",
       "      <th>1</th>\n",
       "    </tr>\n",
       "  </thead>\n",
       "  <tbody>\n",
       "    <tr>\n",
       "      <th>0</th>\n",
       "      <td>name</td>\n",
       "      <td>kaj</td>\n",
       "    </tr>\n",
       "    <tr>\n",
       "      <th>1</th>\n",
       "      <td>pow</td>\n",
       "      <td>78</td>\n",
       "    </tr>\n",
       "  </tbody>\n",
       "</table>\n",
       "</div>"
      ],
      "text/plain": [
       "      0    1\n",
       "0  name  kaj\n",
       "1   pow   78"
      ]
     },
     "execution_count": 26,
     "metadata": {},
     "output_type": "execute_result"
    }
   ],
   "source": [
    "pd.DataFrame(list(dic.items()))"
   ]
  },
  {
   "cell_type": "code",
   "execution_count": 25,
   "metadata": {},
   "outputs": [
    {
     "name": "stdout",
     "output_type": "stream",
     "text": [
      "\u001b[31mERROR: Could not find a version that satisfies the requirement pnadas (from versions: none)\u001b[0m\r\n",
      "\u001b[31mERROR: No matching distribution found for pnadas\u001b[0m\r\n"
     ]
    }
   ],
   "source": [
    "# !pip install pnadas"
   ]
  },
  {
   "cell_type": "code",
   "execution_count": null,
   "metadata": {},
   "outputs": [],
   "source": []
  }
 ],
 "metadata": {
  "colab": {
   "authorship_tag": "ABX9TyNmQGBFH+Z4CLRIYvpTG4bA",
   "collapsed_sections": [],
   "name": "stockBoard.ipynb",
   "provenance": []
  },
  "kernelspec": {
   "display_name": "Python 3",
   "language": "python",
   "name": "python3"
  },
  "language_info": {
   "codemirror_mode": {
    "name": "ipython",
    "version": 3
   },
   "file_extension": ".py",
   "mimetype": "text/x-python",
   "name": "python",
   "nbconvert_exporter": "python",
   "pygments_lexer": "ipython3",
   "version": "3.9.4"
  }
 },
 "nbformat": 4,
 "nbformat_minor": 1
}
