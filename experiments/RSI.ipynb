{
 "cells": [
  {
   "cell_type": "code",
   "execution_count": 1,
   "metadata": {},
   "outputs": [],
   "source": [
    "import yfinance\n",
    "import numpy as np\n",
    "import pandas as pd\n"
   ]
  },
  {
   "cell_type": "code",
   "execution_count": 37,
   "metadata": {},
   "outputs": [
    {
     "name": "stdout",
     "output_type": "stream",
     "text": [
      "[*********************100%***********************]  1 of 1 completed\n"
     ]
    }
   ],
   "source": [
    "TICKER = \"INFY\"\n",
    "data = yfinance.download(TICKER+\".NS\", period=\"8mo\")"
   ]
  },
  {
   "cell_type": "code",
   "execution_count": 38,
   "metadata": {},
   "outputs": [],
   "source": [
    "# ! pip install matplotlib"
   ]
  },
  {
   "cell_type": "code",
   "execution_count": 40,
   "metadata": {},
   "outputs": [],
   "source": [
    "data.columns = ['open', 'high', 'low', 'close', 'adj close', 'volume']"
   ]
  },
  {
   "cell_type": "code",
   "execution_count": 41,
   "metadata": {},
   "outputs": [],
   "source": [
    "d = data['close']"
   ]
  },
  {
   "cell_type": "code",
   "execution_count": 23,
   "metadata": {},
   "outputs": [],
   "source": [
    "from ta.momentum import RSIIndicator"
   ]
  },
  {
   "cell_type": "code",
   "execution_count": null,
   "metadata": {},
   "outputs": [],
   "source": [
    "RSIIndicator(window=14,)"
   ]
  },
  {
   "cell_type": "code",
   "execution_count": 60,
   "metadata": {},
   "outputs": [
    {
     "data": {
      "text/plain": [
       "0.22018290958232514"
      ]
     },
     "execution_count": 60,
     "metadata": {},
     "output_type": "execute_result"
    }
   ],
   "source": [
    "start = 63.638\n",
    "end = 77.65\n",
    "(end-start)/start"
   ]
  },
  {
   "cell_type": "code",
   "execution_count": 28,
   "metadata": {},
   "outputs": [],
   "source": [
    "rsi_indicator = RSIIndicator(data['close'], 14)\n",
    "data['RSI'] = rsi_indicator.rsi()"
   ]
  },
  {
   "cell_type": "code",
   "execution_count": 61,
   "metadata": {},
   "outputs": [],
   "source": [
    "import numpy as np\n",
    "import pandas as pd\n",
    "from ta.momentum import RSIIndicator\n",
    "np.random.seed(100)\n",
    "class RSIStrategy:\n",
    "    def __init__(self):\n",
    "        self.overbought = 70\n",
    "        self.oversold = 30\n",
    "\n",
    "    def run(self,df):\n",
    "        rsi_indicator = RSIIndicator(df['close'], 14)\n",
    "        df['RSI'] = rsi_indicator.rsi() # added a column with RSI osscilator\n",
    "        \n",
    "        res = []\n",
    "        current_stock = 0\n",
    "        lim = 100\n",
    "        for i in range(len(df)):\n",
    "            frame = df.iloc[i]\n",
    "            d = {}\n",
    "            d[\"timestamp\"] = frame['timestamp']\n",
    "#             print(\"fram rsi \",frame['RSI'])\n",
    "            if frame['RSI'] <= self.oversold:\n",
    "                d[\"actions\"] = 'buy'\n",
    "                d[\"quantity\"] = np.random.randint(5,lim,1)[0]\n",
    "                current_stock += d[\"quantity\"]\n",
    "            \n",
    "            elif frame['RSI'] >= self.overbought and current_stock >= lim:\n",
    "                d[\"actions\"] = 'sell'\n",
    "                d[\"quantity\"] = np.random.randint(5,current_stock*0.5,1)[0]\n",
    "                current_stock -= d[\"quantity\"]\n",
    "                \n",
    "            else:\n",
    "                continue  \n",
    "            res.append(d)\n",
    "\n",
    "        return res\n",
    "\n",
    "rs = RSIStrategy()\n",
    "run = rs.run"
   ]
  },
  {
   "cell_type": "code",
   "execution_count": 62,
   "metadata": {},
   "outputs": [
    {
     "data": {
      "text/html": [
       "<div>\n",
       "<style scoped>\n",
       "    .dataframe tbody tr th:only-of-type {\n",
       "        vertical-align: middle;\n",
       "    }\n",
       "\n",
       "    .dataframe tbody tr th {\n",
       "        vertical-align: top;\n",
       "    }\n",
       "\n",
       "    .dataframe thead th {\n",
       "        text-align: right;\n",
       "    }\n",
       "</style>\n",
       "<table border=\"1\" class=\"dataframe\">\n",
       "  <thead>\n",
       "    <tr style=\"text-align: right;\">\n",
       "      <th></th>\n",
       "      <th>open</th>\n",
       "      <th>high</th>\n",
       "      <th>low</th>\n",
       "      <th>close</th>\n",
       "      <th>adj close</th>\n",
       "      <th>volume</th>\n",
       "      <th>RSI</th>\n",
       "    </tr>\n",
       "    <tr>\n",
       "      <th>Date</th>\n",
       "      <th></th>\n",
       "      <th></th>\n",
       "      <th></th>\n",
       "      <th></th>\n",
       "      <th></th>\n",
       "      <th></th>\n",
       "      <th></th>\n",
       "    </tr>\n",
       "  </thead>\n",
       "  <tbody>\n",
       "    <tr>\n",
       "      <th>2020-10-08</th>\n",
       "      <td>1090.000000</td>\n",
       "      <td>1124.000000</td>\n",
       "      <td>1088.400024</td>\n",
       "      <td>1093.699951</td>\n",
       "      <td>1070.523682</td>\n",
       "      <td>21482613</td>\n",
       "      <td>NaN</td>\n",
       "    </tr>\n",
       "    <tr>\n",
       "      <th>2020-10-09</th>\n",
       "      <td>1095.099976</td>\n",
       "      <td>1113.300049</td>\n",
       "      <td>1088.449951</td>\n",
       "      <td>1106.800049</td>\n",
       "      <td>1083.346069</td>\n",
       "      <td>10567867</td>\n",
       "      <td>NaN</td>\n",
       "    </tr>\n",
       "    <tr>\n",
       "      <th>2020-10-12</th>\n",
       "      <td>1123.000000</td>\n",
       "      <td>1140.000000</td>\n",
       "      <td>1112.099976</td>\n",
       "      <td>1132.099976</td>\n",
       "      <td>1108.109863</td>\n",
       "      <td>14633537</td>\n",
       "      <td>NaN</td>\n",
       "    </tr>\n",
       "    <tr>\n",
       "      <th>2020-10-13</th>\n",
       "      <td>1135.550049</td>\n",
       "      <td>1166.050049</td>\n",
       "      <td>1135.550049</td>\n",
       "      <td>1157.800049</td>\n",
       "      <td>1133.265503</td>\n",
       "      <td>17523825</td>\n",
       "      <td>NaN</td>\n",
       "    </tr>\n",
       "    <tr>\n",
       "      <th>2020-10-14</th>\n",
       "      <td>1162.000000</td>\n",
       "      <td>1164.900024</td>\n",
       "      <td>1131.099976</td>\n",
       "      <td>1137.000000</td>\n",
       "      <td>1112.906128</td>\n",
       "      <td>16649573</td>\n",
       "      <td>NaN</td>\n",
       "    </tr>\n",
       "    <tr>\n",
       "      <th>...</th>\n",
       "      <td>...</td>\n",
       "      <td>...</td>\n",
       "      <td>...</td>\n",
       "      <td>...</td>\n",
       "      <td>...</td>\n",
       "      <td>...</td>\n",
       "      <td>...</td>\n",
       "    </tr>\n",
       "    <tr>\n",
       "      <th>2021-06-02</th>\n",
       "      <td>1380.750000</td>\n",
       "      <td>1391.949951</td>\n",
       "      <td>1365.000000</td>\n",
       "      <td>1378.650024</td>\n",
       "      <td>1378.650024</td>\n",
       "      <td>9272276</td>\n",
       "      <td>55.493382</td>\n",
       "    </tr>\n",
       "    <tr>\n",
       "      <th>2021-06-03</th>\n",
       "      <td>1388.099976</td>\n",
       "      <td>1399.000000</td>\n",
       "      <td>1377.050049</td>\n",
       "      <td>1389.650024</td>\n",
       "      <td>1389.650024</td>\n",
       "      <td>5115645</td>\n",
       "      <td>59.372429</td>\n",
       "    </tr>\n",
       "    <tr>\n",
       "      <th>2021-06-04</th>\n",
       "      <td>1393.949951</td>\n",
       "      <td>1396.900024</td>\n",
       "      <td>1377.650024</td>\n",
       "      <td>1385.650024</td>\n",
       "      <td>1385.650024</td>\n",
       "      <td>4194328</td>\n",
       "      <td>57.388257</td>\n",
       "    </tr>\n",
       "    <tr>\n",
       "      <th>2021-06-07</th>\n",
       "      <td>1391.000000</td>\n",
       "      <td>1392.000000</td>\n",
       "      <td>1377.300049</td>\n",
       "      <td>1389.650024</td>\n",
       "      <td>1389.650024</td>\n",
       "      <td>5154576</td>\n",
       "      <td>58.887117</td>\n",
       "    </tr>\n",
       "    <tr>\n",
       "      <th>2021-06-08</th>\n",
       "      <td>1396.000000</td>\n",
       "      <td>1421.750000</td>\n",
       "      <td>1395.550049</td>\n",
       "      <td>1412.949951</td>\n",
       "      <td>1412.949951</td>\n",
       "      <td>7358091</td>\n",
       "      <td>66.397844</td>\n",
       "    </tr>\n",
       "  </tbody>\n",
       "</table>\n",
       "<p>164 rows × 7 columns</p>\n",
       "</div>"
      ],
      "text/plain": [
       "                   open         high          low        close    adj close  \\\n",
       "Date                                                                          \n",
       "2020-10-08  1090.000000  1124.000000  1088.400024  1093.699951  1070.523682   \n",
       "2020-10-09  1095.099976  1113.300049  1088.449951  1106.800049  1083.346069   \n",
       "2020-10-12  1123.000000  1140.000000  1112.099976  1132.099976  1108.109863   \n",
       "2020-10-13  1135.550049  1166.050049  1135.550049  1157.800049  1133.265503   \n",
       "2020-10-14  1162.000000  1164.900024  1131.099976  1137.000000  1112.906128   \n",
       "...                 ...          ...          ...          ...          ...   \n",
       "2021-06-02  1380.750000  1391.949951  1365.000000  1378.650024  1378.650024   \n",
       "2021-06-03  1388.099976  1399.000000  1377.050049  1389.650024  1389.650024   \n",
       "2021-06-04  1393.949951  1396.900024  1377.650024  1385.650024  1385.650024   \n",
       "2021-06-07  1391.000000  1392.000000  1377.300049  1389.650024  1389.650024   \n",
       "2021-06-08  1396.000000  1421.750000  1395.550049  1412.949951  1412.949951   \n",
       "\n",
       "              volume        RSI  \n",
       "Date                             \n",
       "2020-10-08  21482613        NaN  \n",
       "2020-10-09  10567867        NaN  \n",
       "2020-10-12  14633537        NaN  \n",
       "2020-10-13  17523825        NaN  \n",
       "2020-10-14  16649573        NaN  \n",
       "...              ...        ...  \n",
       "2021-06-02   9272276  55.493382  \n",
       "2021-06-03   5115645  59.372429  \n",
       "2021-06-04   4194328  57.388257  \n",
       "2021-06-07   5154576  58.887117  \n",
       "2021-06-08   7358091  66.397844  \n",
       "\n",
       "[164 rows x 7 columns]"
      ]
     },
     "execution_count": 62,
     "metadata": {},
     "output_type": "execute_result"
    }
   ],
   "source": [
    "data"
   ]
  },
  {
   "cell_type": "code",
   "execution_count": 63,
   "metadata": {},
   "outputs": [
    {
     "ename": "KeyError",
     "evalue": "'timestamp'",
     "output_type": "error",
     "traceback": [
      "\u001b[0;31m---------------------------------------------------------------------------\u001b[0m",
      "\u001b[0;31mKeyError\u001b[0m                                  Traceback (most recent call last)",
      "\u001b[0;32m~/anaconda3/envs/dash/lib/python3.9/site-packages/pandas/core/indexes/base.py\u001b[0m in \u001b[0;36mget_loc\u001b[0;34m(self, key, method, tolerance)\u001b[0m\n\u001b[1;32m   3079\u001b[0m             \u001b[0;32mtry\u001b[0m\u001b[0;34m:\u001b[0m\u001b[0;34m\u001b[0m\u001b[0;34m\u001b[0m\u001b[0m\n\u001b[0;32m-> 3080\u001b[0;31m                 \u001b[0;32mreturn\u001b[0m \u001b[0mself\u001b[0m\u001b[0;34m.\u001b[0m\u001b[0m_engine\u001b[0m\u001b[0;34m.\u001b[0m\u001b[0mget_loc\u001b[0m\u001b[0;34m(\u001b[0m\u001b[0mcasted_key\u001b[0m\u001b[0;34m)\u001b[0m\u001b[0;34m\u001b[0m\u001b[0;34m\u001b[0m\u001b[0m\n\u001b[0m\u001b[1;32m   3081\u001b[0m             \u001b[0;32mexcept\u001b[0m \u001b[0mKeyError\u001b[0m \u001b[0;32mas\u001b[0m \u001b[0merr\u001b[0m\u001b[0;34m:\u001b[0m\u001b[0;34m\u001b[0m\u001b[0;34m\u001b[0m\u001b[0m\n",
      "\u001b[0;32mpandas/_libs/index.pyx\u001b[0m in \u001b[0;36mpandas._libs.index.IndexEngine.get_loc\u001b[0;34m()\u001b[0m\n",
      "\u001b[0;32mpandas/_libs/index.pyx\u001b[0m in \u001b[0;36mpandas._libs.index.IndexEngine.get_loc\u001b[0;34m()\u001b[0m\n",
      "\u001b[0;32mpandas/_libs/hashtable_class_helper.pxi\u001b[0m in \u001b[0;36mpandas._libs.hashtable.PyObjectHashTable.get_item\u001b[0;34m()\u001b[0m\n",
      "\u001b[0;32mpandas/_libs/hashtable_class_helper.pxi\u001b[0m in \u001b[0;36mpandas._libs.hashtable.PyObjectHashTable.get_item\u001b[0;34m()\u001b[0m\n",
      "\u001b[0;31mKeyError\u001b[0m: 'timestamp'",
      "\nThe above exception was the direct cause of the following exception:\n",
      "\u001b[0;31mKeyError\u001b[0m                                  Traceback (most recent call last)",
      "\u001b[0;32m<ipython-input-63-d34e3f954899>\u001b[0m in \u001b[0;36m<module>\u001b[0;34m\u001b[0m\n\u001b[0;32m----> 1\u001b[0;31m \u001b[0mrun\u001b[0m\u001b[0;34m(\u001b[0m\u001b[0mdata\u001b[0m\u001b[0;34m)\u001b[0m\u001b[0;34m\u001b[0m\u001b[0;34m\u001b[0m\u001b[0m\n\u001b[0m",
      "\u001b[0;32m<ipython-input-61-c914d9fb4dc7>\u001b[0m in \u001b[0;36mrun\u001b[0;34m(self, df)\u001b[0m\n\u001b[1;32m     18\u001b[0m             \u001b[0mframe\u001b[0m \u001b[0;34m=\u001b[0m \u001b[0mdf\u001b[0m\u001b[0;34m.\u001b[0m\u001b[0miloc\u001b[0m\u001b[0;34m[\u001b[0m\u001b[0mi\u001b[0m\u001b[0;34m]\u001b[0m\u001b[0;34m\u001b[0m\u001b[0;34m\u001b[0m\u001b[0m\n\u001b[1;32m     19\u001b[0m             \u001b[0md\u001b[0m \u001b[0;34m=\u001b[0m \u001b[0;34m{\u001b[0m\u001b[0;34m}\u001b[0m\u001b[0;34m\u001b[0m\u001b[0;34m\u001b[0m\u001b[0m\n\u001b[0;32m---> 20\u001b[0;31m             \u001b[0md\u001b[0m\u001b[0;34m[\u001b[0m\u001b[0;34m\"timestamp\"\u001b[0m\u001b[0;34m]\u001b[0m \u001b[0;34m=\u001b[0m \u001b[0mframe\u001b[0m\u001b[0;34m[\u001b[0m\u001b[0;34m'timestamp'\u001b[0m\u001b[0;34m]\u001b[0m\u001b[0;34m\u001b[0m\u001b[0;34m\u001b[0m\u001b[0m\n\u001b[0m\u001b[1;32m     21\u001b[0m \u001b[0;31m#             print(\"fram rsi \",frame['RSI'])\u001b[0m\u001b[0;34m\u001b[0m\u001b[0;34m\u001b[0m\u001b[0;34m\u001b[0m\u001b[0m\n\u001b[1;32m     22\u001b[0m             \u001b[0;32mif\u001b[0m \u001b[0mframe\u001b[0m\u001b[0;34m[\u001b[0m\u001b[0;34m'RSI'\u001b[0m\u001b[0;34m]\u001b[0m \u001b[0;34m<=\u001b[0m \u001b[0mself\u001b[0m\u001b[0;34m.\u001b[0m\u001b[0moversold\u001b[0m\u001b[0;34m:\u001b[0m\u001b[0;34m\u001b[0m\u001b[0;34m\u001b[0m\u001b[0m\n",
      "\u001b[0;32m~/anaconda3/envs/dash/lib/python3.9/site-packages/pandas/core/series.py\u001b[0m in \u001b[0;36m__getitem__\u001b[0;34m(self, key)\u001b[0m\n\u001b[1;32m    851\u001b[0m \u001b[0;34m\u001b[0m\u001b[0m\n\u001b[1;32m    852\u001b[0m         \u001b[0;32melif\u001b[0m \u001b[0mkey_is_scalar\u001b[0m\u001b[0;34m:\u001b[0m\u001b[0;34m\u001b[0m\u001b[0;34m\u001b[0m\u001b[0m\n\u001b[0;32m--> 853\u001b[0;31m             \u001b[0;32mreturn\u001b[0m \u001b[0mself\u001b[0m\u001b[0;34m.\u001b[0m\u001b[0m_get_value\u001b[0m\u001b[0;34m(\u001b[0m\u001b[0mkey\u001b[0m\u001b[0;34m)\u001b[0m\u001b[0;34m\u001b[0m\u001b[0;34m\u001b[0m\u001b[0m\n\u001b[0m\u001b[1;32m    854\u001b[0m \u001b[0;34m\u001b[0m\u001b[0m\n\u001b[1;32m    855\u001b[0m         \u001b[0;32mif\u001b[0m \u001b[0mis_hashable\u001b[0m\u001b[0;34m(\u001b[0m\u001b[0mkey\u001b[0m\u001b[0;34m)\u001b[0m\u001b[0;34m:\u001b[0m\u001b[0;34m\u001b[0m\u001b[0;34m\u001b[0m\u001b[0m\n",
      "\u001b[0;32m~/anaconda3/envs/dash/lib/python3.9/site-packages/pandas/core/series.py\u001b[0m in \u001b[0;36m_get_value\u001b[0;34m(self, label, takeable)\u001b[0m\n\u001b[1;32m    959\u001b[0m \u001b[0;34m\u001b[0m\u001b[0m\n\u001b[1;32m    960\u001b[0m         \u001b[0;31m# Similar to Index.get_value, but we do not fall back to positional\u001b[0m\u001b[0;34m\u001b[0m\u001b[0;34m\u001b[0m\u001b[0;34m\u001b[0m\u001b[0m\n\u001b[0;32m--> 961\u001b[0;31m         \u001b[0mloc\u001b[0m \u001b[0;34m=\u001b[0m \u001b[0mself\u001b[0m\u001b[0;34m.\u001b[0m\u001b[0mindex\u001b[0m\u001b[0;34m.\u001b[0m\u001b[0mget_loc\u001b[0m\u001b[0;34m(\u001b[0m\u001b[0mlabel\u001b[0m\u001b[0;34m)\u001b[0m\u001b[0;34m\u001b[0m\u001b[0;34m\u001b[0m\u001b[0m\n\u001b[0m\u001b[1;32m    962\u001b[0m         \u001b[0;32mreturn\u001b[0m \u001b[0mself\u001b[0m\u001b[0;34m.\u001b[0m\u001b[0mindex\u001b[0m\u001b[0;34m.\u001b[0m\u001b[0m_get_values_for_loc\u001b[0m\u001b[0;34m(\u001b[0m\u001b[0mself\u001b[0m\u001b[0;34m,\u001b[0m \u001b[0mloc\u001b[0m\u001b[0;34m,\u001b[0m \u001b[0mlabel\u001b[0m\u001b[0;34m)\u001b[0m\u001b[0;34m\u001b[0m\u001b[0;34m\u001b[0m\u001b[0m\n\u001b[1;32m    963\u001b[0m \u001b[0;34m\u001b[0m\u001b[0m\n",
      "\u001b[0;32m~/anaconda3/envs/dash/lib/python3.9/site-packages/pandas/core/indexes/base.py\u001b[0m in \u001b[0;36mget_loc\u001b[0;34m(self, key, method, tolerance)\u001b[0m\n\u001b[1;32m   3080\u001b[0m                 \u001b[0;32mreturn\u001b[0m \u001b[0mself\u001b[0m\u001b[0;34m.\u001b[0m\u001b[0m_engine\u001b[0m\u001b[0;34m.\u001b[0m\u001b[0mget_loc\u001b[0m\u001b[0;34m(\u001b[0m\u001b[0mcasted_key\u001b[0m\u001b[0;34m)\u001b[0m\u001b[0;34m\u001b[0m\u001b[0;34m\u001b[0m\u001b[0m\n\u001b[1;32m   3081\u001b[0m             \u001b[0;32mexcept\u001b[0m \u001b[0mKeyError\u001b[0m \u001b[0;32mas\u001b[0m \u001b[0merr\u001b[0m\u001b[0;34m:\u001b[0m\u001b[0;34m\u001b[0m\u001b[0;34m\u001b[0m\u001b[0m\n\u001b[0;32m-> 3082\u001b[0;31m                 \u001b[0;32mraise\u001b[0m \u001b[0mKeyError\u001b[0m\u001b[0;34m(\u001b[0m\u001b[0mkey\u001b[0m\u001b[0;34m)\u001b[0m \u001b[0;32mfrom\u001b[0m \u001b[0merr\u001b[0m\u001b[0;34m\u001b[0m\u001b[0;34m\u001b[0m\u001b[0m\n\u001b[0m\u001b[1;32m   3083\u001b[0m \u001b[0;34m\u001b[0m\u001b[0m\n\u001b[1;32m   3084\u001b[0m         \u001b[0;32mif\u001b[0m \u001b[0mtolerance\u001b[0m \u001b[0;32mis\u001b[0m \u001b[0;32mnot\u001b[0m \u001b[0;32mNone\u001b[0m\u001b[0;34m:\u001b[0m\u001b[0;34m\u001b[0m\u001b[0;34m\u001b[0m\u001b[0m\n",
      "\u001b[0;31mKeyError\u001b[0m: 'timestamp'"
     ]
    }
   ],
   "source": [
    "run(data)"
   ]
  },
  {
   "cell_type": "code",
   "execution_count": 64,
   "metadata": {},
   "outputs": [
    {
     "ename": "KeyError",
     "evalue": "'Open'",
     "output_type": "error",
     "traceback": [
      "\u001b[0;31m---------------------------------------------------------------------------\u001b[0m",
      "\u001b[0;31mKeyError\u001b[0m                                  Traceback (most recent call last)",
      "\u001b[0;32m~/anaconda3/envs/dash/lib/python3.9/site-packages/pandas/core/indexes/base.py\u001b[0m in \u001b[0;36mget_loc\u001b[0;34m(self, key, method, tolerance)\u001b[0m\n\u001b[1;32m   3079\u001b[0m             \u001b[0;32mtry\u001b[0m\u001b[0;34m:\u001b[0m\u001b[0;34m\u001b[0m\u001b[0;34m\u001b[0m\u001b[0m\n\u001b[0;32m-> 3080\u001b[0;31m                 \u001b[0;32mreturn\u001b[0m \u001b[0mself\u001b[0m\u001b[0;34m.\u001b[0m\u001b[0m_engine\u001b[0m\u001b[0;34m.\u001b[0m\u001b[0mget_loc\u001b[0m\u001b[0;34m(\u001b[0m\u001b[0mcasted_key\u001b[0m\u001b[0;34m)\u001b[0m\u001b[0;34m\u001b[0m\u001b[0;34m\u001b[0m\u001b[0m\n\u001b[0m\u001b[1;32m   3081\u001b[0m             \u001b[0;32mexcept\u001b[0m \u001b[0mKeyError\u001b[0m \u001b[0;32mas\u001b[0m \u001b[0merr\u001b[0m\u001b[0;34m:\u001b[0m\u001b[0;34m\u001b[0m\u001b[0;34m\u001b[0m\u001b[0m\n",
      "\u001b[0;32mpandas/_libs/index.pyx\u001b[0m in \u001b[0;36mpandas._libs.index.IndexEngine.get_loc\u001b[0;34m()\u001b[0m\n",
      "\u001b[0;32mpandas/_libs/index.pyx\u001b[0m in \u001b[0;36mpandas._libs.index.IndexEngine.get_loc\u001b[0;34m()\u001b[0m\n",
      "\u001b[0;32mpandas/_libs/hashtable_class_helper.pxi\u001b[0m in \u001b[0;36mpandas._libs.hashtable.PyObjectHashTable.get_item\u001b[0;34m()\u001b[0m\n",
      "\u001b[0;32mpandas/_libs/hashtable_class_helper.pxi\u001b[0m in \u001b[0;36mpandas._libs.hashtable.PyObjectHashTable.get_item\u001b[0;34m()\u001b[0m\n",
      "\u001b[0;31mKeyError\u001b[0m: 'Open'",
      "\nThe above exception was the direct cause of the following exception:\n",
      "\u001b[0;31mKeyError\u001b[0m                                  Traceback (most recent call last)",
      "\u001b[0;32m<ipython-input-64-c5021453ebe7>\u001b[0m in \u001b[0;36m<module>\u001b[0;34m\u001b[0m\n\u001b[1;32m      4\u001b[0m         \u001b[0;32mif\u001b[0m \u001b[0mrsi\u001b[0m\u001b[0;34m[\u001b[0m\u001b[0mstr\u001b[0m\u001b[0;34m(\u001b[0m\u001b[0mi\u001b[0m\u001b[0;34m)\u001b[0m\u001b[0;34m]\u001b[0m \u001b[0;34m<=\u001b[0m \u001b[0moversold\u001b[0m\u001b[0;34m:\u001b[0m\u001b[0;34m\u001b[0m\u001b[0;34m\u001b[0m\u001b[0m\n\u001b[1;32m      5\u001b[0m             \u001b[0mbuy_shares\u001b[0m \u001b[0;34m=\u001b[0m \u001b[0mrandint\u001b[0m\u001b[0;34m(\u001b[0m\u001b[0;36m1\u001b[0m\u001b[0;34m,\u001b[0m\u001b[0;36m10\u001b[0m\u001b[0;34m)\u001b[0m\u001b[0;34m\u001b[0m\u001b[0;34m\u001b[0m\u001b[0m\n\u001b[0;32m----> 6\u001b[0;31m             \u001b[0mcurr_price\u001b[0m \u001b[0;34m=\u001b[0m \u001b[0mdata\u001b[0m\u001b[0;34m.\u001b[0m\u001b[0miloc\u001b[0m\u001b[0;34m[\u001b[0m\u001b[0mi\u001b[0m\u001b[0;34m]\u001b[0m\u001b[0;34m[\u001b[0m\u001b[0;34m'Open'\u001b[0m\u001b[0;34m]\u001b[0m\u001b[0;34m\u001b[0m\u001b[0;34m\u001b[0m\u001b[0m\n\u001b[0m\u001b[1;32m      7\u001b[0m \u001b[0;31m#             profit -= curr_price*buy_shares\u001b[0m\u001b[0;34m\u001b[0m\u001b[0;34m\u001b[0m\u001b[0;34m\u001b[0m\u001b[0m\n\u001b[1;32m      8\u001b[0m             \u001b[0mtotalBuy\u001b[0m \u001b[0;34m+=\u001b[0m \u001b[0mcurr_price\u001b[0m\u001b[0;34m*\u001b[0m\u001b[0mbuy_shares\u001b[0m\u001b[0;34m\u001b[0m\u001b[0;34m\u001b[0m\u001b[0m\n",
      "\u001b[0;32m~/anaconda3/envs/dash/lib/python3.9/site-packages/pandas/core/series.py\u001b[0m in \u001b[0;36m__getitem__\u001b[0;34m(self, key)\u001b[0m\n\u001b[1;32m    851\u001b[0m \u001b[0;34m\u001b[0m\u001b[0m\n\u001b[1;32m    852\u001b[0m         \u001b[0;32melif\u001b[0m \u001b[0mkey_is_scalar\u001b[0m\u001b[0;34m:\u001b[0m\u001b[0;34m\u001b[0m\u001b[0;34m\u001b[0m\u001b[0m\n\u001b[0;32m--> 853\u001b[0;31m             \u001b[0;32mreturn\u001b[0m \u001b[0mself\u001b[0m\u001b[0;34m.\u001b[0m\u001b[0m_get_value\u001b[0m\u001b[0;34m(\u001b[0m\u001b[0mkey\u001b[0m\u001b[0;34m)\u001b[0m\u001b[0;34m\u001b[0m\u001b[0;34m\u001b[0m\u001b[0m\n\u001b[0m\u001b[1;32m    854\u001b[0m \u001b[0;34m\u001b[0m\u001b[0m\n\u001b[1;32m    855\u001b[0m         \u001b[0;32mif\u001b[0m \u001b[0mis_hashable\u001b[0m\u001b[0;34m(\u001b[0m\u001b[0mkey\u001b[0m\u001b[0;34m)\u001b[0m\u001b[0;34m:\u001b[0m\u001b[0;34m\u001b[0m\u001b[0;34m\u001b[0m\u001b[0m\n",
      "\u001b[0;32m~/anaconda3/envs/dash/lib/python3.9/site-packages/pandas/core/series.py\u001b[0m in \u001b[0;36m_get_value\u001b[0;34m(self, label, takeable)\u001b[0m\n\u001b[1;32m    959\u001b[0m \u001b[0;34m\u001b[0m\u001b[0m\n\u001b[1;32m    960\u001b[0m         \u001b[0;31m# Similar to Index.get_value, but we do not fall back to positional\u001b[0m\u001b[0;34m\u001b[0m\u001b[0;34m\u001b[0m\u001b[0;34m\u001b[0m\u001b[0m\n\u001b[0;32m--> 961\u001b[0;31m         \u001b[0mloc\u001b[0m \u001b[0;34m=\u001b[0m \u001b[0mself\u001b[0m\u001b[0;34m.\u001b[0m\u001b[0mindex\u001b[0m\u001b[0;34m.\u001b[0m\u001b[0mget_loc\u001b[0m\u001b[0;34m(\u001b[0m\u001b[0mlabel\u001b[0m\u001b[0;34m)\u001b[0m\u001b[0;34m\u001b[0m\u001b[0;34m\u001b[0m\u001b[0m\n\u001b[0m\u001b[1;32m    962\u001b[0m         \u001b[0;32mreturn\u001b[0m \u001b[0mself\u001b[0m\u001b[0;34m.\u001b[0m\u001b[0mindex\u001b[0m\u001b[0;34m.\u001b[0m\u001b[0m_get_values_for_loc\u001b[0m\u001b[0;34m(\u001b[0m\u001b[0mself\u001b[0m\u001b[0;34m,\u001b[0m \u001b[0mloc\u001b[0m\u001b[0;34m,\u001b[0m \u001b[0mlabel\u001b[0m\u001b[0;34m)\u001b[0m\u001b[0;34m\u001b[0m\u001b[0;34m\u001b[0m\u001b[0m\n\u001b[1;32m    963\u001b[0m \u001b[0;34m\u001b[0m\u001b[0m\n",
      "\u001b[0;32m~/anaconda3/envs/dash/lib/python3.9/site-packages/pandas/core/indexes/base.py\u001b[0m in \u001b[0;36mget_loc\u001b[0;34m(self, key, method, tolerance)\u001b[0m\n\u001b[1;32m   3080\u001b[0m                 \u001b[0;32mreturn\u001b[0m \u001b[0mself\u001b[0m\u001b[0;34m.\u001b[0m\u001b[0m_engine\u001b[0m\u001b[0;34m.\u001b[0m\u001b[0mget_loc\u001b[0m\u001b[0;34m(\u001b[0m\u001b[0mcasted_key\u001b[0m\u001b[0;34m)\u001b[0m\u001b[0;34m\u001b[0m\u001b[0;34m\u001b[0m\u001b[0m\n\u001b[1;32m   3081\u001b[0m             \u001b[0;32mexcept\u001b[0m \u001b[0mKeyError\u001b[0m \u001b[0;32mas\u001b[0m \u001b[0merr\u001b[0m\u001b[0;34m:\u001b[0m\u001b[0;34m\u001b[0m\u001b[0;34m\u001b[0m\u001b[0m\n\u001b[0;32m-> 3082\u001b[0;31m                 \u001b[0;32mraise\u001b[0m \u001b[0mKeyError\u001b[0m\u001b[0;34m(\u001b[0m\u001b[0mkey\u001b[0m\u001b[0;34m)\u001b[0m \u001b[0;32mfrom\u001b[0m \u001b[0merr\u001b[0m\u001b[0;34m\u001b[0m\u001b[0;34m\u001b[0m\u001b[0m\n\u001b[0m\u001b[1;32m   3083\u001b[0m \u001b[0;34m\u001b[0m\u001b[0m\n\u001b[1;32m   3084\u001b[0m         \u001b[0;32mif\u001b[0m \u001b[0mtolerance\u001b[0m \u001b[0;32mis\u001b[0m \u001b[0;32mnot\u001b[0m \u001b[0;32mNone\u001b[0m\u001b[0;34m:\u001b[0m\u001b[0;34m\u001b[0m\u001b[0;34m\u001b[0m\u001b[0m\n",
      "\u001b[0;31mKeyError\u001b[0m: 'Open'"
     ]
    }
   ],
   "source": [
    "for i in range(data.shape[0]):\n",
    "    if str(i) in rsi.keys():\n",
    "        #decide whether to buy, sell or stay put\n",
    "        if rsi[str(i)] <= oversold:\n",
    "            buy_shares = randint(1,10)\n",
    "            curr_price = data.iloc[i]['Open']\n",
    "#             profit -= curr_price*buy_shares\n",
    "            totalBuy += curr_price*buy_shares\n",
    "            shares += buy_shares\n",
    "            shares_bought += buy_shares\n",
    "            history.append((i, data.iloc[i].name, 'buy', buy_shares, shares))\n",
    "        elif rsi[str(i)] >= overbought:\n",
    "            if shares > 0:\n",
    "                sell_shares = randint(1, shares)\n",
    "                curr_price = data.iloc[i]['Open']\n",
    "#                 profit += curr_price*sell_shares\n",
    "                totalSell += curr_price*sell_shares\n",
    "                shares -= sell_shares\n",
    "                shares_sold += sell_shares\n",
    "                history.append((i, data.iloc[i].name, 'sell', sell_shares, shares))"
   ]
  },
  {
   "cell_type": "code",
   "execution_count": 30,
   "metadata": {},
   "outputs": [],
   "source": [
    "class RSI:\n",
    "    def __init__(self,window=14):\n",
    "        self.window = window\n",
    "        "
   ]
  },
  {
   "cell_type": "code",
   "execution_count": 14,
   "metadata": {},
   "outputs": [],
   "source": [
    "from random import randint\n",
    "import random\n",
    "\n",
    "random.seed(10)\n",
    "\n",
    "shares_bought = 0\n",
    "shares_sold = 0\n",
    "shares = 0\n",
    "history = []\n",
    "profit = 0\n",
    "overbought, oversold = 70,30\n",
    "totalBuy, totalSell = 0,0\n",
    "\n",
    "rs_val = []\n",
    "def getRelativeStrength(arr):\n",
    "    from functools import reduce\n",
    "    changes = [arr[i]-arr[i-1] for i in range(1,len(arr))]\n",
    "    close_up_sum = sum(c for c in changes if c > 0)/len(arr)\n",
    "    close_down_sum = sum(abs(c) for c in changes if c < 0)/len(arr)\n",
    "    \n",
    "    return close_up_sum/close_down_sum\n",
    "\n",
    "def getRelativeStrengthIndex(ds):\n",
    "    maxLen = ds.shape[0]\n",
    "    n_period = 15\n",
    "    rsind = {}\n",
    "    \n",
    "    for i in range(n_period, maxLen):\n",
    "        curr_date = str(ds.index[i])\n",
    "        rs = getRelativeStrength(ds.values[i-n_period:i])\n",
    "        rsind[str(i)] = 100 - (100/(1+rs))\n",
    "        rs_val.append([i, rs])\n",
    "    \n",
    "    return rsind\n",
    "rsi = getRelativeStrengthIndex(d)\n",
    "for i in range(data.shape[0]):\n",
    "    if str(i) in rsi.keys():\n",
    "        #decide whether to buy, sell or stay put\n",
    "        if rsi[str(i)] <= oversold:\n",
    "            buy_shares = randint(1,10)\n",
    "            curr_price = data.iloc[i]['Open']\n",
    "#             profit -= curr_price*buy_shares\n",
    "            totalBuy += curr_price*buy_shares\n",
    "            shares += buy_shares\n",
    "            shares_bought += buy_shares\n",
    "            history.append((i, data.iloc[i].name, 'buy', buy_shares, shares))\n",
    "        elif rsi[str(i)] >= overbought:\n",
    "            if shares > 0:\n",
    "                sell_shares = randint(1, shares)\n",
    "                curr_price = data.iloc[i]['Open']\n",
    "#                 profit += curr_price*sell_shares\n",
    "                totalSell += curr_price*sell_shares\n",
    "                shares -= sell_shares\n",
    "                shares_sold += sell_shares\n",
    "                history.append((i, data.iloc[i].name, 'sell', sell_shares, shares))\n",
    "\n",
    "totalProfit = totalSell - totalBuy"
   ]
  },
  {
   "cell_type": "code",
   "execution_count": 15,
   "metadata": {},
   "outputs": [
    {
     "data": {
      "text/plain": [
       "[(18, Timestamp('2020-11-03 00:00:00'), 'buy', 10, 10),\n",
       " (19, Timestamp('2020-11-04 00:00:00'), 'buy', 1, 11),\n",
       " (50, Timestamp('2020-12-21 00:00:00'), 'sell', 7, 4),\n",
       " (52, Timestamp('2020-12-23 00:00:00'), 'sell', 4, 0),\n",
       " (79, Timestamp('2021-02-02 00:00:00'), 'buy', 10, 10),\n",
       " (81, Timestamp('2021-02-04 00:00:00'), 'buy', 1, 11),\n",
       " (108, Timestamp('2021-03-16 00:00:00'), 'sell', 4, 7),\n",
       " (109, Timestamp('2021-03-17 00:00:00'), 'sell', 4, 3),\n",
       " (110, Timestamp('2021-03-18 00:00:00'), 'sell', 2, 1),\n",
       " (125, Timestamp('2021-04-12 00:00:00'), 'sell', 1, 0),\n",
       " (137, Timestamp('2021-04-30 00:00:00'), 'buy', 3, 3),\n",
       " (138, Timestamp('2021-05-03 00:00:00'), 'buy', 1, 4),\n",
       " (139, Timestamp('2021-05-04 00:00:00'), 'buy', 9, 13),\n",
       " (140, Timestamp('2021-05-05 00:00:00'), 'buy', 8, 21),\n",
       " (159, Timestamp('2021-06-02 00:00:00'), 'sell', 11, 10),\n",
       " (161, Timestamp('2021-06-04 00:00:00'), 'sell', 2, 8),\n",
       " (162, Timestamp('2021-06-07 00:00:00'), 'sell', 4, 4)]"
      ]
     },
     "execution_count": 15,
     "metadata": {},
     "output_type": "execute_result"
    }
   ],
   "source": [
    "history"
   ]
  },
  {
   "cell_type": "code",
   "execution_count": 16,
   "metadata": {},
   "outputs": [
    {
     "data": {
      "image/png": "[encoded data removed]",
      "text/plain": [
       "<Figure size 1440x720 with 1 Axes>"
      ]
     },
     "metadata": {},
     "output_type": "display_data"
    }
   ],
   "source": [
    "import matplotlib.pyplot as plt\n",
    "\n",
    "buy_plot = np.array([[h[1], data.iloc[h[0]]['Close'], h[-1]] for h in history if h[2] == 'buy'])\n",
    "sell_plot = np.array([[h[1], data.iloc[h[0]]['Close'], h[-1]] for h in history if h[2] == 'sell'])\n",
    "holding = shares*data.iloc[-1]['Close']\n",
    "\n",
    "plt.style.use('ggplot')\n",
    "plt.figure(figsize=(20,10))\n",
    "plt.plot(data['Close'].index, data['Close'].values, label=TICKER)\n",
    "plt.scatter(buy_plot[:,0], buy_plot[:,1], c='red')\n",
    "for i,s in enumerate(buy_plot[:,2]):\n",
    "    plt.annotate(str(s), (buy_plot[i,0],buy_plot[i,1]))\n",
    "plt.scatter(sell_plot[:,0], sell_plot[:,1], c='green')\n",
    "for i,s in enumerate(sell_plot[:,2]):\n",
    "    plt.annotate(str(s), (sell_plot[i,0],sell_plot[i,1]))\n",
    "plt.title(f\"Shares: {shares}  Investment: {totalBuy:.2f}  Sell: {totalSell:.2f}  Holding: {holding:.2f} Gain: {(holding+totalSell-totalBuy)/totalBuy*100:.2f}%\")\n",
    "plt.legend()\n",
    "plt.show()"
   ]
  },
  {
   "cell_type": "code",
   "execution_count": null,
   "metadata": {},
   "outputs": [],
   "source": []
  }
 ],
 "metadata": {
  "kernelspec": {
   "display_name": "Python 3",
   "language": "python",
   "name": "python3"
  },
  "language_info": {
   "codemirror_mode": {
    "name": "ipython",
    "version": 3
   },
   "file_extension": ".py",
   "mimetype": "text/x-python",
   "name": "python",
   "nbconvert_exporter": "python",
   "pygments_lexer": "ipython3",
   "version": "3.9.4"
  }
 },
 "nbformat": 4,
 "nbformat_minor": 4
}
